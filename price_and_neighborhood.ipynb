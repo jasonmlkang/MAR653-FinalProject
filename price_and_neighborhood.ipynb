{
  "nbformat": 4,
  "nbformat_minor": 0,
  "metadata": {
    "colab": {
      "name": "price_and_neighborhood.ipynb",
      "provenance": [],
      "authorship_tag": "ABX9TyM3e6bDJiQSRpvD5CkjlMnN"
    },
    "kernelspec": {
      "name": "python3",
      "display_name": "Python 3"
    }
  },
  "cells": [
    {
      "cell_type": "code",
      "metadata": {
        "id": "FFr7nzLxIGcY",
        "colab_type": "code",
        "colab": {}
      },
      "source": [
        ""
      ],
      "execution_count": 0,
      "outputs": []
    }
  ]
}
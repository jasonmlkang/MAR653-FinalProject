{
  "nbformat": 4,
  "nbformat_minor": 0,
  "metadata": {
    "colab": {
      "name": "price_and_neighborhood.ipynb",
      "provenance": [],
      "toc_visible": true,
      "authorship_tag": "ABX9TyMMcsh92leRxrNqbiT8ZIRc",
      "include_colab_link": true
    },
    "kernelspec": {
      "name": "python3",
      "display_name": "Python 3"
    }
  },
  "cells": [
    {
      "cell_type": "markdown",
      "metadata": {
        "id": "view-in-github",
        "colab_type": "text"
      },
      "source": [
        "<a href=\"https://colab.research.google.com/github/tbahng/MAR653-FinalProject/blob/jason/price_and_neighborhood.ipynb\" target=\"_parent\"><img src=\"https://colab.research.google.com/assets/colab-badge.svg\" alt=\"Open In Colab\"/></a>"
      ]
    },
    {
      "cell_type": "markdown",
      "metadata": {
        "id": "g2WzM1WtJ5eV",
        "colab_type": "text"
      },
      "source": [
        "# Abstract\n",
        "\n",
        "Find out how neighborhood can affect rental pricing"
      ]
    },
    {
      "cell_type": "markdown",
      "metadata": {
        "id": "f1qYjjORKPR2",
        "colab_type": "text"
      },
      "source": [
        "# Load Data\n",
        "\n",
        "Data files are stored on google drive."
      ]
    },
    {
      "cell_type": "code",
      "metadata": {
        "id": "8RKs572QKewY",
        "colab_type": "code",
        "colab": {
          "base_uri": "https://localhost:8080/",
          "height": 124
        },
        "outputId": "ee2b7f16-2496-4db6-a88f-48c856da6b8c"
      },
      "source": [
        "from google.colab import drive\n",
        "drive.mount('/content/drive')"
      ],
      "execution_count": 1,
      "outputs": [
        {
          "output_type": "stream",
          "text": [
            "Go to this URL in a browser: https://accounts.google.com/o/oauth2/auth?client_id=947318989803-6bn6qk8qdgf4n4g3pfee6491hc0brc4i.apps.googleusercontent.com&redirect_uri=urn%3aietf%3awg%3aoauth%3a2.0%3aoob&response_type=code&scope=email%20https%3a%2f%2fwww.googleapis.com%2fauth%2fdocs.test%20https%3a%2f%2fwww.googleapis.com%2fauth%2fdrive%20https%3a%2f%2fwww.googleapis.com%2fauth%2fdrive.photos.readonly%20https%3a%2f%2fwww.googleapis.com%2fauth%2fpeopleapi.readonly\n",
            "\n",
            "Enter your authorization code:\n",
            "··········\n",
            "Mounted at /content/drive\n"
          ],
          "name": "stdout"
        }
      ]
    },
    {
      "cell_type": "code",
      "metadata": {
        "id": "FFr7nzLxIGcY",
        "colab_type": "code",
        "colab": {
          "base_uri": "https://localhost:8080/",
          "height": 52
        },
        "outputId": "9c3a9aea-cd09-4b4c-e4bc-200c2e70d2c6"
      },
      "source": [
        "import pandas as pd\n",
        "import numpy as np\n",
        "\n",
        "file_path = '/content/drive/My Drive/MAR 653/Final Project/data/{}'\n",
        "\n",
        "# Listing data\n",
        "listings_summary_df = pd.read_csv(file_path.format('listings.csv'))\n",
        "listings_detail_df = pd.read_csv(file_path.format('listings.csv.gz'), compression='gzip')\n",
        "\n",
        "# Prizm data\n",
        "prizm_zipcode_df = pd.read_excel(file_path.format('prizm_attributes.xlsx'), sheet_name='zipcodes')\n",
        "prizm_attributes_df = pd.read_excel(file_path.format('prizm_attributes.xlsx'), sheet_name='attributes')\n",
        "prizm_zipcode_df.replace('', np.nan, inplace=True)\n",
        "prizm_zipcode_df.dropna(axis=0, inplace=True)\n",
        "\n",
        "import warnings\n",
        "warnings.filterwarnings('ignore')\n"
      ],
      "execution_count": 4,
      "outputs": [
        {
          "output_type": "stream",
          "text": [
            "/usr/local/lib/python3.6/dist-packages/IPython/core/interactiveshell.py:2718: DtypeWarning: Columns (61,62,94,95) have mixed types. Specify dtype option on import or set low_memory=False.\n",
            "  interactivity=interactivity, compiler=compiler, result=result)\n"
          ],
          "name": "stderr"
        }
      ]
    },
    {
      "cell_type": "markdown",
      "metadata": {
        "id": "6bgbV6DXLYFI",
        "colab_type": "text"
      },
      "source": [
        "# Data Transformation\n",
        "\n",
        "The output dataframe, **listings_neighbourhood_df**, shall contain the following columns: **price**, **price_normalized**, **bedrooms**, **beds**, **upper**, **upper_middle**, **lower_middle**, and **lower**."
      ]
    },
    {
      "cell_type": "code",
      "metadata": {
        "id": "0zpErxKCMeGm",
        "colab_type": "code",
        "colab": {}
      },
      "source": [
        "# Get price from listings_summary_df\n",
        "# Get zipcode, bedrooms, and beds from listing_detail_df\n",
        "import numpy as np\n",
        "\n",
        "listings_neighbourhood_df = listings_summary_df[['price']]\n",
        "listings_neighbourhood_df['zipcode'] = listings_detail_df['zipcode']\n",
        "listings_neighbourhood_df['bedrooms'] = listings_detail_df['bedrooms']\n",
        "listings_neighbourhood_df['beds'] = listings_detail_df['beds']\n",
        "\n",
        "listings_neighbourhood_df.drop(9446, inplace=True)\n",
        "listings_neighbourhood_df.drop(55, inplace=True)\n",
        "listings_neighbourhood_df.drop(1660, inplace=True)\n",
        "listings_neighbourhood_df.drop(4279, inplace=True)\n",
        "listings_neighbourhood_df.drop(12377, inplace=True)\n",
        "listings_neighbourhood_df.drop(15110, inplace=True)\n",
        "listings_neighbourhood_df.drop(20543, inplace=True)\n",
        "listings_neighbourhood_df.drop(21968, inplace=True)\n",
        "listings_neighbourhood_df.drop(24371, inplace=True)\n",
        "listings_neighbourhood_df.drop(25125, inplace=True)\n",
        "listings_neighbourhood_df.drop(28562, inplace=True)\n",
        "listings_neighbourhood_df.drop(31986, inplace=True)\n",
        "listings_neighbourhood_df.drop(33587, inplace=True)\n",
        "listings_neighbourhood_df.drop(39722, inplace=True)\n",
        "listings_neighbourhood_df.drop(40122, inplace=True)\n",
        "listings_neighbourhood_df.drop(42478, inplace=True)\n",
        "listings_neighbourhood_df.drop(50491, inplace=True)\n",
        "listings_neighbourhood_df.replace('', np.nan, inplace=True)\n",
        "listings_neighbourhood_df.dropna(axis=0, inplace=True)\n",
        "\n",
        "def clean_zipcode(x):\n",
        "  if '\\n' in x:\n",
        "    return x.split('\\n')[0]\n",
        "  elif 'NY' in x:\n",
        "    return x.split(' ')[1]\n",
        "  elif '-' in x:\n",
        "    return x.split('-')[0]\n",
        "  else:\n",
        "    return x\n",
        "listings_neighbourhood_df['zipcode'] = listings_neighbourhood_df['zipcode'].apply(clean_zipcode)"
      ],
      "execution_count": 0,
      "outputs": []
    },
    {
      "cell_type": "code",
      "metadata": {
        "id": "mnwK_YY3OT6m",
        "colab_type": "code",
        "colab": {}
      },
      "source": [
        "# Normalize Price\n",
        "def set_price_level(x):\n",
        "  if 69 >= x:\n",
        "    return 'low'\n",
        "  elif 105 >= x:\n",
        "    return 'low medium' \n",
        "  elif 175 >= x:\n",
        "    return 'high medium'\n",
        "  else:\n",
        "    return 'high'\n",
        "\n",
        "listings_neighbourhood_df['price_normalized'] = listings_neighbourhood_df['price'].apply(set_price_level)"
      ],
      "execution_count": 0,
      "outputs": []
    },
    {
      "cell_type": "code",
      "metadata": {
        "id": "R0HOMsCbOhOS",
        "colab_type": "code",
        "colab": {}
      },
      "source": [
        "# Calculate the averaged prizm score by zipcode\n",
        "prizm_zipcode_df['average_score'] = -1\n",
        "for i, row in prizm_zipcode_df.iterrows():\n",
        "  attribute_id_arr = row['attribute_id'].split(',')\n",
        "  sum = 0\n",
        "  count = len(attribute_id_arr)\n",
        "  for id in attribute_id_arr:\n",
        "    match_row = prizm_attributes_df.loc[prizm_attributes_df['id']==int(id)]\n",
        "    row_i = match_row.index[0]\n",
        "    sum += match_row['score'][row_i]\n",
        "  prizm_zipcode_df.loc[i, 'average_score'] = sum / count"
      ],
      "execution_count": 0,
      "outputs": []
    },
    {
      "cell_type": "code",
      "metadata": {
        "id": "1JK0KoySQDCn",
        "colab_type": "code",
        "colab": {}
      },
      "source": [
        "# Calculate upper, upper_middle, lower_middle, lower\n",
        "listings_neighbourhood_df['upper'] = 0\n",
        "listings_neighbourhood_df['upper_middle'] = 0\n",
        "listings_neighbourhood_df['lower_middle'] = 0\n",
        "listings_neighbourhood_df['lower'] = 0\n",
        "\n",
        "for i, row in listings_neighbourhood_df.iterrows():\n",
        "  match_row = prizm_zipcode_df.loc[prizm_zipcode_df['zipcode']==int(row['zipcode'])]\n",
        "  average_score = match_row['average_score'][match_row.index[0]]\n",
        "  if average_score >= 4:\n",
        "    listings_neighbourhood_df.loc[i, 'upper'] = 1\n",
        "  elif average_score >=3:\n",
        "    listings_neighbourhood_df.loc[i, 'upper_middle'] = 1\n",
        "  elif average_score >= 2:\n",
        "    listings_neighbourhood_df.loc[i, 'lower_middle'] = 1\n",
        "  else:\n",
        "    listings_neighbourhood_df.loc[i, 'lower'] = 1\n"
      ],
      "execution_count": 0,
      "outputs": []
    },
    {
      "cell_type": "code",
      "metadata": {
        "id": "HIEnW6a1Rrvu",
        "colab_type": "code",
        "colab": {}
      },
      "source": [
        "# Drop zipcode\n",
        "listings_neighbourhood_df.drop(columns=['zipcode'], inplace=True)"
      ],
      "execution_count": 0,
      "outputs": []
    },
    {
      "cell_type": "code",
      "metadata": {
        "id": "bSflON3PR8cL",
        "colab_type": "code",
        "colab": {
          "base_uri": "https://localhost:8080/",
          "height": 198
        },
        "outputId": "3b201e90-4342-4241-acfc-e129feefe0d7"
      },
      "source": [
        "listings_neighbourhood_df.head()"
      ],
      "execution_count": 10,
      "outputs": [
        {
          "output_type": "execute_result",
          "data": {
            "text/html": [
              "<div>\n",
              "<style scoped>\n",
              "    .dataframe tbody tr th:only-of-type {\n",
              "        vertical-align: middle;\n",
              "    }\n",
              "\n",
              "    .dataframe tbody tr th {\n",
              "        vertical-align: top;\n",
              "    }\n",
              "\n",
              "    .dataframe thead th {\n",
              "        text-align: right;\n",
              "    }\n",
              "</style>\n",
              "<table border=\"1\" class=\"dataframe\">\n",
              "  <thead>\n",
              "    <tr style=\"text-align: right;\">\n",
              "      <th></th>\n",
              "      <th>price</th>\n",
              "      <th>bedrooms</th>\n",
              "      <th>beds</th>\n",
              "      <th>price_normalized</th>\n",
              "      <th>upper</th>\n",
              "      <th>upper_middle</th>\n",
              "      <th>lower_middle</th>\n",
              "      <th>lower</th>\n",
              "    </tr>\n",
              "  </thead>\n",
              "  <tbody>\n",
              "    <tr>\n",
              "      <th>0</th>\n",
              "      <td>225</td>\n",
              "      <td>0.0</td>\n",
              "      <td>1.0</td>\n",
              "      <td>high</td>\n",
              "      <td>0</td>\n",
              "      <td>1</td>\n",
              "      <td>0</td>\n",
              "      <td>0</td>\n",
              "    </tr>\n",
              "    <tr>\n",
              "      <th>1</th>\n",
              "      <td>89</td>\n",
              "      <td>1.0</td>\n",
              "      <td>4.0</td>\n",
              "      <td>low medium</td>\n",
              "      <td>0</td>\n",
              "      <td>1</td>\n",
              "      <td>0</td>\n",
              "      <td>0</td>\n",
              "    </tr>\n",
              "    <tr>\n",
              "      <th>2</th>\n",
              "      <td>200</td>\n",
              "      <td>1.0</td>\n",
              "      <td>1.0</td>\n",
              "      <td>high</td>\n",
              "      <td>0</td>\n",
              "      <td>1</td>\n",
              "      <td>0</td>\n",
              "      <td>0</td>\n",
              "    </tr>\n",
              "    <tr>\n",
              "      <th>3</th>\n",
              "      <td>60</td>\n",
              "      <td>1.0</td>\n",
              "      <td>1.0</td>\n",
              "      <td>low</td>\n",
              "      <td>0</td>\n",
              "      <td>1</td>\n",
              "      <td>0</td>\n",
              "      <td>0</td>\n",
              "    </tr>\n",
              "    <tr>\n",
              "      <th>4</th>\n",
              "      <td>79</td>\n",
              "      <td>1.0</td>\n",
              "      <td>1.0</td>\n",
              "      <td>low medium</td>\n",
              "      <td>0</td>\n",
              "      <td>1</td>\n",
              "      <td>0</td>\n",
              "      <td>0</td>\n",
              "    </tr>\n",
              "  </tbody>\n",
              "</table>\n",
              "</div>"
            ],
            "text/plain": [
              "   price  bedrooms  beds  ... upper_middle  lower_middle  lower\n",
              "0    225       0.0   1.0  ...            1             0      0\n",
              "1     89       1.0   4.0  ...            1             0      0\n",
              "2    200       1.0   1.0  ...            1             0      0\n",
              "3     60       1.0   1.0  ...            1             0      0\n",
              "4     79       1.0   1.0  ...            1             0      0\n",
              "\n",
              "[5 rows x 8 columns]"
            ]
          },
          "metadata": {
            "tags": []
          },
          "execution_count": 10
        }
      ]
    },
    {
      "cell_type": "markdown",
      "metadata": {
        "id": "x8OzDhKxS9xj",
        "colab_type": "text"
      },
      "source": [
        "# Cross Tabulation\n",
        "\n",
        "Create a cross tabulation between price_normalized and neighborhood (i.e. upper, upper_middle, lower_middle, lower). The value is the sum of rentals in each neighborhood."
      ]
    },
    {
      "cell_type": "code",
      "metadata": {
        "id": "Uzbd5Z1gVCyA",
        "colab_type": "code",
        "colab": {
          "base_uri": "https://localhost:8080/",
          "height": 168
        },
        "outputId": "080cf6a3-b5f2-4389-903c-0975701b2ef4"
      },
      "source": [
        "# Create cross tabulation dataframe\n",
        "import pandas as pd\n",
        "\n",
        "data_arr = []\n",
        "\n",
        "# high\n",
        "listing_sum = listings_neighbourhood_df[listings_neighbourhood_df['price_normalized'] == 'high'][['upper','upper_middle','lower_middle','lower']].sum()\n",
        "data_arr.append([listing_sum['upper'], listing_sum['upper_middle'], listing_sum['lower_middle'], listing_sum['lower']])\n",
        "\n",
        "# high medium\n",
        "listing_sum = listings_neighbourhood_df[listings_neighbourhood_df['price_normalized'] == 'high medium'][['upper','upper_middle','lower_middle','lower']].sum()\n",
        "data_arr.append([listing_sum['upper'], listing_sum['upper_middle'], listing_sum['lower_middle'], listing_sum['lower']])\n",
        "\n",
        "# low medium\n",
        "listing_sum = listings_neighbourhood_df[listings_neighbourhood_df['price_normalized'] == 'low medium'][['upper','upper_middle','lower_middle','lower']].sum()\n",
        "data_arr.append([listing_sum['upper'], listing_sum['upper_middle'], listing_sum['lower_middle'], listing_sum['lower']])\n",
        "\n",
        "# low\n",
        "listing_sum = listings_neighbourhood_df[listings_neighbourhood_df['price_normalized'] == 'low'][['upper','upper_middle','lower_middle','lower']].sum()\n",
        "data_arr.append([listing_sum['upper'], listing_sum['upper_middle'], listing_sum['lower_middle'], listing_sum['lower']])\n",
        "\n",
        "cross_tabulation_df = pd.DataFrame(data=data_arr, index=['high', 'high_medium', 'low_medium', 'low'], columns=['upper', 'upper_middle', 'lower_middle', 'lower'])\n",
        "cross_tabulation_df.head()"
      ],
      "execution_count": 11,
      "outputs": [
        {
          "output_type": "execute_result",
          "data": {
            "text/html": [
              "<div>\n",
              "<style scoped>\n",
              "    .dataframe tbody tr th:only-of-type {\n",
              "        vertical-align: middle;\n",
              "    }\n",
              "\n",
              "    .dataframe tbody tr th {\n",
              "        vertical-align: top;\n",
              "    }\n",
              "\n",
              "    .dataframe thead th {\n",
              "        text-align: right;\n",
              "    }\n",
              "</style>\n",
              "<table border=\"1\" class=\"dataframe\">\n",
              "  <thead>\n",
              "    <tr style=\"text-align: right;\">\n",
              "      <th></th>\n",
              "      <th>upper</th>\n",
              "      <th>upper_middle</th>\n",
              "      <th>lower_middle</th>\n",
              "      <th>lower</th>\n",
              "    </tr>\n",
              "  </thead>\n",
              "  <tbody>\n",
              "    <tr>\n",
              "      <th>high</th>\n",
              "      <td>2958</td>\n",
              "      <td>8947</td>\n",
              "      <td>436</td>\n",
              "      <td>0</td>\n",
              "    </tr>\n",
              "    <tr>\n",
              "      <th>high_medium</th>\n",
              "      <td>2215</td>\n",
              "      <td>9413</td>\n",
              "      <td>930</td>\n",
              "      <td>0</td>\n",
              "    </tr>\n",
              "    <tr>\n",
              "      <th>low_medium</th>\n",
              "      <td>1252</td>\n",
              "      <td>9641</td>\n",
              "      <td>1417</td>\n",
              "      <td>0</td>\n",
              "    </tr>\n",
              "    <tr>\n",
              "      <th>low</th>\n",
              "      <td>762</td>\n",
              "      <td>9780</td>\n",
              "      <td>2186</td>\n",
              "      <td>0</td>\n",
              "    </tr>\n",
              "  </tbody>\n",
              "</table>\n",
              "</div>"
            ],
            "text/plain": [
              "             upper  upper_middle  lower_middle  lower\n",
              "high          2958          8947           436      0\n",
              "high_medium   2215          9413           930      0\n",
              "low_medium    1252          9641          1417      0\n",
              "low            762          9780          2186      0"
            ]
          },
          "metadata": {
            "tags": []
          },
          "execution_count": 11
        }
      ]
    },
    {
      "cell_type": "markdown",
      "metadata": {
        "id": "00FP3_I7JWmF",
        "colab_type": "text"
      },
      "source": [
        "# Regression of Price vs Beds and Bedrooms (Group By Neighborhood)\n",
        "\n"
      ]
    },
    {
      "cell_type": "markdown",
      "metadata": {
        "id": "eFvQgqU3nz0m",
        "colab_type": "text"
      },
      "source": [
        "### Modeling"
      ]
    },
    {
      "cell_type": "code",
      "metadata": {
        "id": "9WxrJA6dakMw",
        "colab_type": "code",
        "colab": {
          "base_uri": "https://localhost:8080/",
          "height": 138
        },
        "outputId": "5f6fee81-15c5-405f-a4ed-f82be3f01759"
      },
      "source": [
        "# Create modeling using sklearn linear_model\n",
        "from sklearn import linear_model\n",
        "import numpy as np\n",
        "\n",
        "lm = linear_model.LinearRegression()\n",
        "data_dict = {}\n",
        "\n",
        "# high\n",
        "listings = listings_neighbourhood_df[listings_neighbourhood_df['upper'] == 1]\n",
        "y = listings[['price']]\n",
        "x = listings[['beds', 'bedrooms']]\n",
        "model = lm.fit(x,y)\n",
        "data_dict['upper'] = np.append(model.coef_[0], model.intercept_[0])\n",
        "\n",
        "# upper_middle\n",
        "listings = listings_neighbourhood_df[listings_neighbourhood_df['upper_middle'] == 1]\n",
        "y = listings[['price']]\n",
        "x = listings[['beds', 'bedrooms']]\n",
        "model = lm.fit(x,y)\n",
        "data_dict['upper_middle'] = np.append(model.coef_[0], model.intercept_[0])\n",
        "\n",
        "# high\n",
        "listings = listings_neighbourhood_df[listings_neighbourhood_df['lower_middle'] == 1]\n",
        "y = listings[['price']]\n",
        "x = listings[['beds', 'bedrooms']]\n",
        "model = lm.fit(x,y)\n",
        "data_dict['lower_middle'] = np.append(model.coef_[0], model.intercept_[0])\n",
        "\n",
        "model_df = pd.DataFrame(data=data_dict, index=['bed (coef.)', 'bedrooms (coef.)', 'y-intercept'])\n",
        "model_df"
      ],
      "execution_count": 59,
      "outputs": [
        {
          "output_type": "execute_result",
          "data": {
            "text/html": [
              "<div>\n",
              "<style scoped>\n",
              "    .dataframe tbody tr th:only-of-type {\n",
              "        vertical-align: middle;\n",
              "    }\n",
              "\n",
              "    .dataframe tbody tr th {\n",
              "        vertical-align: top;\n",
              "    }\n",
              "\n",
              "    .dataframe thead th {\n",
              "        text-align: right;\n",
              "    }\n",
              "</style>\n",
              "<table border=\"1\" class=\"dataframe\">\n",
              "  <thead>\n",
              "    <tr style=\"text-align: right;\">\n",
              "      <th></th>\n",
              "      <th>upper</th>\n",
              "      <th>upper_middle</th>\n",
              "      <th>lower_middle</th>\n",
              "    </tr>\n",
              "  </thead>\n",
              "  <tbody>\n",
              "    <tr>\n",
              "      <th>bed (coef.)</th>\n",
              "      <td>52.607474</td>\n",
              "      <td>20.053675</td>\n",
              "      <td>22.314814</td>\n",
              "    </tr>\n",
              "    <tr>\n",
              "      <th>bedrooms (coef.)</th>\n",
              "      <td>57.426145</td>\n",
              "      <td>56.438106</td>\n",
              "      <td>37.804581</td>\n",
              "    </tr>\n",
              "    <tr>\n",
              "      <th>y-intercept</th>\n",
              "      <td>54.660247</td>\n",
              "      <td>59.240152</td>\n",
              "      <td>20.648825</td>\n",
              "    </tr>\n",
              "  </tbody>\n",
              "</table>\n",
              "</div>"
            ],
            "text/plain": [
              "                      upper  upper_middle  lower_middle\n",
              "bed (coef.)       52.607474     20.053675     22.314814\n",
              "bedrooms (coef.)  57.426145     56.438106     37.804581\n",
              "y-intercept       54.660247     59.240152     20.648825"
            ]
          },
          "metadata": {
            "tags": []
          },
          "execution_count": 59
        }
      ]
    },
    {
      "cell_type": "markdown",
      "metadata": {
        "id": "6rKu_WjZn9o0",
        "colab_type": "text"
      },
      "source": [
        "### Visualization"
      ]
    },
    {
      "cell_type": "code",
      "metadata": {
        "id": "2P3IzCJ_j1JH",
        "colab_type": "code",
        "colab": {
          "base_uri": "https://localhost:8080/",
          "height": 542
        },
        "outputId": "44e25cff-5229-473e-bca4-b1bae70516be"
      },
      "source": [
        "import plotly.graph_objects as go\n",
        "from plotly.subplots import make_subplots\n",
        "import numpy as np\n",
        "\n",
        "x = np.arange(6)\n",
        "\n",
        "fig = make_subplots(\n",
        "    rows=1, cols=3,\n",
        "    specs=[[{\"type\": \"scatter\"},{\"type\": 'scatter'},{'type': 'scatter'}]],\n",
        "    subplot_titles=('upper','upper middle', 'lower middle')\n",
        ")\n",
        "\n",
        "bed = model_df['upper']['bed (coef.)']\n",
        "bedrooms = model_df['upper']['bedrooms (coef.)']\n",
        "intercept = model_df['upper']['y-intercept']\n",
        "fig.add_trace(\n",
        "    go.Scatter(x=x, y=bed*x+bedrooms*x+intercept),\n",
        "    row=1, col=1)\n",
        "\n",
        "bed = model_df['upper_middle']['bed (coef.)']\n",
        "bedrooms = model_df['upper_middle']['bedrooms (coef.)']\n",
        "intercept = model_df['upper_middle']['y-intercept']\n",
        "fig.add_trace(\n",
        "    go.Scatter(x=x, y=bed*x+bedrooms*x+intercept),\n",
        "    row=1, col=2)\n",
        "\n",
        "bed = model_df['lower_middle']['bed (coef.)']\n",
        "bedrooms = model_df['lower_middle']['bedrooms (coef.)']\n",
        "intercept = model_df['lower_middle']['y-intercept']\n",
        "fig.add_trace(\n",
        "    go.Scatter(x=x, y=bed*x+bedrooms*x+intercept),\n",
        "    row=1, col=3)\n",
        "fig.update_yaxes(range=[0,650])\n",
        "fig.show()"
      ],
      "execution_count": 97,
      "outputs": [
        {
          "output_type": "display_data",
          "data": {
            "text/html": [
              "<html>\n",
              "<head><meta charset=\"utf-8\" /></head>\n",
              "<body>\n",
              "    <div>\n",
              "            <script src=\"https://cdnjs.cloudflare.com/ajax/libs/mathjax/2.7.5/MathJax.js?config=TeX-AMS-MML_SVG\"></script><script type=\"text/javascript\">if (window.MathJax) {MathJax.Hub.Config({SVG: {font: \"STIX-Web\"}});}</script>\n",
              "                <script type=\"text/javascript\">window.PlotlyConfig = {MathJaxConfig: 'local'};</script>\n",
              "        <script src=\"https://cdn.plot.ly/plotly-latest.min.js\"></script>    \n",
              "            <div id=\"b14f6151-9c35-47f4-a7a8-6365df91e9ab\" class=\"plotly-graph-div\" style=\"height:525px; width:100%;\"></div>\n",
              "            <script type=\"text/javascript\">\n",
              "                \n",
              "                    window.PLOTLYENV=window.PLOTLYENV || {};\n",
              "                    \n",
              "                if (document.getElementById(\"b14f6151-9c35-47f4-a7a8-6365df91e9ab\")) {\n",
              "                    Plotly.newPlot(\n",
              "                        'b14f6151-9c35-47f4-a7a8-6365df91e9ab',\n",
              "                        [{\"type\": \"scatter\", \"x\": [0, 1, 2, 3, 4, 5], \"xaxis\": \"x\", \"y\": [54.66024702865036, 164.69386663635677, 274.7274862440632, 384.76110585176957, 494.794725459476, 604.8283450671823], \"yaxis\": \"y\"}, {\"type\": \"scatter\", \"x\": [0, 1, 2, 3, 4, 5], \"xaxis\": \"x2\", \"y\": [59.240151893617735, 135.73193321776938, 212.22371454192105, 288.71549586607273, 365.2072771902244, 441.6990585143761], \"yaxis\": \"y2\"}, {\"type\": \"scatter\", \"x\": [0, 1, 2, 3, 4, 5], \"xaxis\": \"x3\", \"y\": [20.648825058402338, 80.76821952193336, 140.88761398546438, 201.0070084489954, 261.12640291252643, 321.24579737605745], \"yaxis\": \"y3\"}],\n",
              "                        {\"annotations\": [{\"font\": {\"size\": 16}, \"showarrow\": false, \"text\": \"upper\", \"x\": 0.14444444444444446, \"xanchor\": \"center\", \"xref\": \"paper\", \"y\": 1.0, \"yanchor\": \"bottom\", \"yref\": \"paper\"}, {\"font\": {\"size\": 16}, \"showarrow\": false, \"text\": \"upper middle\", \"x\": 0.5, \"xanchor\": \"center\", \"xref\": \"paper\", \"y\": 1.0, \"yanchor\": \"bottom\", \"yref\": \"paper\"}, {\"font\": {\"size\": 16}, \"showarrow\": false, \"text\": \"lower middle\", \"x\": 0.8555555555555556, \"xanchor\": \"center\", \"xref\": \"paper\", \"y\": 1.0, \"yanchor\": \"bottom\", \"yref\": \"paper\"}], \"template\": {\"data\": {\"bar\": [{\"error_x\": {\"color\": \"#2a3f5f\"}, \"error_y\": {\"color\": \"#2a3f5f\"}, \"marker\": {\"line\": {\"color\": \"#E5ECF6\", \"width\": 0.5}}, \"type\": \"bar\"}], \"barpolar\": [{\"marker\": {\"line\": {\"color\": \"#E5ECF6\", \"width\": 0.5}}, \"type\": \"barpolar\"}], \"carpet\": [{\"aaxis\": {\"endlinecolor\": \"#2a3f5f\", \"gridcolor\": \"white\", \"linecolor\": \"white\", \"minorgridcolor\": \"white\", \"startlinecolor\": \"#2a3f5f\"}, \"baxis\": {\"endlinecolor\": \"#2a3f5f\", \"gridcolor\": \"white\", \"linecolor\": \"white\", \"minorgridcolor\": \"white\", \"startlinecolor\": \"#2a3f5f\"}, \"type\": \"carpet\"}], \"choropleth\": [{\"colorbar\": {\"outlinewidth\": 0, \"ticks\": \"\"}, \"type\": \"choropleth\"}], \"contour\": [{\"colorbar\": {\"outlinewidth\": 0, \"ticks\": \"\"}, \"colorscale\": [[0.0, \"#0d0887\"], [0.1111111111111111, \"#46039f\"], [0.2222222222222222, \"#7201a8\"], [0.3333333333333333, \"#9c179e\"], [0.4444444444444444, \"#bd3786\"], [0.5555555555555556, \"#d8576b\"], [0.6666666666666666, \"#ed7953\"], [0.7777777777777778, \"#fb9f3a\"], [0.8888888888888888, \"#fdca26\"], [1.0, \"#f0f921\"]], \"type\": \"contour\"}], \"contourcarpet\": [{\"colorbar\": {\"outlinewidth\": 0, \"ticks\": \"\"}, \"type\": \"contourcarpet\"}], \"heatmap\": [{\"colorbar\": {\"outlinewidth\": 0, \"ticks\": \"\"}, \"colorscale\": [[0.0, \"#0d0887\"], [0.1111111111111111, \"#46039f\"], [0.2222222222222222, \"#7201a8\"], [0.3333333333333333, \"#9c179e\"], [0.4444444444444444, \"#bd3786\"], [0.5555555555555556, \"#d8576b\"], [0.6666666666666666, \"#ed7953\"], [0.7777777777777778, \"#fb9f3a\"], [0.8888888888888888, \"#fdca26\"], [1.0, \"#f0f921\"]], \"type\": \"heatmap\"}], \"heatmapgl\": [{\"colorbar\": {\"outlinewidth\": 0, \"ticks\": \"\"}, \"colorscale\": [[0.0, \"#0d0887\"], [0.1111111111111111, \"#46039f\"], [0.2222222222222222, \"#7201a8\"], [0.3333333333333333, \"#9c179e\"], [0.4444444444444444, \"#bd3786\"], [0.5555555555555556, \"#d8576b\"], [0.6666666666666666, \"#ed7953\"], [0.7777777777777778, \"#fb9f3a\"], [0.8888888888888888, \"#fdca26\"], [1.0, \"#f0f921\"]], \"type\": \"heatmapgl\"}], \"histogram\": [{\"marker\": {\"colorbar\": {\"outlinewidth\": 0, \"ticks\": \"\"}}, \"type\": \"histogram\"}], \"histogram2d\": [{\"colorbar\": {\"outlinewidth\": 0, \"ticks\": \"\"}, \"colorscale\": [[0.0, \"#0d0887\"], [0.1111111111111111, \"#46039f\"], [0.2222222222222222, \"#7201a8\"], [0.3333333333333333, \"#9c179e\"], [0.4444444444444444, \"#bd3786\"], [0.5555555555555556, \"#d8576b\"], [0.6666666666666666, \"#ed7953\"], [0.7777777777777778, \"#fb9f3a\"], [0.8888888888888888, \"#fdca26\"], [1.0, \"#f0f921\"]], \"type\": \"histogram2d\"}], \"histogram2dcontour\": [{\"colorbar\": {\"outlinewidth\": 0, \"ticks\": \"\"}, \"colorscale\": [[0.0, \"#0d0887\"], [0.1111111111111111, \"#46039f\"], [0.2222222222222222, \"#7201a8\"], [0.3333333333333333, \"#9c179e\"], [0.4444444444444444, \"#bd3786\"], [0.5555555555555556, \"#d8576b\"], [0.6666666666666666, \"#ed7953\"], [0.7777777777777778, \"#fb9f3a\"], [0.8888888888888888, \"#fdca26\"], [1.0, \"#f0f921\"]], \"type\": \"histogram2dcontour\"}], \"mesh3d\": [{\"colorbar\": {\"outlinewidth\": 0, \"ticks\": \"\"}, \"type\": \"mesh3d\"}], \"parcoords\": [{\"line\": {\"colorbar\": {\"outlinewidth\": 0, \"ticks\": \"\"}}, \"type\": \"parcoords\"}], \"pie\": [{\"automargin\": true, \"type\": \"pie\"}], \"scatter\": [{\"marker\": {\"colorbar\": {\"outlinewidth\": 0, \"ticks\": \"\"}}, \"type\": \"scatter\"}], \"scatter3d\": [{\"line\": {\"colorbar\": {\"outlinewidth\": 0, \"ticks\": \"\"}}, \"marker\": {\"colorbar\": {\"outlinewidth\": 0, \"ticks\": \"\"}}, \"type\": \"scatter3d\"}], \"scattercarpet\": [{\"marker\": {\"colorbar\": {\"outlinewidth\": 0, \"ticks\": \"\"}}, \"type\": \"scattercarpet\"}], \"scattergeo\": [{\"marker\": {\"colorbar\": {\"outlinewidth\": 0, \"ticks\": \"\"}}, \"type\": \"scattergeo\"}], \"scattergl\": [{\"marker\": {\"colorbar\": {\"outlinewidth\": 0, \"ticks\": \"\"}}, \"type\": \"scattergl\"}], \"scattermapbox\": [{\"marker\": {\"colorbar\": {\"outlinewidth\": 0, \"ticks\": \"\"}}, \"type\": \"scattermapbox\"}], \"scatterpolar\": [{\"marker\": {\"colorbar\": {\"outlinewidth\": 0, \"ticks\": \"\"}}, \"type\": \"scatterpolar\"}], \"scatterpolargl\": [{\"marker\": {\"colorbar\": {\"outlinewidth\": 0, \"ticks\": \"\"}}, \"type\": \"scatterpolargl\"}], \"scatterternary\": [{\"marker\": {\"colorbar\": {\"outlinewidth\": 0, \"ticks\": \"\"}}, \"type\": \"scatterternary\"}], \"surface\": [{\"colorbar\": {\"outlinewidth\": 0, \"ticks\": \"\"}, \"colorscale\": [[0.0, \"#0d0887\"], [0.1111111111111111, \"#46039f\"], [0.2222222222222222, \"#7201a8\"], [0.3333333333333333, \"#9c179e\"], [0.4444444444444444, \"#bd3786\"], [0.5555555555555556, \"#d8576b\"], [0.6666666666666666, \"#ed7953\"], [0.7777777777777778, \"#fb9f3a\"], [0.8888888888888888, \"#fdca26\"], [1.0, \"#f0f921\"]], \"type\": \"surface\"}], \"table\": [{\"cells\": {\"fill\": {\"color\": \"#EBF0F8\"}, \"line\": {\"color\": \"white\"}}, \"header\": {\"fill\": {\"color\": \"#C8D4E3\"}, \"line\": {\"color\": \"white\"}}, \"type\": \"table\"}]}, \"layout\": {\"annotationdefaults\": {\"arrowcolor\": \"#2a3f5f\", \"arrowhead\": 0, \"arrowwidth\": 1}, \"coloraxis\": {\"colorbar\": {\"outlinewidth\": 0, \"ticks\": \"\"}}, \"colorscale\": {\"diverging\": [[0, \"#8e0152\"], [0.1, \"#c51b7d\"], [0.2, \"#de77ae\"], [0.3, \"#f1b6da\"], [0.4, \"#fde0ef\"], [0.5, \"#f7f7f7\"], [0.6, \"#e6f5d0\"], [0.7, \"#b8e186\"], [0.8, \"#7fbc41\"], [0.9, \"#4d9221\"], [1, \"#276419\"]], \"sequential\": [[0.0, \"#0d0887\"], [0.1111111111111111, \"#46039f\"], [0.2222222222222222, \"#7201a8\"], [0.3333333333333333, \"#9c179e\"], [0.4444444444444444, \"#bd3786\"], [0.5555555555555556, \"#d8576b\"], [0.6666666666666666, \"#ed7953\"], [0.7777777777777778, \"#fb9f3a\"], [0.8888888888888888, \"#fdca26\"], [1.0, \"#f0f921\"]], \"sequentialminus\": [[0.0, \"#0d0887\"], [0.1111111111111111, \"#46039f\"], [0.2222222222222222, \"#7201a8\"], [0.3333333333333333, \"#9c179e\"], [0.4444444444444444, \"#bd3786\"], [0.5555555555555556, \"#d8576b\"], [0.6666666666666666, \"#ed7953\"], [0.7777777777777778, \"#fb9f3a\"], [0.8888888888888888, \"#fdca26\"], [1.0, \"#f0f921\"]]}, \"colorway\": [\"#636efa\", \"#EF553B\", \"#00cc96\", \"#ab63fa\", \"#FFA15A\", \"#19d3f3\", \"#FF6692\", \"#B6E880\", \"#FF97FF\", \"#FECB52\"], \"font\": {\"color\": \"#2a3f5f\"}, \"geo\": {\"bgcolor\": \"white\", \"lakecolor\": \"white\", \"landcolor\": \"#E5ECF6\", \"showlakes\": true, \"showland\": true, \"subunitcolor\": \"white\"}, \"hoverlabel\": {\"align\": \"left\"}, \"hovermode\": \"closest\", \"mapbox\": {\"style\": \"light\"}, \"paper_bgcolor\": \"white\", \"plot_bgcolor\": \"#E5ECF6\", \"polar\": {\"angularaxis\": {\"gridcolor\": \"white\", \"linecolor\": \"white\", \"ticks\": \"\"}, \"bgcolor\": \"#E5ECF6\", \"radialaxis\": {\"gridcolor\": \"white\", \"linecolor\": \"white\", \"ticks\": \"\"}}, \"scene\": {\"xaxis\": {\"backgroundcolor\": \"#E5ECF6\", \"gridcolor\": \"white\", \"gridwidth\": 2, \"linecolor\": \"white\", \"showbackground\": true, \"ticks\": \"\", \"zerolinecolor\": \"white\"}, \"yaxis\": {\"backgroundcolor\": \"#E5ECF6\", \"gridcolor\": \"white\", \"gridwidth\": 2, \"linecolor\": \"white\", \"showbackground\": true, \"ticks\": \"\", \"zerolinecolor\": \"white\"}, \"zaxis\": {\"backgroundcolor\": \"#E5ECF6\", \"gridcolor\": \"white\", \"gridwidth\": 2, \"linecolor\": \"white\", \"showbackground\": true, \"ticks\": \"\", \"zerolinecolor\": \"white\"}}, \"shapedefaults\": {\"line\": {\"color\": \"#2a3f5f\"}}, \"ternary\": {\"aaxis\": {\"gridcolor\": \"white\", \"linecolor\": \"white\", \"ticks\": \"\"}, \"baxis\": {\"gridcolor\": \"white\", \"linecolor\": \"white\", \"ticks\": \"\"}, \"bgcolor\": \"#E5ECF6\", \"caxis\": {\"gridcolor\": \"white\", \"linecolor\": \"white\", \"ticks\": \"\"}}, \"title\": {\"x\": 0.05}, \"xaxis\": {\"automargin\": true, \"gridcolor\": \"white\", \"linecolor\": \"white\", \"ticks\": \"\", \"title\": {\"standoff\": 15}, \"zerolinecolor\": \"white\", \"zerolinewidth\": 2}, \"yaxis\": {\"automargin\": true, \"gridcolor\": \"white\", \"linecolor\": \"white\", \"ticks\": \"\", \"title\": {\"standoff\": 15}, \"zerolinecolor\": \"white\", \"zerolinewidth\": 2}}}, \"xaxis\": {\"anchor\": \"y\", \"domain\": [0.0, 0.2888888888888889]}, \"xaxis2\": {\"anchor\": \"y2\", \"domain\": [0.35555555555555557, 0.6444444444444445]}, \"xaxis3\": {\"anchor\": \"y3\", \"domain\": [0.7111111111111111, 1.0]}, \"yaxis\": {\"anchor\": \"x\", \"domain\": [0.0, 1.0], \"range\": [0, 650]}, \"yaxis2\": {\"anchor\": \"x2\", \"domain\": [0.0, 1.0], \"range\": [0, 650]}, \"yaxis3\": {\"anchor\": \"x3\", \"domain\": [0.0, 1.0], \"range\": [0, 650]}},\n",
              "                        {\"responsive\": true}\n",
              "                    ).then(function(){\n",
              "                            \n",
              "var gd = document.getElementById('b14f6151-9c35-47f4-a7a8-6365df91e9ab');\n",
              "var x = new MutationObserver(function (mutations, observer) {{\n",
              "        var display = window.getComputedStyle(gd).display;\n",
              "        if (!display || display === 'none') {{\n",
              "            console.log([gd, 'removed!']);\n",
              "            Plotly.purge(gd);\n",
              "            observer.disconnect();\n",
              "        }}\n",
              "}});\n",
              "\n",
              "// Listen for the removal of the full notebook cells\n",
              "var notebookContainer = gd.closest('#notebook-container');\n",
              "if (notebookContainer) {{\n",
              "    x.observe(notebookContainer, {childList: true});\n",
              "}}\n",
              "\n",
              "// Listen for the clearing of the current output cell\n",
              "var outputEl = gd.closest('.output');\n",
              "if (outputEl) {{\n",
              "    x.observe(outputEl, {childList: true});\n",
              "}}\n",
              "\n",
              "                        })\n",
              "                };\n",
              "                \n",
              "            </script>\n",
              "        </div>\n",
              "</body>\n",
              "</html>"
            ]
          },
          "metadata": {
            "tags": []
          }
        }
      ]
    }
  ]
}
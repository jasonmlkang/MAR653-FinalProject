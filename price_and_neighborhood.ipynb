{
  "nbformat": 4,
  "nbformat_minor": 0,
  "metadata": {
    "colab": {
      "name": "price_and_neighborhood.ipynb",
      "provenance": [],
      "authorship_tag": "ABX9TyMoCzyqIo+/8Isg2/OYC2H5"
    },
    "kernelspec": {
      "name": "python3",
      "display_name": "Python 3"
    }
  },
  "cells": [
    {
      "cell_type": "markdown",
      "metadata": {
        "id": "g2WzM1WtJ5eV",
        "colab_type": "text"
      },
      "source": [
        "# Abstract\n",
        "\n",
        "Find out how neighborhood can affect rental pricing"
      ]
    },
    {
      "cell_type": "markdown",
      "metadata": {
        "id": "f1qYjjORKPR2",
        "colab_type": "text"
      },
      "source": [
        "# Load Data\n",
        "\n",
        "Data files are stored on google drive."
      ]
    },
    {
      "cell_type": "code",
      "metadata": {
        "id": "8RKs572QKewY",
        "colab_type": "code",
        "colab": {}
      },
      "source": [
        "from google.colab import drive\n",
        "drive.mount('/content/drive')"
      ],
      "execution_count": 0,
      "outputs": []
    },
    {
      "cell_type": "code",
      "metadata": {
        "id": "FFr7nzLxIGcY",
        "colab_type": "code",
        "colab": {}
      },
      "source": [
        "import pandas as pd\n",
        "import numpy as np\n",
        "\n",
        "file_path = '/content/drive/My Drive/MAR 653/Final Project/data/{}'\n",
        "\n",
        "# Listing data\n",
        "listings_summary_df = pd.read_csv(file_path.format('listings.csv'))\n",
        "listings_detail_df = pd.read_csv(file_path.format('listings.csv.gz'), compression='gzip')\n",
        "\n",
        "# Prizm data\n",
        "prizm_zipcode_df = pd.read_excel(file_path.format('prizm_attributes.xlsx'), sheet_name='zipcodes')\n",
        "prizm_attributes_df = pd.read_excel(file_path.format('prizm_attributes.xlsx'), sheet_name='attributes')\n",
        "prizm_zipcode_df.replace('', np.nan, inplace=True)\n",
        "prizm_zipcode_df.dropna(axis=0, inplace=True)\n"
      ],
      "execution_count": 0,
      "outputs": []
    },
    {
      "cell_type": "markdown",
      "metadata": {
        "id": "6bgbV6DXLYFI",
        "colab_type": "text"
      },
      "source": [
        "# Data Transformation\n",
        "\n",
        "The output dataframe, **listings_neighbourhood_df**, shall contain the following columns: **price**, **price_normalized**, **bedrooms**, **beds**, **upper**, **upper_middle**, **lower_middle**, and **lower**."
      ]
    },
    {
      "cell_type": "code",
      "metadata": {
        "id": "0zpErxKCMeGm",
        "colab_type": "code",
        "colab": {}
      },
      "source": [
        "# Get price from listings_summary_df\n",
        "# Get zipcode, bedrooms, and beds from listing_detail_df\n",
        "import numpy as np\n",
        "\n",
        "listings_neighbourhood_df = listings_summary_df[['price']]\n",
        "listings_neighbourhood_df['zipcode'] = listings_detail_df['zipcode']\n",
        "listings_neighbourhood_df['bedrooms'] = listings_detail_df['bedrooms']\n",
        "listings_neighbourhood_df['beds'] = listings_detail_df['beds']\n",
        "\n",
        "listings_neighbourhood_df = listings_neighbourhood_df.drop(9446)\n",
        "listings_neighbourhood_df = listings_neighbourhood_df.drop(55)\n",
        "listings_neighbourhood_df = listings_neighbourhood_df.drop(1660)\n",
        "listings_neighbourhood_df = listings_neighbourhood_df.drop(4279)\n",
        "listings_neighbourhood_df = listings_neighbourhood_df.drop(12377)\n",
        "listings_neighbourhood_df = listings_neighbourhood_df.drop(15110)\n",
        "listings_neighbourhood_df = listings_neighbourhood_df.drop(20543)\n",
        "listings_neighbourhood_df = listings_neighbourhood_df.drop(21968)\n",
        "listings_neighbourhood_df = listings_neighbourhood_df.drop(24371)\n",
        "listings_neighbourhood_df = listings_neighbourhood_df.drop(25125)\n",
        "listings_neighbourhood_df = listings_neighbourhood_df.drop(28562)\n",
        "listings_neighbourhood_df = listings_neighbourhood_df.drop(31986)\n",
        "listings_neighbourhood_df = listings_neighbourhood_df.drop(33587)\n",
        "listings_neighbourhood_df = listings_neighbourhood_df.drop(39722)\n",
        "listings_neighbourhood_df = listings_neighbourhood_df.drop(40122)\n",
        "listings_neighbourhood_df = listings_neighbourhood_df.drop(42478)\n",
        "listings_neighbourhood_df = listings_neighbourhood_df.drop(50491)\n",
        "listings_neighbourhood_df.replace('', np.nan, inplace=True)\n",
        "listings_neighbourhood_df.dropna(axis=0, inplace=True)\n",
        "\n",
        "\n",
        "def clean_zipcode(x):\n",
        "  if '\\n' in x:\n",
        "    return x.split('\\n')[0]\n",
        "  elif 'NY' in x:\n",
        "    return x.split(' ')[1]\n",
        "  elif '-' in x:\n",
        "    return x.split('-')[0]\n",
        "  else:\n",
        "    return x\n",
        "listings_neighbourhood_df['zipcode'] = listings_neighbourhood_df['zipcode'].apply(clean_zipcode)"
      ],
      "execution_count": 0,
      "outputs": []
    },
    {
      "cell_type": "code",
      "metadata": {
        "id": "mnwK_YY3OT6m",
        "colab_type": "code",
        "colab": {}
      },
      "source": [
        "# Normalize Price\n",
        "def set_price_level(x):\n",
        "    if 69 >= x:\n",
        "      return 'low'\n",
        "    elif 105 >= x:\n",
        "      return 'low medium' \n",
        "    elif 175 >= x:\n",
        "      return 'high medium'\n",
        "    else:\n",
        "      return 'high'\n",
        "\n",
        "listings_neighbourhood_df['price_normalized'] = listings_neighbourhood_df['price'].apply(set_price_level)"
      ],
      "execution_count": 0,
      "outputs": []
    },
    {
      "cell_type": "code",
      "metadata": {
        "id": "R0HOMsCbOhOS",
        "colab_type": "code",
        "colab": {}
      },
      "source": [
        "# Calculate the averaged prizm score by zipcode\n",
        "prizm_zipcode_df['average_score'] = -1\n",
        "for i, row in prizm_zipcode_df.iterrows():\n",
        "  attribute_id_arr = row['attribute_id'].split(',')\n",
        "  sum = 0\n",
        "  count = len(attribute_id_arr)\n",
        "  for id in attribute_id_arr:\n",
        "    match_row = prizm_attributes_df.loc[prizm_attributes_df['id']==int(id)]\n",
        "    row_i = match_row.index[0]\n",
        "    sum += match_row['score'][row_i]\n",
        "  prizm_zipcode_df.loc[i, 'average_score'] = sum / count"
      ],
      "execution_count": 0,
      "outputs": []
    },
    {
      "cell_type": "code",
      "metadata": {
        "id": "1JK0KoySQDCn",
        "colab_type": "code",
        "colab": {}
      },
      "source": [
        "# Calculate upper, upper_middle, lower_middle, lower\n",
        "listings_neighbourhood_df['upper'] = 0\n",
        "listings_neighbourhood_df['upper_middle'] = 0\n",
        "listings_neighbourhood_df['lower_middle'] = 0\n",
        "listings_neighbourhood_df['lower'] = 0\n",
        "\n",
        "for i, row in listings_neighbourhood_df.iterrows():\n",
        "  match_row = prizm_zipcode_df.loc[prizm_zipcode_df['zipcode']==int(row['zipcode'])]\n",
        "  average_score = match_row['average_score'][match_row.index[0]]\n",
        "  if average_score >= 4:\n",
        "    listings_neighbourhood_df.loc[i, 'upper'] = 1\n",
        "  elif average_score >=3:\n",
        "    listings_neighbourhood_df.loc[i, 'upper_middle'] = 1\n",
        "  elif average_score >= 2:\n",
        "    listings_neighbourhood_df.loc[i, 'lower_middle'] = 1\n",
        "  else:\n",
        "    listings_neighbourhood_df.loc[i, 'lower'] = 1\n"
      ],
      "execution_count": 0,
      "outputs": []
    },
    {
      "cell_type": "code",
      "metadata": {
        "id": "HIEnW6a1Rrvu",
        "colab_type": "code",
        "colab": {}
      },
      "source": [
        "# drop zipcode\n",
        "listings_neighbourhood_df.drop(columns=['zipcode'], inplace=True)"
      ],
      "execution_count": 0,
      "outputs": []
    },
    {
      "cell_type": "code",
      "metadata": {
        "id": "bSflON3PR8cL",
        "colab_type": "code",
        "colab": {
          "base_uri": "https://localhost:8080/",
          "height": 198
        },
        "outputId": "5b6ebc76-8d17-4de3-fa70-01d703445d06"
      },
      "source": [
        "listings_neighbourhood_df.head()"
      ],
      "execution_count": 9,
      "outputs": [
        {
          "output_type": "execute_result",
          "data": {
            "text/html": [
              "<div>\n",
              "<style scoped>\n",
              "    .dataframe tbody tr th:only-of-type {\n",
              "        vertical-align: middle;\n",
              "    }\n",
              "\n",
              "    .dataframe tbody tr th {\n",
              "        vertical-align: top;\n",
              "    }\n",
              "\n",
              "    .dataframe thead th {\n",
              "        text-align: right;\n",
              "    }\n",
              "</style>\n",
              "<table border=\"1\" class=\"dataframe\">\n",
              "  <thead>\n",
              "    <tr style=\"text-align: right;\">\n",
              "      <th></th>\n",
              "      <th>price</th>\n",
              "      <th>bedrooms</th>\n",
              "      <th>beds</th>\n",
              "      <th>price_normalized</th>\n",
              "      <th>upper</th>\n",
              "      <th>upper_middle</th>\n",
              "      <th>lower_middle</th>\n",
              "      <th>lower</th>\n",
              "    </tr>\n",
              "  </thead>\n",
              "  <tbody>\n",
              "    <tr>\n",
              "      <th>0</th>\n",
              "      <td>225</td>\n",
              "      <td>0.0</td>\n",
              "      <td>1.0</td>\n",
              "      <td>high</td>\n",
              "      <td>0</td>\n",
              "      <td>1</td>\n",
              "      <td>0</td>\n",
              "      <td>0</td>\n",
              "    </tr>\n",
              "    <tr>\n",
              "      <th>1</th>\n",
              "      <td>89</td>\n",
              "      <td>1.0</td>\n",
              "      <td>4.0</td>\n",
              "      <td>low medium</td>\n",
              "      <td>0</td>\n",
              "      <td>1</td>\n",
              "      <td>0</td>\n",
              "      <td>0</td>\n",
              "    </tr>\n",
              "    <tr>\n",
              "      <th>2</th>\n",
              "      <td>200</td>\n",
              "      <td>1.0</td>\n",
              "      <td>1.0</td>\n",
              "      <td>high</td>\n",
              "      <td>0</td>\n",
              "      <td>1</td>\n",
              "      <td>0</td>\n",
              "      <td>0</td>\n",
              "    </tr>\n",
              "    <tr>\n",
              "      <th>3</th>\n",
              "      <td>60</td>\n",
              "      <td>1.0</td>\n",
              "      <td>1.0</td>\n",
              "      <td>low</td>\n",
              "      <td>0</td>\n",
              "      <td>1</td>\n",
              "      <td>0</td>\n",
              "      <td>0</td>\n",
              "    </tr>\n",
              "    <tr>\n",
              "      <th>4</th>\n",
              "      <td>79</td>\n",
              "      <td>1.0</td>\n",
              "      <td>1.0</td>\n",
              "      <td>low medium</td>\n",
              "      <td>0</td>\n",
              "      <td>1</td>\n",
              "      <td>0</td>\n",
              "      <td>0</td>\n",
              "    </tr>\n",
              "  </tbody>\n",
              "</table>\n",
              "</div>"
            ],
            "text/plain": [
              "   price  bedrooms  beds  ... upper_middle  lower_middle  lower\n",
              "0    225       0.0   1.0  ...            1             0      0\n",
              "1     89       1.0   4.0  ...            1             0      0\n",
              "2    200       1.0   1.0  ...            1             0      0\n",
              "3     60       1.0   1.0  ...            1             0      0\n",
              "4     79       1.0   1.0  ...            1             0      0\n",
              "\n",
              "[5 rows x 8 columns]"
            ]
          },
          "metadata": {
            "tags": []
          },
          "execution_count": 9
        }
      ]
    },
    {
      "cell_type": "markdown",
      "metadata": {
        "id": "x8OzDhKxS9xj",
        "colab_type": "text"
      },
      "source": [
        "# Cross Tabulation\n",
        "\n",
        "Create a cross tabulation between price_normalized and neighborhood (i.e. upper, upper_middle, lower_middle, lower). The value is the sum of rentals in each neighborhood."
      ]
    },
    {
      "cell_type": "code",
      "metadata": {
        "id": "Uzbd5Z1gVCyA",
        "colab_type": "code",
        "colab": {
          "base_uri": "https://localhost:8080/",
          "height": 168
        },
        "outputId": "848a824e-a1a0-48ef-8467-9deb62b80b65"
      },
      "source": [
        "# Create cross tabulation dataframe\n",
        "import pandas as pd\n",
        "\n",
        "data_arr = []\n",
        "\n",
        "# high\n",
        "listing_sum = listings_neighbourhood_df[listings_neighbourhood_df['price_normalized'] == 'high'][['upper','upper_middle','lower_middle','lower']].sum()\n",
        "data_arr.append([listing_sum['upper'], listing_sum['upper_middle'], listing_sum['lower_middle'], listing_sum['lower']])\n",
        "\n",
        "# high medium\n",
        "listing_sum = listings_neighbourhood_df[listings_neighbourhood_df['price_normalized'] == 'high medium'][['upper','upper_middle','lower_middle','lower']].sum()\n",
        "data_arr.append([listing_sum['upper'], listing_sum['upper_middle'], listing_sum['lower_middle'], listing_sum['lower']])\n",
        "\n",
        "# low medium\n",
        "listing_sum = listings_neighbourhood_df[listings_neighbourhood_df['price_normalized'] == 'low medium'][['upper','upper_middle','lower_middle','lower']].sum()\n",
        "data_arr.append([listing_sum['upper'], listing_sum['upper_middle'], listing_sum['lower_middle'], listing_sum['lower']])\n",
        "\n",
        "# low\n",
        "listing_sum = listings_neighbourhood_df[listings_neighbourhood_df['price_normalized'] == 'low'][['upper','upper_middle','lower_middle','lower']].sum()\n",
        "data_arr.append([listing_sum['upper'], listing_sum['upper_middle'], listing_sum['lower_middle'], listing_sum['lower']])\n",
        "\n",
        "cross_tabulation_df = pd.DataFrame(data=data_arr, index=['high', 'high_medium', 'low_medium', 'low'], columns=['upper', 'upper_middle', 'lower_middle', 'lower'])\n",
        "cross_tabulation_df.head()"
      ],
      "execution_count": 16,
      "outputs": [
        {
          "output_type": "execute_result",
          "data": {
            "text/html": [
              "<div>\n",
              "<style scoped>\n",
              "    .dataframe tbody tr th:only-of-type {\n",
              "        vertical-align: middle;\n",
              "    }\n",
              "\n",
              "    .dataframe tbody tr th {\n",
              "        vertical-align: top;\n",
              "    }\n",
              "\n",
              "    .dataframe thead th {\n",
              "        text-align: right;\n",
              "    }\n",
              "</style>\n",
              "<table border=\"1\" class=\"dataframe\">\n",
              "  <thead>\n",
              "    <tr style=\"text-align: right;\">\n",
              "      <th></th>\n",
              "      <th>upper</th>\n",
              "      <th>upper_middle</th>\n",
              "      <th>lower_middle</th>\n",
              "      <th>lower</th>\n",
              "    </tr>\n",
              "  </thead>\n",
              "  <tbody>\n",
              "    <tr>\n",
              "      <th>high</th>\n",
              "      <td>2958</td>\n",
              "      <td>8947</td>\n",
              "      <td>436</td>\n",
              "      <td>0</td>\n",
              "    </tr>\n",
              "    <tr>\n",
              "      <th>high_medium</th>\n",
              "      <td>2215</td>\n",
              "      <td>9413</td>\n",
              "      <td>930</td>\n",
              "      <td>0</td>\n",
              "    </tr>\n",
              "    <tr>\n",
              "      <th>low_medium</th>\n",
              "      <td>1252</td>\n",
              "      <td>9641</td>\n",
              "      <td>1417</td>\n",
              "      <td>0</td>\n",
              "    </tr>\n",
              "    <tr>\n",
              "      <th>low</th>\n",
              "      <td>762</td>\n",
              "      <td>9780</td>\n",
              "      <td>2186</td>\n",
              "      <td>0</td>\n",
              "    </tr>\n",
              "  </tbody>\n",
              "</table>\n",
              "</div>"
            ],
            "text/plain": [
              "             upper  upper_middle  lower_middle  lower\n",
              "high          2958          8947           436      0\n",
              "high_medium   2215          9413           930      0\n",
              "low_medium    1252          9641          1417      0\n",
              "low            762          9780          2186      0"
            ]
          },
          "metadata": {
            "tags": []
          },
          "execution_count": 16
        }
      ]
    }
  ]
}
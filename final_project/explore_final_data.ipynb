{
 "nbformat": 4,
 "nbformat_minor": 2,
 "metadata": {
  "language_info": {
   "name": "python",
   "codemirror_mode": {
    "name": "ipython",
    "version": 3
   }
  },
  "orig_nbformat": 2,
  "file_extension": ".py",
  "mimetype": "text/x-python",
  "name": "python",
  "npconvert_exporter": "python",
  "pygments_lexer": "ipython3",
  "version": 3
 },
 "cells": [
  {
   "cell_type": "markdown",
   "metadata": {},
   "source": [
    "# Explore Final Data\n",
    "\n",
    "The purpose of this notebook is to perform in-depth exploration of the following data sets, transform them if necessary, and make available data for modeling\n",
    "* 'data/listings_detailed.csv'\n",
    "    * This file is summary data of listings\n",
    "* 'data/listings_detailed/listings.csv'\n",
    "    * This file contains detailed listings data\n",
    "* 'data/prizm_attributes.xlsx'    "
   ]
  },
  {
   "cell_type": "code",
   "execution_count": null,
   "metadata": {},
   "outputs": [],
   "source": []
  }
 ]
}
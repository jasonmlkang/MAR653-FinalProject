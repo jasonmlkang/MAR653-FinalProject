{
 "cells": [
  {
   "cell_type": "markdown",
   "metadata": {},
   "source": [
    "# Exploration of Data Sources\n",
    "* listings.csv.gz - Detailed listings data for New York City\n",
    "* listings.csv - Summary information and metrics for listings in New York City\n",
    "* calendar.csv.gz - Detailed calendar data for listings in New York City\n",
    "* reviews.csv.gz - Detailed review data for listings in New York City\n",
    "* reviews.csv - Summary review data and listing ID\n",
    "* neighbourhoods.csv - Neighbourhood list for geo filter. Sourced from city or open source GIS files\n",
    "* neighbourhoods.geojson - GeoJSON file of neighbourhoods of the city\n",
    "\n",
    "For the purposes of this notebook, each file will be explored separately."
   ]
  },
  {
   "cell_type": "code",
   "execution_count": 1,
   "metadata": {},
   "outputs": [],
   "source": [
    "import pandas as pd \n",
    "import json\n",
    "import os\n",
    "\n",
    "# function to summarize data\n",
    "# param: df dataframe\n",
    "# print number of variables, data type counts, and variable names\n",
    "def summarizeData(df):\n",
    "    print(\"Number of Variables: {:d}\\n\".format(df.shape[1]))\n",
    "    print(\"Number of Observations: {:d}\\n\".format(df.shape[0]))\n",
    "    print(\"Data types:\")\n",
    "    print(df.dtypes.value_counts())    \n",
    "    print(\"\\nColumn Names by Type:\\n\")\n",
    "    g = df.columns.to_series().groupby(df.dtypes).groups\n",
    "    for item in g.items():\n",
    "        print(item)"
   ]
  },
  {
   "cell_type": "markdown",
   "metadata": {},
   "source": [
    "## Available Data"
   ]
  },
  {
   "cell_type": "code",
   "execution_count": 2,
   "metadata": {},
   "outputs": [
    {
     "output_type": "stream",
     "name": "stdout",
     "text": "['C:\\\\Users\\\\ke392d\\\\Desktop\\\\Master\\\\LTP_Learning Together Program\\\\LTP - Masters Data Science\\\\MAR653\\\\_team_project\\\\data\\\\listings.csv', 'C:\\\\Users\\\\ke392d\\\\Desktop\\\\Master\\\\LTP_Learning Together Program\\\\LTP - Masters Data Science\\\\MAR653\\\\_team_project\\\\data\\\\neighbourhoods.csv', 'C:\\\\Users\\\\ke392d\\\\Desktop\\\\Master\\\\LTP_Learning Together Program\\\\LTP - Masters Data Science\\\\MAR653\\\\_team_project\\\\data\\\\neighbourhoods.geojson', 'C:\\\\Users\\\\ke392d\\\\Desktop\\\\Master\\\\LTP_Learning Together Program\\\\LTP - Masters Data Science\\\\MAR653\\\\_team_project\\\\data\\\\reviews.csv', 'C:\\\\Users\\\\ke392d\\\\Desktop\\\\Master\\\\LTP_Learning Together Program\\\\LTP - Masters Data Science\\\\MAR653\\\\_team_project\\\\data\\\\calendar_detailed\\\\calendar.csv.gz', 'C:\\\\Users\\\\ke392d\\\\Desktop\\\\Master\\\\LTP_Learning Together Program\\\\LTP - Masters Data Science\\\\MAR653\\\\_team_project\\\\data\\\\listings_detailed\\\\listings.csv.gz', 'C:\\\\Users\\\\ke392d\\\\Desktop\\\\Master\\\\LTP_Learning Together Program\\\\LTP - Masters Data Science\\\\MAR653\\\\_team_project\\\\data\\\\reviews_detailed\\\\reviews.csv.gz']\n"
    }
   ],
   "source": [
    "# Data directory\n",
    "folder = r'C:\\Users\\ke392d\\Desktop\\Master\\LTP_Learning Together Program\\LTP - Masters Data Science\\MAR653\\_team_project\\data'\n",
    "# function to get absolute filepaths in a directory\n",
    "# param directory: absolute directory name\n",
    "# yields absolute file paths\n",
    "def absoluteFilePaths(directory):\n",
    "   for dirpath,_,filenames in os.walk(directory):\n",
    "       for f in filenames:\n",
    "           yield os.path.abspath(os.path.join(dirpath, f)) \n",
    "# get list of absolute file paths in current directory\n",
    "myGenerator = absoluteFilePaths(folder)\n",
    "filelist = []\n",
    "for f in myGenerator:\n",
    "    filelist.append(f)\n",
    "print(filelist)    "
   ]
  },
  {
   "cell_type": "markdown",
   "metadata": {},
   "source": [
    "## File: listings.csv.gz (detailed)\n",
    "* Detailed Listings data for New York City\n",
    "* Contains 50599 observations of 43 numeric and 63 object variables"
   ]
  },
  {
   "cell_type": "code",
   "execution_count": 3,
   "metadata": {},
   "outputs": [
    {
     "output_type": "execute_result",
     "data": {
      "text/plain": "                 id     scrape_id  thumbnail_url  medium_url  xl_picture_url  \\\ncount  5.059900e+04  5.059900e+04            0.0         0.0             0.0   \nmean   2.137380e+07  2.019120e+13            NaN         NaN             NaN   \nstd    1.242864e+07  1.221496e+01            NaN         NaN             NaN   \nmin    2.595000e+03  2.019120e+13            NaN         NaN             NaN   \n25%    1.009891e+07  2.019120e+13            NaN         NaN             NaN   \n50%    2.154642e+07  2.019120e+13            NaN         NaN             NaN   \n75%    3.271780e+07  2.019120e+13            NaN         NaN             NaN   \nmax    4.058402e+07  2.019120e+13            NaN         NaN             NaN   \n\n            host_id  host_acceptance_rate  host_listings_count  \\\ncount  5.059900e+04                   0.0         50036.000000   \nmean   7.893854e+07                   NaN            17.388720   \nstd    9.095944e+07                   NaN           111.558158   \nmin    2.438000e+03                   NaN             0.000000   \n25%    8.925493e+06                   NaN             1.000000   \n50%    3.572660e+07                   NaN             1.000000   \n75%    1.293330e+08                   NaN             2.000000   \nmax    3.143682e+08                   NaN          1767.000000   \n\n       host_total_listings_count      latitude  ...  \\\ncount               50036.000000  50599.000000  ...   \nmean                   17.388720     40.728743  ...   \nstd                   111.558158      0.055004  ...   \nmin                     0.000000     40.499790  ...   \n25%                     1.000000     40.689550  ...   \n50%                     1.000000     40.722880  ...   \n75%                     2.000000     40.763030  ...   \nmax                  1767.000000     40.916860  ...   \n\n       review_scores_cleanliness  review_scores_checkin  \\\ncount               39415.000000           39385.000000   \nmean                    9.273272               9.739647   \nstd                     1.079284               0.735555   \nmin                     2.000000               2.000000   \n25%                     9.000000              10.000000   \n50%                    10.000000              10.000000   \n75%                    10.000000              10.000000   \nmax                    10.000000              10.000000   \n\n       review_scores_communication  review_scores_location  \\\ncount                 39404.000000            39381.000000   \nmean                      9.743579                9.580585   \nstd                       0.751233                0.758823   \nmin                       2.000000                2.000000   \n25%                      10.000000                9.000000   \n50%                      10.000000               10.000000   \n75%                      10.000000               10.000000   \nmax                      10.000000               10.000000   \n\n       review_scores_value  calculated_host_listings_count  \\\ncount         39382.000000                    50599.000000   \nmean              9.383272                        7.330916   \nstd               0.928692                       32.757485   \nmin               2.000000                        1.000000   \n25%               9.000000                        1.000000   \n50%              10.000000                        1.000000   \n75%              10.000000                        2.000000   \nmax              10.000000                      310.000000   \n\n       calculated_host_listings_count_entire_homes  \\\ncount                                 50599.000000   \nmean                                      5.615170   \nstd                                      32.293312   \nmin                                       0.000000   \n25%                                       0.000000   \n50%                                       1.000000   \n75%                                       1.000000   \nmax                                     310.000000   \n\n       calculated_host_listings_count_private_rooms  \\\ncount                                  50599.000000   \nmean                                       1.480009   \nstd                                        6.496156   \nmin                                        0.000000   \n25%                                        0.000000   \n50%                                        0.000000   \n75%                                        1.000000   \nmax                                      118.000000   \n\n       calculated_host_listings_count_shared_rooms  reviews_per_month  \ncount                                 50599.000000       40379.000000  \nmean                                      0.128995           1.405862  \nstd                                       1.027153           1.695551  \nmin                                       0.000000           0.010000  \n25%                                       0.000000           0.190000  \n50%                                       0.000000           0.740000  \n75%                                       0.000000           2.110000  \nmax                                      24.000000          52.630000  \n\n[8 rows x 43 columns]",
      "text/html": "<div>\n<style scoped>\n    .dataframe tbody tr th:only-of-type {\n        vertical-align: middle;\n    }\n\n    .dataframe tbody tr th {\n        vertical-align: top;\n    }\n\n    .dataframe thead th {\n        text-align: right;\n    }\n</style>\n<table border=\"1\" class=\"dataframe\">\n  <thead>\n    <tr style=\"text-align: right;\">\n      <th></th>\n      <th>id</th>\n      <th>scrape_id</th>\n      <th>thumbnail_url</th>\n      <th>medium_url</th>\n      <th>xl_picture_url</th>\n      <th>host_id</th>\n      <th>host_acceptance_rate</th>\n      <th>host_listings_count</th>\n      <th>host_total_listings_count</th>\n      <th>latitude</th>\n      <th>...</th>\n      <th>review_scores_cleanliness</th>\n      <th>review_scores_checkin</th>\n      <th>review_scores_communication</th>\n      <th>review_scores_location</th>\n      <th>review_scores_value</th>\n      <th>calculated_host_listings_count</th>\n      <th>calculated_host_listings_count_entire_homes</th>\n      <th>calculated_host_listings_count_private_rooms</th>\n      <th>calculated_host_listings_count_shared_rooms</th>\n      <th>reviews_per_month</th>\n    </tr>\n  </thead>\n  <tbody>\n    <tr>\n      <th>count</th>\n      <td>5.059900e+04</td>\n      <td>5.059900e+04</td>\n      <td>0.0</td>\n      <td>0.0</td>\n      <td>0.0</td>\n      <td>5.059900e+04</td>\n      <td>0.0</td>\n      <td>50036.000000</td>\n      <td>50036.000000</td>\n      <td>50599.000000</td>\n      <td>...</td>\n      <td>39415.000000</td>\n      <td>39385.000000</td>\n      <td>39404.000000</td>\n      <td>39381.000000</td>\n      <td>39382.000000</td>\n      <td>50599.000000</td>\n      <td>50599.000000</td>\n      <td>50599.000000</td>\n      <td>50599.000000</td>\n      <td>40379.000000</td>\n    </tr>\n    <tr>\n      <th>mean</th>\n      <td>2.137380e+07</td>\n      <td>2.019120e+13</td>\n      <td>NaN</td>\n      <td>NaN</td>\n      <td>NaN</td>\n      <td>7.893854e+07</td>\n      <td>NaN</td>\n      <td>17.388720</td>\n      <td>17.388720</td>\n      <td>40.728743</td>\n      <td>...</td>\n      <td>9.273272</td>\n      <td>9.739647</td>\n      <td>9.743579</td>\n      <td>9.580585</td>\n      <td>9.383272</td>\n      <td>7.330916</td>\n      <td>5.615170</td>\n      <td>1.480009</td>\n      <td>0.128995</td>\n      <td>1.405862</td>\n    </tr>\n    <tr>\n      <th>std</th>\n      <td>1.242864e+07</td>\n      <td>1.221496e+01</td>\n      <td>NaN</td>\n      <td>NaN</td>\n      <td>NaN</td>\n      <td>9.095944e+07</td>\n      <td>NaN</td>\n      <td>111.558158</td>\n      <td>111.558158</td>\n      <td>0.055004</td>\n      <td>...</td>\n      <td>1.079284</td>\n      <td>0.735555</td>\n      <td>0.751233</td>\n      <td>0.758823</td>\n      <td>0.928692</td>\n      <td>32.757485</td>\n      <td>32.293312</td>\n      <td>6.496156</td>\n      <td>1.027153</td>\n      <td>1.695551</td>\n    </tr>\n    <tr>\n      <th>min</th>\n      <td>2.595000e+03</td>\n      <td>2.019120e+13</td>\n      <td>NaN</td>\n      <td>NaN</td>\n      <td>NaN</td>\n      <td>2.438000e+03</td>\n      <td>NaN</td>\n      <td>0.000000</td>\n      <td>0.000000</td>\n      <td>40.499790</td>\n      <td>...</td>\n      <td>2.000000</td>\n      <td>2.000000</td>\n      <td>2.000000</td>\n      <td>2.000000</td>\n      <td>2.000000</td>\n      <td>1.000000</td>\n      <td>0.000000</td>\n      <td>0.000000</td>\n      <td>0.000000</td>\n      <td>0.010000</td>\n    </tr>\n    <tr>\n      <th>25%</th>\n      <td>1.009891e+07</td>\n      <td>2.019120e+13</td>\n      <td>NaN</td>\n      <td>NaN</td>\n      <td>NaN</td>\n      <td>8.925493e+06</td>\n      <td>NaN</td>\n      <td>1.000000</td>\n      <td>1.000000</td>\n      <td>40.689550</td>\n      <td>...</td>\n      <td>9.000000</td>\n      <td>10.000000</td>\n      <td>10.000000</td>\n      <td>9.000000</td>\n      <td>9.000000</td>\n      <td>1.000000</td>\n      <td>0.000000</td>\n      <td>0.000000</td>\n      <td>0.000000</td>\n      <td>0.190000</td>\n    </tr>\n    <tr>\n      <th>50%</th>\n      <td>2.154642e+07</td>\n      <td>2.019120e+13</td>\n      <td>NaN</td>\n      <td>NaN</td>\n      <td>NaN</td>\n      <td>3.572660e+07</td>\n      <td>NaN</td>\n      <td>1.000000</td>\n      <td>1.000000</td>\n      <td>40.722880</td>\n      <td>...</td>\n      <td>10.000000</td>\n      <td>10.000000</td>\n      <td>10.000000</td>\n      <td>10.000000</td>\n      <td>10.000000</td>\n      <td>1.000000</td>\n      <td>1.000000</td>\n      <td>0.000000</td>\n      <td>0.000000</td>\n      <td>0.740000</td>\n    </tr>\n    <tr>\n      <th>75%</th>\n      <td>3.271780e+07</td>\n      <td>2.019120e+13</td>\n      <td>NaN</td>\n      <td>NaN</td>\n      <td>NaN</td>\n      <td>1.293330e+08</td>\n      <td>NaN</td>\n      <td>2.000000</td>\n      <td>2.000000</td>\n      <td>40.763030</td>\n      <td>...</td>\n      <td>10.000000</td>\n      <td>10.000000</td>\n      <td>10.000000</td>\n      <td>10.000000</td>\n      <td>10.000000</td>\n      <td>2.000000</td>\n      <td>1.000000</td>\n      <td>1.000000</td>\n      <td>0.000000</td>\n      <td>2.110000</td>\n    </tr>\n    <tr>\n      <th>max</th>\n      <td>4.058402e+07</td>\n      <td>2.019120e+13</td>\n      <td>NaN</td>\n      <td>NaN</td>\n      <td>NaN</td>\n      <td>3.143682e+08</td>\n      <td>NaN</td>\n      <td>1767.000000</td>\n      <td>1767.000000</td>\n      <td>40.916860</td>\n      <td>...</td>\n      <td>10.000000</td>\n      <td>10.000000</td>\n      <td>10.000000</td>\n      <td>10.000000</td>\n      <td>10.000000</td>\n      <td>310.000000</td>\n      <td>310.000000</td>\n      <td>118.000000</td>\n      <td>24.000000</td>\n      <td>52.630000</td>\n    </tr>\n  </tbody>\n</table>\n<p>8 rows × 43 columns</p>\n</div>"
     },
     "metadata": {},
     "execution_count": 3
    }
   ],
   "source": [
    "fname = folder + '\\\\listings_detailed\\\\listings.csv.gz'\n",
    "df = pd.read_csv(fname, compression='gzip')\n",
    "df.describe()"
   ]
  },
  {
   "cell_type": "code",
   "execution_count": 4,
   "metadata": {},
   "outputs": [
    {
     "output_type": "stream",
     "name": "stdout",
     "text": "Number of Variables: 106\n\nNumber of Observations: 50599\n\nData types:\nobject     63\nfloat64    22\nint64      21\ndtype: int64\n\nColumn Names by Type:\n\n(dtype('int64'), Index(['id', 'scrape_id', 'host_id', 'accommodates', 'guests_included',\n       'minimum_nights', 'maximum_nights', 'minimum_minimum_nights',\n       'maximum_minimum_nights', 'minimum_maximum_nights',\n       'maximum_maximum_nights', 'availability_30', 'availability_60',\n       'availability_90', 'availability_365', 'number_of_reviews',\n       'number_of_reviews_ltm', 'calculated_host_listings_count',\n       'calculated_host_listings_count_entire_homes',\n       'calculated_host_listings_count_private_rooms',\n       'calculated_host_listings_count_shared_rooms'],\n      dtype='object'))\n(dtype('float64'), Index(['thumbnail_url', 'medium_url', 'xl_picture_url', 'host_acceptance_rate',\n       'host_listings_count', 'host_total_listings_count', 'latitude',\n       'longitude', 'bathrooms', 'bedrooms', 'beds', 'square_feet',\n       'minimum_nights_avg_ntm', 'maximum_nights_avg_ntm',\n       'review_scores_rating', 'review_scores_accuracy',\n       'review_scores_cleanliness', 'review_scores_checkin',\n       'review_scores_communication', 'review_scores_location',\n       'review_scores_value', 'reviews_per_month'],\n      dtype='object'))\n(dtype('O'), Index(['listing_url', 'last_scraped', 'name', 'summary', 'space',\n       'description', 'experiences_offered', 'neighborhood_overview', 'notes',\n       'transit', 'access', 'interaction', 'house_rules', 'picture_url',\n       'host_url', 'host_name', 'host_since', 'host_location', 'host_about',\n       'host_response_time', 'host_response_rate', 'host_is_superhost',\n       'host_thumbnail_url', 'host_picture_url', 'host_neighbourhood',\n       'host_verifications', 'host_has_profile_pic', 'host_identity_verified',\n       'street', 'neighbourhood', 'neighbourhood_cleansed',\n       'neighbourhood_group_cleansed', 'city', 'state', 'zipcode', 'market',\n       'smart_location', 'country_code', 'country', 'is_location_exact',\n       'property_type', 'room_type', 'bed_type', 'amenities', 'price',\n       'weekly_price', 'monthly_price', 'security_deposit', 'cleaning_fee',\n       'extra_people', 'calendar_updated', 'has_availability',\n       'calendar_last_scraped', 'first_review', 'last_review',\n       'requires_license', 'license', 'jurisdiction_names', 'instant_bookable',\n       'is_business_travel_ready', 'cancellation_policy',\n       'require_guest_profile_picture', 'require_guest_phone_verification'],\n      dtype='object'))\n"
    }
   ],
   "source": [
    "summarizeData(df)"
   ]
  },
  {
   "cell_type": "markdown",
   "metadata": {},
   "source": [
    "### Sample Observation"
   ]
  },
  {
   "cell_type": "code",
   "execution_count": 5,
   "metadata": {},
   "outputs": [
    {
     "output_type": "execute_result",
     "data": {
      "text/plain": "     id                        listing_url       scrape_id last_scraped  \\\n0  2595  https://www.airbnb.com/rooms/2595  20191204162729   2019-12-07   \n1  3831  https://www.airbnb.com/rooms/3831  20191204162729   2019-12-07   \n2  5099  https://www.airbnb.com/rooms/5099  20191204162729   2019-12-06   \n3  5121  https://www.airbnb.com/rooms/5121  20191204162729   2019-12-06   \n4  5178  https://www.airbnb.com/rooms/5178  20191204162729   2019-12-05   \n\n                                        name  \\\n0                      Skylit Midtown Castle   \n1            Cozy Entire Floor of Brownstone   \n2  Large Cozy 1 BR Apartment In Midtown East   \n3                            BlissArtsSpace!   \n4           Large Furnished Room Near B'way    \n\n                                             summary  \\\n0  Beautiful, spacious skylit studio in the heart...   \n1  Urban retreat: enjoy 500 s.f. floor in 1899 br...   \n2  My large 1 bedroom apartment has a true New Yo...   \n3                                                NaN   \n4  Please don’t expect the luxury here just a bas...   \n\n                                               space  \\\n0  - Spacious (500+ft²), immaculate and nicely fu...   \n1  Greetings!      We own a double-duplex brownst...   \n2  I have a large 1 bedroom apartment centrally l...   \n3  HELLO EVERYONE AND THANKS FOR VISITING BLISS A...   \n4  You will use one large, furnished, private roo...   \n\n                                         description experiences_offered  \\\n0  Beautiful, spacious skylit studio in the heart...                none   \n1  Urban retreat: enjoy 500 s.f. floor in 1899 br...                none   \n2  My large 1 bedroom apartment has a true New Yo...                none   \n3  HELLO EVERYONE AND THANKS FOR VISITING BLISS A...                none   \n4  Please don’t expect the luxury here just a bas...                none   \n\n                               neighborhood_overview  ... instant_bookable  \\\n0  Centrally located in the heart of Manhattan ju...  ...                f   \n1  Just the right mix of urban center and local n...  ...                f   \n2  My neighborhood in Midtown East is called Murr...  ...                f   \n3                                                NaN  ...                f   \n4    Theater district, many restaurants around here.  ...                f   \n\n  is_business_travel_ready          cancellation_policy  \\\n0                        f  strict_14_with_grace_period   \n1                        f                     moderate   \n2                        f                     moderate   \n3                        f  strict_14_with_grace_period   \n4                        f  strict_14_with_grace_period   \n\n  require_guest_profile_picture require_guest_phone_verification  \\\n0                             t                                t   \n1                             f                                f   \n2                             t                                t   \n3                             f                                f   \n4                             f                                f   \n\n   calculated_host_listings_count  \\\n0                               1   \n1                               1   \n2                               1   \n3                               1   \n4                               1   \n\n   calculated_host_listings_count_entire_homes  \\\n0                                            1   \n1                                            1   \n2                                            1   \n3                                            0   \n4                                            0   \n\n  calculated_host_listings_count_private_rooms  \\\n0                                            0   \n1                                            0   \n2                                            0   \n3                                            1   \n4                                            1   \n\n   calculated_host_listings_count_shared_rooms  reviews_per_month  \n0                                            0               0.39  \n1                                            0               4.67  \n2                                            0               0.60  \n3                                            0               0.38  \n4                                            0               3.52  \n\n[5 rows x 106 columns]",
      "text/html": "<div>\n<style scoped>\n    .dataframe tbody tr th:only-of-type {\n        vertical-align: middle;\n    }\n\n    .dataframe tbody tr th {\n        vertical-align: top;\n    }\n\n    .dataframe thead th {\n        text-align: right;\n    }\n</style>\n<table border=\"1\" class=\"dataframe\">\n  <thead>\n    <tr style=\"text-align: right;\">\n      <th></th>\n      <th>id</th>\n      <th>listing_url</th>\n      <th>scrape_id</th>\n      <th>last_scraped</th>\n      <th>name</th>\n      <th>summary</th>\n      <th>space</th>\n      <th>description</th>\n      <th>experiences_offered</th>\n      <th>neighborhood_overview</th>\n      <th>...</th>\n      <th>instant_bookable</th>\n      <th>is_business_travel_ready</th>\n      <th>cancellation_policy</th>\n      <th>require_guest_profile_picture</th>\n      <th>require_guest_phone_verification</th>\n      <th>calculated_host_listings_count</th>\n      <th>calculated_host_listings_count_entire_homes</th>\n      <th>calculated_host_listings_count_private_rooms</th>\n      <th>calculated_host_listings_count_shared_rooms</th>\n      <th>reviews_per_month</th>\n    </tr>\n  </thead>\n  <tbody>\n    <tr>\n      <th>0</th>\n      <td>2595</td>\n      <td>https://www.airbnb.com/rooms/2595</td>\n      <td>20191204162729</td>\n      <td>2019-12-07</td>\n      <td>Skylit Midtown Castle</td>\n      <td>Beautiful, spacious skylit studio in the heart...</td>\n      <td>- Spacious (500+ft²), immaculate and nicely fu...</td>\n      <td>Beautiful, spacious skylit studio in the heart...</td>\n      <td>none</td>\n      <td>Centrally located in the heart of Manhattan ju...</td>\n      <td>...</td>\n      <td>f</td>\n      <td>f</td>\n      <td>strict_14_with_grace_period</td>\n      <td>t</td>\n      <td>t</td>\n      <td>1</td>\n      <td>1</td>\n      <td>0</td>\n      <td>0</td>\n      <td>0.39</td>\n    </tr>\n    <tr>\n      <th>1</th>\n      <td>3831</td>\n      <td>https://www.airbnb.com/rooms/3831</td>\n      <td>20191204162729</td>\n      <td>2019-12-07</td>\n      <td>Cozy Entire Floor of Brownstone</td>\n      <td>Urban retreat: enjoy 500 s.f. floor in 1899 br...</td>\n      <td>Greetings!      We own a double-duplex brownst...</td>\n      <td>Urban retreat: enjoy 500 s.f. floor in 1899 br...</td>\n      <td>none</td>\n      <td>Just the right mix of urban center and local n...</td>\n      <td>...</td>\n      <td>f</td>\n      <td>f</td>\n      <td>moderate</td>\n      <td>f</td>\n      <td>f</td>\n      <td>1</td>\n      <td>1</td>\n      <td>0</td>\n      <td>0</td>\n      <td>4.67</td>\n    </tr>\n    <tr>\n      <th>2</th>\n      <td>5099</td>\n      <td>https://www.airbnb.com/rooms/5099</td>\n      <td>20191204162729</td>\n      <td>2019-12-06</td>\n      <td>Large Cozy 1 BR Apartment In Midtown East</td>\n      <td>My large 1 bedroom apartment has a true New Yo...</td>\n      <td>I have a large 1 bedroom apartment centrally l...</td>\n      <td>My large 1 bedroom apartment has a true New Yo...</td>\n      <td>none</td>\n      <td>My neighborhood in Midtown East is called Murr...</td>\n      <td>...</td>\n      <td>f</td>\n      <td>f</td>\n      <td>moderate</td>\n      <td>t</td>\n      <td>t</td>\n      <td>1</td>\n      <td>1</td>\n      <td>0</td>\n      <td>0</td>\n      <td>0.60</td>\n    </tr>\n    <tr>\n      <th>3</th>\n      <td>5121</td>\n      <td>https://www.airbnb.com/rooms/5121</td>\n      <td>20191204162729</td>\n      <td>2019-12-06</td>\n      <td>BlissArtsSpace!</td>\n      <td>NaN</td>\n      <td>HELLO EVERYONE AND THANKS FOR VISITING BLISS A...</td>\n      <td>HELLO EVERYONE AND THANKS FOR VISITING BLISS A...</td>\n      <td>none</td>\n      <td>NaN</td>\n      <td>...</td>\n      <td>f</td>\n      <td>f</td>\n      <td>strict_14_with_grace_period</td>\n      <td>f</td>\n      <td>f</td>\n      <td>1</td>\n      <td>0</td>\n      <td>1</td>\n      <td>0</td>\n      <td>0.38</td>\n    </tr>\n    <tr>\n      <th>4</th>\n      <td>5178</td>\n      <td>https://www.airbnb.com/rooms/5178</td>\n      <td>20191204162729</td>\n      <td>2019-12-05</td>\n      <td>Large Furnished Room Near B'way</td>\n      <td>Please don’t expect the luxury here just a bas...</td>\n      <td>You will use one large, furnished, private roo...</td>\n      <td>Please don’t expect the luxury here just a bas...</td>\n      <td>none</td>\n      <td>Theater district, many restaurants around here.</td>\n      <td>...</td>\n      <td>f</td>\n      <td>f</td>\n      <td>strict_14_with_grace_period</td>\n      <td>f</td>\n      <td>f</td>\n      <td>1</td>\n      <td>0</td>\n      <td>1</td>\n      <td>0</td>\n      <td>3.52</td>\n    </tr>\n  </tbody>\n</table>\n<p>5 rows × 106 columns</p>\n</div>"
     },
     "metadata": {},
     "execution_count": 5
    }
   ],
   "source": [
    "df.head()"
   ]
  },
  {
   "cell_type": "markdown",
   "metadata": {},
   "source": [
    "## File: listings.csv (summary)\n",
    "* Summary information and metrics for listings in New York City (good for visualizations)\n",
    "* Contains 50599 observations of 10 numeric and 6 object variables"
   ]
  },
  {
   "cell_type": "code",
   "execution_count": 6,
   "metadata": {},
   "outputs": [
    {
     "output_type": "execute_result",
     "data": {
      "text/plain": "                 id       host_id      latitude     longitude         price  \\\ncount  5.059900e+04  5.059900e+04  50599.000000  50599.000000  50599.000000   \nmean   2.137380e+07  7.893854e+07     40.728743    -73.950762    158.171782   \nstd    1.242864e+07  9.095944e+07      0.055004      0.047606    348.089562   \nmin    2.595000e+03  2.438000e+03     40.499790    -74.247870      0.000000   \n25%    1.009891e+07  8.925493e+06     40.689550    -73.982930     69.000000   \n50%    2.154642e+07  3.572660e+07     40.722880    -73.955050    105.000000   \n75%    3.271780e+07  1.293330e+08     40.763030    -73.934200    175.000000   \nmax    4.058402e+07  3.143682e+08     40.916860    -73.712990  10000.000000   \n\n       minimum_nights  number_of_reviews  reviews_per_month  \\\ncount    50599.000000       50599.000000       40379.000000   \nmean         7.531908          24.809225           1.405862   \nstd         22.454271          47.317882           1.695551   \nmin          1.000000           0.000000           0.010000   \n25%          1.000000           1.000000           0.190000   \n50%          3.000000           6.000000           0.740000   \n75%          5.000000          25.000000           2.110000   \nmax       1250.000000         675.000000          52.630000   \n\n       calculated_host_listings_count  availability_365  \ncount                    50599.000000      50599.000000  \nmean                         7.330916        112.785944  \nstd                         32.757485        135.891028  \nmin                          1.000000          0.000000  \n25%                          1.000000          0.000000  \n50%                          1.000000         42.000000  \n75%                          2.000000        225.000000  \nmax                        310.000000        365.000000  ",
      "text/html": "<div>\n<style scoped>\n    .dataframe tbody tr th:only-of-type {\n        vertical-align: middle;\n    }\n\n    .dataframe tbody tr th {\n        vertical-align: top;\n    }\n\n    .dataframe thead th {\n        text-align: right;\n    }\n</style>\n<table border=\"1\" class=\"dataframe\">\n  <thead>\n    <tr style=\"text-align: right;\">\n      <th></th>\n      <th>id</th>\n      <th>host_id</th>\n      <th>latitude</th>\n      <th>longitude</th>\n      <th>price</th>\n      <th>minimum_nights</th>\n      <th>number_of_reviews</th>\n      <th>reviews_per_month</th>\n      <th>calculated_host_listings_count</th>\n      <th>availability_365</th>\n    </tr>\n  </thead>\n  <tbody>\n    <tr>\n      <th>count</th>\n      <td>5.059900e+04</td>\n      <td>5.059900e+04</td>\n      <td>50599.000000</td>\n      <td>50599.000000</td>\n      <td>50599.000000</td>\n      <td>50599.000000</td>\n      <td>50599.000000</td>\n      <td>40379.000000</td>\n      <td>50599.000000</td>\n      <td>50599.000000</td>\n    </tr>\n    <tr>\n      <th>mean</th>\n      <td>2.137380e+07</td>\n      <td>7.893854e+07</td>\n      <td>40.728743</td>\n      <td>-73.950762</td>\n      <td>158.171782</td>\n      <td>7.531908</td>\n      <td>24.809225</td>\n      <td>1.405862</td>\n      <td>7.330916</td>\n      <td>112.785944</td>\n    </tr>\n    <tr>\n      <th>std</th>\n      <td>1.242864e+07</td>\n      <td>9.095944e+07</td>\n      <td>0.055004</td>\n      <td>0.047606</td>\n      <td>348.089562</td>\n      <td>22.454271</td>\n      <td>47.317882</td>\n      <td>1.695551</td>\n      <td>32.757485</td>\n      <td>135.891028</td>\n    </tr>\n    <tr>\n      <th>min</th>\n      <td>2.595000e+03</td>\n      <td>2.438000e+03</td>\n      <td>40.499790</td>\n      <td>-74.247870</td>\n      <td>0.000000</td>\n      <td>1.000000</td>\n      <td>0.000000</td>\n      <td>0.010000</td>\n      <td>1.000000</td>\n      <td>0.000000</td>\n    </tr>\n    <tr>\n      <th>25%</th>\n      <td>1.009891e+07</td>\n      <td>8.925493e+06</td>\n      <td>40.689550</td>\n      <td>-73.982930</td>\n      <td>69.000000</td>\n      <td>1.000000</td>\n      <td>1.000000</td>\n      <td>0.190000</td>\n      <td>1.000000</td>\n      <td>0.000000</td>\n    </tr>\n    <tr>\n      <th>50%</th>\n      <td>2.154642e+07</td>\n      <td>3.572660e+07</td>\n      <td>40.722880</td>\n      <td>-73.955050</td>\n      <td>105.000000</td>\n      <td>3.000000</td>\n      <td>6.000000</td>\n      <td>0.740000</td>\n      <td>1.000000</td>\n      <td>42.000000</td>\n    </tr>\n    <tr>\n      <th>75%</th>\n      <td>3.271780e+07</td>\n      <td>1.293330e+08</td>\n      <td>40.763030</td>\n      <td>-73.934200</td>\n      <td>175.000000</td>\n      <td>5.000000</td>\n      <td>25.000000</td>\n      <td>2.110000</td>\n      <td>2.000000</td>\n      <td>225.000000</td>\n    </tr>\n    <tr>\n      <th>max</th>\n      <td>4.058402e+07</td>\n      <td>3.143682e+08</td>\n      <td>40.916860</td>\n      <td>-73.712990</td>\n      <td>10000.000000</td>\n      <td>1250.000000</td>\n      <td>675.000000</td>\n      <td>52.630000</td>\n      <td>310.000000</td>\n      <td>365.000000</td>\n    </tr>\n  </tbody>\n</table>\n</div>"
     },
     "metadata": {},
     "execution_count": 6
    }
   ],
   "source": [
    "fname = folder + '\\\\listings.csv'\n",
    "df = pd.read_csv(fname)\n",
    "df.describe()"
   ]
  },
  {
   "cell_type": "code",
   "execution_count": 7,
   "metadata": {},
   "outputs": [
    {
     "output_type": "stream",
     "name": "stdout",
     "text": "Number of Variables: 16\n\nNumber of Observations: 50599\n\nData types:\nint64      7\nobject     6\nfloat64    3\ndtype: int64\n\nColumn Names by Type:\n\n(dtype('int64'), Index(['id', 'host_id', 'price', 'minimum_nights', 'number_of_reviews',\n       'calculated_host_listings_count', 'availability_365'],\n      dtype='object'))\n(dtype('float64'), Index(['latitude', 'longitude', 'reviews_per_month'], dtype='object'))\n(dtype('O'), Index(['name', 'host_name', 'neighbourhood_group', 'neighbourhood',\n       'room_type', 'last_review'],\n      dtype='object'))\n"
    }
   ],
   "source": [
    "summarizeData(df)"
   ]
  },
  {
   "cell_type": "markdown",
   "metadata": {},
   "source": [
    "### Sample Observation"
   ]
  },
  {
   "cell_type": "code",
   "execution_count": 8,
   "metadata": {},
   "outputs": [
    {
     "output_type": "execute_result",
     "data": {
      "text/plain": "     id                                       name  host_id    host_name  \\\n0  2595                      Skylit Midtown Castle     2845     Jennifer   \n1  3831            Cozy Entire Floor of Brownstone     4869  LisaRoxanne   \n2  5099  Large Cozy 1 BR Apartment In Midtown East     7322        Chris   \n3  5121                            BlissArtsSpace!     7356        Garon   \n4  5178           Large Furnished Room Near B'way      8967     Shunichi   \n\n  neighbourhood_group       neighbourhood  latitude  longitude  \\\n0           Manhattan             Midtown  40.75362  -73.98377   \n1            Brooklyn        Clinton Hill  40.68514  -73.95976   \n2           Manhattan         Murray Hill  40.74767  -73.97500   \n3            Brooklyn  Bedford-Stuyvesant  40.68688  -73.95596   \n4           Manhattan      Hell's Kitchen  40.76489  -73.98493   \n\n         room_type  price  minimum_nights  number_of_reviews last_review  \\\n0  Entire home/apt    225              10                 48  2019-11-04   \n1  Entire home/apt     89               1                295  2019-11-22   \n2  Entire home/apt    200               3                 78  2019-10-13   \n3     Private room     60              29                 49  2017-10-05   \n4     Private room     79               2                454  2019-11-21   \n\n   reviews_per_month  calculated_host_listings_count  availability_365  \n0               0.39                               1                 1  \n1               4.67                               1                 1  \n2               0.60                               1                19  \n3               0.38                               1               365  \n4               3.52                               1               242  ",
      "text/html": "<div>\n<style scoped>\n    .dataframe tbody tr th:only-of-type {\n        vertical-align: middle;\n    }\n\n    .dataframe tbody tr th {\n        vertical-align: top;\n    }\n\n    .dataframe thead th {\n        text-align: right;\n    }\n</style>\n<table border=\"1\" class=\"dataframe\">\n  <thead>\n    <tr style=\"text-align: right;\">\n      <th></th>\n      <th>id</th>\n      <th>name</th>\n      <th>host_id</th>\n      <th>host_name</th>\n      <th>neighbourhood_group</th>\n      <th>neighbourhood</th>\n      <th>latitude</th>\n      <th>longitude</th>\n      <th>room_type</th>\n      <th>price</th>\n      <th>minimum_nights</th>\n      <th>number_of_reviews</th>\n      <th>last_review</th>\n      <th>reviews_per_month</th>\n      <th>calculated_host_listings_count</th>\n      <th>availability_365</th>\n    </tr>\n  </thead>\n  <tbody>\n    <tr>\n      <th>0</th>\n      <td>2595</td>\n      <td>Skylit Midtown Castle</td>\n      <td>2845</td>\n      <td>Jennifer</td>\n      <td>Manhattan</td>\n      <td>Midtown</td>\n      <td>40.75362</td>\n      <td>-73.98377</td>\n      <td>Entire home/apt</td>\n      <td>225</td>\n      <td>10</td>\n      <td>48</td>\n      <td>2019-11-04</td>\n      <td>0.39</td>\n      <td>1</td>\n      <td>1</td>\n    </tr>\n    <tr>\n      <th>1</th>\n      <td>3831</td>\n      <td>Cozy Entire Floor of Brownstone</td>\n      <td>4869</td>\n      <td>LisaRoxanne</td>\n      <td>Brooklyn</td>\n      <td>Clinton Hill</td>\n      <td>40.68514</td>\n      <td>-73.95976</td>\n      <td>Entire home/apt</td>\n      <td>89</td>\n      <td>1</td>\n      <td>295</td>\n      <td>2019-11-22</td>\n      <td>4.67</td>\n      <td>1</td>\n      <td>1</td>\n    </tr>\n    <tr>\n      <th>2</th>\n      <td>5099</td>\n      <td>Large Cozy 1 BR Apartment In Midtown East</td>\n      <td>7322</td>\n      <td>Chris</td>\n      <td>Manhattan</td>\n      <td>Murray Hill</td>\n      <td>40.74767</td>\n      <td>-73.97500</td>\n      <td>Entire home/apt</td>\n      <td>200</td>\n      <td>3</td>\n      <td>78</td>\n      <td>2019-10-13</td>\n      <td>0.60</td>\n      <td>1</td>\n      <td>19</td>\n    </tr>\n    <tr>\n      <th>3</th>\n      <td>5121</td>\n      <td>BlissArtsSpace!</td>\n      <td>7356</td>\n      <td>Garon</td>\n      <td>Brooklyn</td>\n      <td>Bedford-Stuyvesant</td>\n      <td>40.68688</td>\n      <td>-73.95596</td>\n      <td>Private room</td>\n      <td>60</td>\n      <td>29</td>\n      <td>49</td>\n      <td>2017-10-05</td>\n      <td>0.38</td>\n      <td>1</td>\n      <td>365</td>\n    </tr>\n    <tr>\n      <th>4</th>\n      <td>5178</td>\n      <td>Large Furnished Room Near B'way</td>\n      <td>8967</td>\n      <td>Shunichi</td>\n      <td>Manhattan</td>\n      <td>Hell's Kitchen</td>\n      <td>40.76489</td>\n      <td>-73.98493</td>\n      <td>Private room</td>\n      <td>79</td>\n      <td>2</td>\n      <td>454</td>\n      <td>2019-11-21</td>\n      <td>3.52</td>\n      <td>1</td>\n      <td>242</td>\n    </tr>\n  </tbody>\n</table>\n</div>"
     },
     "metadata": {},
     "execution_count": 8
    }
   ],
   "source": [
    "df.head()"
   ]
  },
  {
   "cell_type": "markdown",
   "metadata": {},
   "source": [
    "## File: reviews.csv.gz (detailed)\n",
    "* Detailed Review Data for listings in New York City\n",
    "* Contains 1255322 observations of 3 numeric and 3 object variables"
   ]
  },
  {
   "cell_type": "code",
   "execution_count": 9,
   "metadata": {},
   "outputs": [
    {
     "output_type": "execute_result",
     "data": {
      "text/plain": "         listing_id            id   reviewer_id\ncount  1.255322e+06  1.255322e+06  1.255322e+06\nmean   1.396211e+07  2.918422e+08  8.324934e+07\nstd    1.076478e+07  1.734486e+08  7.820263e+07\nmin    2.595000e+03  9.030000e+02  1.000000e+00\n25%    4.081800e+06  1.415657e+08  1.876831e+07\n50%    1.315684e+07  2.900042e+08  5.592106e+07\n75%    2.173354e+07  4.526637e+08  1.324934e+08\nmax    4.056566e+07  5.736112e+08  3.146917e+08",
      "text/html": "<div>\n<style scoped>\n    .dataframe tbody tr th:only-of-type {\n        vertical-align: middle;\n    }\n\n    .dataframe tbody tr th {\n        vertical-align: top;\n    }\n\n    .dataframe thead th {\n        text-align: right;\n    }\n</style>\n<table border=\"1\" class=\"dataframe\">\n  <thead>\n    <tr style=\"text-align: right;\">\n      <th></th>\n      <th>listing_id</th>\n      <th>id</th>\n      <th>reviewer_id</th>\n    </tr>\n  </thead>\n  <tbody>\n    <tr>\n      <th>count</th>\n      <td>1.255322e+06</td>\n      <td>1.255322e+06</td>\n      <td>1.255322e+06</td>\n    </tr>\n    <tr>\n      <th>mean</th>\n      <td>1.396211e+07</td>\n      <td>2.918422e+08</td>\n      <td>8.324934e+07</td>\n    </tr>\n    <tr>\n      <th>std</th>\n      <td>1.076478e+07</td>\n      <td>1.734486e+08</td>\n      <td>7.820263e+07</td>\n    </tr>\n    <tr>\n      <th>min</th>\n      <td>2.595000e+03</td>\n      <td>9.030000e+02</td>\n      <td>1.000000e+00</td>\n    </tr>\n    <tr>\n      <th>25%</th>\n      <td>4.081800e+06</td>\n      <td>1.415657e+08</td>\n      <td>1.876831e+07</td>\n    </tr>\n    <tr>\n      <th>50%</th>\n      <td>1.315684e+07</td>\n      <td>2.900042e+08</td>\n      <td>5.592106e+07</td>\n    </tr>\n    <tr>\n      <th>75%</th>\n      <td>2.173354e+07</td>\n      <td>4.526637e+08</td>\n      <td>1.324934e+08</td>\n    </tr>\n    <tr>\n      <th>max</th>\n      <td>4.056566e+07</td>\n      <td>5.736112e+08</td>\n      <td>3.146917e+08</td>\n    </tr>\n  </tbody>\n</table>\n</div>"
     },
     "metadata": {},
     "execution_count": 9
    }
   ],
   "source": [
    "fname = folder + '\\\\reviews_detailed\\\\reviews.csv.gz'\n",
    "df = pd.read_csv(fname, compression='gzip')\n",
    "df.describe()"
   ]
  },
  {
   "cell_type": "code",
   "execution_count": 10,
   "metadata": {},
   "outputs": [
    {
     "output_type": "stream",
     "name": "stdout",
     "text": "Number of Variables: 6\n\nNumber of Observations: 1255322\n\nData types:\nint64     3\nobject    3\ndtype: int64\n\nColumn Names by Type:\n\n(dtype('int64'), Index(['listing_id', 'id', 'reviewer_id'], dtype='object'))\n(dtype('O'), Index(['date', 'reviewer_name', 'comments'], dtype='object'))\n"
    }
   ],
   "source": [
    "summarizeData(df)"
   ]
  },
  {
   "cell_type": "markdown",
   "metadata": {},
   "source": [
    "### Sample Observation"
   ]
  },
  {
   "cell_type": "code",
   "execution_count": 11,
   "metadata": {},
   "outputs": [
    {
     "output_type": "execute_result",
     "data": {
      "text/plain": "   listing_id     id        date  reviewer_id reviewer_name  \\\n0        2595  17857  2009-11-21        50679          Jean   \n1        2595  19176  2009-12-05        53267          Cate   \n2        2595  19760  2009-12-10        38960         Anita   \n3        2595  34320  2010-04-09        71130       Kai-Uwe   \n4        2595  46312  2010-05-25       117113        Alicia   \n\n                                            comments  \n0  Notre séjour de trois nuits.\\r\\nNous avons app...  \n1                                  Great experience.  \n2  I've stayed with my friend at the Midtown Cast...  \n3  We've been staying here for about 9 nights, en...  \n4  We had a wonderful stay at Jennifer's charming...  ",
      "text/html": "<div>\n<style scoped>\n    .dataframe tbody tr th:only-of-type {\n        vertical-align: middle;\n    }\n\n    .dataframe tbody tr th {\n        vertical-align: top;\n    }\n\n    .dataframe thead th {\n        text-align: right;\n    }\n</style>\n<table border=\"1\" class=\"dataframe\">\n  <thead>\n    <tr style=\"text-align: right;\">\n      <th></th>\n      <th>listing_id</th>\n      <th>id</th>\n      <th>date</th>\n      <th>reviewer_id</th>\n      <th>reviewer_name</th>\n      <th>comments</th>\n    </tr>\n  </thead>\n  <tbody>\n    <tr>\n      <th>0</th>\n      <td>2595</td>\n      <td>17857</td>\n      <td>2009-11-21</td>\n      <td>50679</td>\n      <td>Jean</td>\n      <td>Notre séjour de trois nuits.\\r\\nNous avons app...</td>\n    </tr>\n    <tr>\n      <th>1</th>\n      <td>2595</td>\n      <td>19176</td>\n      <td>2009-12-05</td>\n      <td>53267</td>\n      <td>Cate</td>\n      <td>Great experience.</td>\n    </tr>\n    <tr>\n      <th>2</th>\n      <td>2595</td>\n      <td>19760</td>\n      <td>2009-12-10</td>\n      <td>38960</td>\n      <td>Anita</td>\n      <td>I've stayed with my friend at the Midtown Cast...</td>\n    </tr>\n    <tr>\n      <th>3</th>\n      <td>2595</td>\n      <td>34320</td>\n      <td>2010-04-09</td>\n      <td>71130</td>\n      <td>Kai-Uwe</td>\n      <td>We've been staying here for about 9 nights, en...</td>\n    </tr>\n    <tr>\n      <th>4</th>\n      <td>2595</td>\n      <td>46312</td>\n      <td>2010-05-25</td>\n      <td>117113</td>\n      <td>Alicia</td>\n      <td>We had a wonderful stay at Jennifer's charming...</td>\n    </tr>\n  </tbody>\n</table>\n</div>"
     },
     "metadata": {},
     "execution_count": 11
    }
   ],
   "source": [
    "df.head()"
   ]
  },
  {
   "cell_type": "markdown",
   "metadata": {},
   "source": [
    "## File: reviews.csv (summary)\n",
    "* Summary Review data and Listing ID (to facilitate time based analytics and visualizations linked to a listing)\n",
    "* Contains 1255322 observations of 1 numeric and 1 object variables\n",
    "* These are observations of review dates by listing ID."
   ]
  },
  {
   "cell_type": "code",
   "execution_count": 12,
   "metadata": {},
   "outputs": [
    {
     "output_type": "execute_result",
     "data": {
      "text/plain": "         listing_id\ncount  1.255322e+06\nmean   1.396211e+07\nstd    1.076478e+07\nmin    2.595000e+03\n25%    4.081800e+06\n50%    1.315684e+07\n75%    2.173354e+07\nmax    4.056566e+07",
      "text/html": "<div>\n<style scoped>\n    .dataframe tbody tr th:only-of-type {\n        vertical-align: middle;\n    }\n\n    .dataframe tbody tr th {\n        vertical-align: top;\n    }\n\n    .dataframe thead th {\n        text-align: right;\n    }\n</style>\n<table border=\"1\" class=\"dataframe\">\n  <thead>\n    <tr style=\"text-align: right;\">\n      <th></th>\n      <th>listing_id</th>\n    </tr>\n  </thead>\n  <tbody>\n    <tr>\n      <th>count</th>\n      <td>1.255322e+06</td>\n    </tr>\n    <tr>\n      <th>mean</th>\n      <td>1.396211e+07</td>\n    </tr>\n    <tr>\n      <th>std</th>\n      <td>1.076478e+07</td>\n    </tr>\n    <tr>\n      <th>min</th>\n      <td>2.595000e+03</td>\n    </tr>\n    <tr>\n      <th>25%</th>\n      <td>4.081800e+06</td>\n    </tr>\n    <tr>\n      <th>50%</th>\n      <td>1.315684e+07</td>\n    </tr>\n    <tr>\n      <th>75%</th>\n      <td>2.173354e+07</td>\n    </tr>\n    <tr>\n      <th>max</th>\n      <td>4.056566e+07</td>\n    </tr>\n  </tbody>\n</table>\n</div>"
     },
     "metadata": {},
     "execution_count": 12
    }
   ],
   "source": [
    "fname = folder + '\\\\reviews.csv'\n",
    "df = pd.read_csv(fname)\n",
    "df.describe()"
   ]
  },
  {
   "cell_type": "code",
   "execution_count": 13,
   "metadata": {},
   "outputs": [
    {
     "output_type": "stream",
     "name": "stdout",
     "text": "Number of Variables: 2\n\nNumber of Observations: 1255322\n\nData types:\nint64     1\nobject    1\ndtype: int64\n\nColumn Names by Type:\n\n(dtype('int64'), Index(['listing_id'], dtype='object'))\n(dtype('O'), Index(['date'], dtype='object'))\n"
    }
   ],
   "source": [
    "summarizeData(df)"
   ]
  },
  {
   "cell_type": "markdown",
   "metadata": {},
   "source": [
    "### Sample Observation"
   ]
  },
  {
   "cell_type": "code",
   "execution_count": 14,
   "metadata": {},
   "outputs": [
    {
     "output_type": "execute_result",
     "data": {
      "text/plain": "   listing_id        date\n0        2595  2009-11-21\n1        2595  2009-12-05\n2        2595  2009-12-10\n3        2595  2010-04-09\n4        2595  2010-05-25",
      "text/html": "<div>\n<style scoped>\n    .dataframe tbody tr th:only-of-type {\n        vertical-align: middle;\n    }\n\n    .dataframe tbody tr th {\n        vertical-align: top;\n    }\n\n    .dataframe thead th {\n        text-align: right;\n    }\n</style>\n<table border=\"1\" class=\"dataframe\">\n  <thead>\n    <tr style=\"text-align: right;\">\n      <th></th>\n      <th>listing_id</th>\n      <th>date</th>\n    </tr>\n  </thead>\n  <tbody>\n    <tr>\n      <th>0</th>\n      <td>2595</td>\n      <td>2009-11-21</td>\n    </tr>\n    <tr>\n      <th>1</th>\n      <td>2595</td>\n      <td>2009-12-05</td>\n    </tr>\n    <tr>\n      <th>2</th>\n      <td>2595</td>\n      <td>2009-12-10</td>\n    </tr>\n    <tr>\n      <th>3</th>\n      <td>2595</td>\n      <td>2010-04-09</td>\n    </tr>\n    <tr>\n      <th>4</th>\n      <td>2595</td>\n      <td>2010-05-25</td>\n    </tr>\n  </tbody>\n</table>\n</div>"
     },
     "metadata": {},
     "execution_count": 14
    }
   ],
   "source": [
    "df.head()"
   ]
  },
  {
   "cell_type": "markdown",
   "metadata": {},
   "source": [
    "## File: calendar.csv.gz (detailed)\n",
    "> Detailed Calendar Data for listings in New York City"
   ]
  },
  {
   "cell_type": "code",
   "execution_count": 15,
   "metadata": {},
   "outputs": [
    {
     "output_type": "execute_result",
     "data": {
      "text/plain": "         listing_id  minimum_nights  maximum_nights\ncount  1.847016e+07    1.846950e+07    1.846950e+07\nmean   2.137365e+07    8.528041e+00    6.886948e+05\nstd    1.242861e+07    3.029394e+01    3.841186e+07\nmin    2.595000e+03    1.000000e+00    1.000000e+00\n25%    1.009889e+07    1.000000e+00    2.900000e+01\n50%    2.154642e+07    3.000000e+00    1.125000e+03\n75%    3.271789e+07    5.000000e+00    1.125000e+03\nmax    4.058402e+07    3.456000e+03    2.147484e+09",
      "text/html": "<div>\n<style scoped>\n    .dataframe tbody tr th:only-of-type {\n        vertical-align: middle;\n    }\n\n    .dataframe tbody tr th {\n        vertical-align: top;\n    }\n\n    .dataframe thead th {\n        text-align: right;\n    }\n</style>\n<table border=\"1\" class=\"dataframe\">\n  <thead>\n    <tr style=\"text-align: right;\">\n      <th></th>\n      <th>listing_id</th>\n      <th>minimum_nights</th>\n      <th>maximum_nights</th>\n    </tr>\n  </thead>\n  <tbody>\n    <tr>\n      <th>count</th>\n      <td>1.847016e+07</td>\n      <td>1.846950e+07</td>\n      <td>1.846950e+07</td>\n    </tr>\n    <tr>\n      <th>mean</th>\n      <td>2.137365e+07</td>\n      <td>8.528041e+00</td>\n      <td>6.886948e+05</td>\n    </tr>\n    <tr>\n      <th>std</th>\n      <td>1.242861e+07</td>\n      <td>3.029394e+01</td>\n      <td>3.841186e+07</td>\n    </tr>\n    <tr>\n      <th>min</th>\n      <td>2.595000e+03</td>\n      <td>1.000000e+00</td>\n      <td>1.000000e+00</td>\n    </tr>\n    <tr>\n      <th>25%</th>\n      <td>1.009889e+07</td>\n      <td>1.000000e+00</td>\n      <td>2.900000e+01</td>\n    </tr>\n    <tr>\n      <th>50%</th>\n      <td>2.154642e+07</td>\n      <td>3.000000e+00</td>\n      <td>1.125000e+03</td>\n    </tr>\n    <tr>\n      <th>75%</th>\n      <td>3.271789e+07</td>\n      <td>5.000000e+00</td>\n      <td>1.125000e+03</td>\n    </tr>\n    <tr>\n      <th>max</th>\n      <td>4.058402e+07</td>\n      <td>3.456000e+03</td>\n      <td>2.147484e+09</td>\n    </tr>\n  </tbody>\n</table>\n</div>"
     },
     "metadata": {},
     "execution_count": 15
    }
   ],
   "source": [
    "fname = folder + '\\\\calendar_detailed\\\\calendar.csv.gz'\n",
    "df = pd.read_csv(fname, compression='gzip')\n",
    "df.describe()"
   ]
  },
  {
   "cell_type": "code",
   "execution_count": 16,
   "metadata": {},
   "outputs": [
    {
     "output_type": "stream",
     "name": "stdout",
     "text": "Number of Variables: 7\n\nNumber of Observations: 18470156\n\nData types:\nobject     4\nfloat64    2\nint64      1\ndtype: int64\n\nColumn Names by Type:\n\n(dtype('int64'), Index(['listing_id'], dtype='object'))\n(dtype('float64'), Index(['minimum_nights', 'maximum_nights'], dtype='object'))\n(dtype('O'), Index(['date', 'available', 'price', 'adjusted_price'], dtype='object'))\n"
    }
   ],
   "source": [
    "summarizeData(df)"
   ]
  },
  {
   "cell_type": "markdown",
   "metadata": {},
   "source": [
    "### Sample Observation"
   ]
  },
  {
   "cell_type": "code",
   "execution_count": 17,
   "metadata": {},
   "outputs": [
    {
     "output_type": "execute_result",
     "data": {
      "text/plain": "   listing_id        date available    price adjusted_price  minimum_nights  \\\n0       19812  2019-12-05         f  $105.00        $105.00             3.0   \n1        2595  2019-12-06         f  $175.00        $175.00            10.0   \n2        2595  2019-12-07         f  $175.00        $175.00            10.0   \n3        2595  2019-12-08         f  $175.00        $175.00            10.0   \n4        2595  2019-12-09         f  $175.00        $175.00            10.0   \n\n   maximum_nights  \n0            90.0  \n1          1125.0  \n2          1125.0  \n3          1125.0  \n4          1125.0  ",
      "text/html": "<div>\n<style scoped>\n    .dataframe tbody tr th:only-of-type {\n        vertical-align: middle;\n    }\n\n    .dataframe tbody tr th {\n        vertical-align: top;\n    }\n\n    .dataframe thead th {\n        text-align: right;\n    }\n</style>\n<table border=\"1\" class=\"dataframe\">\n  <thead>\n    <tr style=\"text-align: right;\">\n      <th></th>\n      <th>listing_id</th>\n      <th>date</th>\n      <th>available</th>\n      <th>price</th>\n      <th>adjusted_price</th>\n      <th>minimum_nights</th>\n      <th>maximum_nights</th>\n    </tr>\n  </thead>\n  <tbody>\n    <tr>\n      <th>0</th>\n      <td>19812</td>\n      <td>2019-12-05</td>\n      <td>f</td>\n      <td>$105.00</td>\n      <td>$105.00</td>\n      <td>3.0</td>\n      <td>90.0</td>\n    </tr>\n    <tr>\n      <th>1</th>\n      <td>2595</td>\n      <td>2019-12-06</td>\n      <td>f</td>\n      <td>$175.00</td>\n      <td>$175.00</td>\n      <td>10.0</td>\n      <td>1125.0</td>\n    </tr>\n    <tr>\n      <th>2</th>\n      <td>2595</td>\n      <td>2019-12-07</td>\n      <td>f</td>\n      <td>$175.00</td>\n      <td>$175.00</td>\n      <td>10.0</td>\n      <td>1125.0</td>\n    </tr>\n    <tr>\n      <th>3</th>\n      <td>2595</td>\n      <td>2019-12-08</td>\n      <td>f</td>\n      <td>$175.00</td>\n      <td>$175.00</td>\n      <td>10.0</td>\n      <td>1125.0</td>\n    </tr>\n    <tr>\n      <th>4</th>\n      <td>2595</td>\n      <td>2019-12-09</td>\n      <td>f</td>\n      <td>$175.00</td>\n      <td>$175.00</td>\n      <td>10.0</td>\n      <td>1125.0</td>\n    </tr>\n  </tbody>\n</table>\n</div>"
     },
     "metadata": {},
     "execution_count": 17
    }
   ],
   "source": [
    "df.head()"
   ]
  },
  {
   "cell_type": "markdown",
   "metadata": {},
   "source": [
    "## File: neighbourhoods.csv\n",
    "> Neighbourhood list for geo filter. Sourced from city or open source GIS files."
   ]
  },
  {
   "cell_type": "code",
   "execution_count": 18,
   "metadata": {},
   "outputs": [
    {
     "output_type": "execute_result",
     "data": {
      "text/plain": "       neighbourhood_group     neighbourhood\ncount                  230               230\nunique                   5               230\ntop                 Queens  Ditmars Steinway\nfreq                    53                 1",
      "text/html": "<div>\n<style scoped>\n    .dataframe tbody tr th:only-of-type {\n        vertical-align: middle;\n    }\n\n    .dataframe tbody tr th {\n        vertical-align: top;\n    }\n\n    .dataframe thead th {\n        text-align: right;\n    }\n</style>\n<table border=\"1\" class=\"dataframe\">\n  <thead>\n    <tr style=\"text-align: right;\">\n      <th></th>\n      <th>neighbourhood_group</th>\n      <th>neighbourhood</th>\n    </tr>\n  </thead>\n  <tbody>\n    <tr>\n      <th>count</th>\n      <td>230</td>\n      <td>230</td>\n    </tr>\n    <tr>\n      <th>unique</th>\n      <td>5</td>\n      <td>230</td>\n    </tr>\n    <tr>\n      <th>top</th>\n      <td>Queens</td>\n      <td>Ditmars Steinway</td>\n    </tr>\n    <tr>\n      <th>freq</th>\n      <td>53</td>\n      <td>1</td>\n    </tr>\n  </tbody>\n</table>\n</div>"
     },
     "metadata": {},
     "execution_count": 18
    }
   ],
   "source": [
    "fname = folder + '\\\\neighbourhoods.csv'\n",
    "df = pd.read_csv(fname)\n",
    "df.describe()"
   ]
  },
  {
   "cell_type": "code",
   "execution_count": 19,
   "metadata": {},
   "outputs": [
    {
     "output_type": "stream",
     "name": "stdout",
     "text": "Number of Variables: 2\n\nNumber of Observations: 230\n\nData types:\nobject    2\ndtype: int64\n\nColumn Names by Type:\n\n(dtype('O'), Index(['neighbourhood_group', 'neighbourhood'], dtype='object'))\n"
    }
   ],
   "source": [
    "summarizeData(df)"
   ]
  },
  {
   "cell_type": "markdown",
   "metadata": {},
   "source": [
    "### Sample Observation"
   ]
  },
  {
   "cell_type": "code",
   "execution_count": 23,
   "metadata": {},
   "outputs": [
    {
     "output_type": "execute_result",
     "data": {
      "text/plain": "  neighbourhood_group neighbourhood\n0               Bronx      Allerton\n1               Bronx    Baychester\n2               Bronx       Belmont\n3               Bronx     Bronxdale\n4               Bronx   Castle Hill",
      "text/html": "<div>\n<style scoped>\n    .dataframe tbody tr th:only-of-type {\n        vertical-align: middle;\n    }\n\n    .dataframe tbody tr th {\n        vertical-align: top;\n    }\n\n    .dataframe thead th {\n        text-align: right;\n    }\n</style>\n<table border=\"1\" class=\"dataframe\">\n  <thead>\n    <tr style=\"text-align: right;\">\n      <th></th>\n      <th>neighbourhood_group</th>\n      <th>neighbourhood</th>\n    </tr>\n  </thead>\n  <tbody>\n    <tr>\n      <th>0</th>\n      <td>Bronx</td>\n      <td>Allerton</td>\n    </tr>\n    <tr>\n      <th>1</th>\n      <td>Bronx</td>\n      <td>Baychester</td>\n    </tr>\n    <tr>\n      <th>2</th>\n      <td>Bronx</td>\n      <td>Belmont</td>\n    </tr>\n    <tr>\n      <th>3</th>\n      <td>Bronx</td>\n      <td>Bronxdale</td>\n    </tr>\n    <tr>\n      <th>4</th>\n      <td>Bronx</td>\n      <td>Castle Hill</td>\n    </tr>\n  </tbody>\n</table>\n</div>"
     },
     "metadata": {},
     "execution_count": 23
    }
   ],
   "source": [
    "df.head()"
   ]
  },
  {
   "cell_type": "markdown",
   "metadata": {},
   "source": [
    "## File: neighbourhoods.geojson\n",
    "> GeoJSON file of neighbourhoods of the city"
   ]
  },
  {
   "cell_type": "code",
   "execution_count": 20,
   "metadata": {},
   "outputs": [],
   "source": [
    "fname = folder + '\\\\neighbourhoods.geojson'\n",
    "with open(fname,'r') as fin:\n",
    "    data = json.loads(fin.read())"
   ]
  },
  {
   "cell_type": "code",
   "execution_count": 21,
   "metadata": {},
   "outputs": [
    {
     "output_type": "execute_result",
     "data": {
      "text/plain": "dict_keys(['type', 'features'])"
     },
     "metadata": {},
     "execution_count": 21
    }
   ],
   "source": [
    "data.keys()"
   ]
  },
  {
   "cell_type": "code",
   "execution_count": 22,
   "metadata": {},
   "outputs": [
    {
     "output_type": "execute_result",
     "data": {
      "text/plain": "'FeatureCollection'"
     },
     "metadata": {},
     "execution_count": 22
    }
   ],
   "source": [
    "data['type']"
   ]
  },
  {
   "cell_type": "code",
   "execution_count": 24,
   "metadata": {},
   "outputs": [
    {
     "output_type": "stream",
     "name": "stdout",
     "text": "There are 233 feature sets in the collection\n"
    }
   ],
   "source": [
    "print(\"There are {:d} feature sets in the collection\".format(len(data['features'])))"
   ]
  },
  {
   "cell_type": "markdown",
   "metadata": {},
   "source": [
    "### Sample Observation"
   ]
  },
  {
   "cell_type": "code",
   "execution_count": 25,
   "metadata": {},
   "outputs": [
    {
     "output_type": "execute_result",
     "data": {
      "text/plain": "{'type': 'Feature',\n 'geometry': {'type': 'MultiPolygon',\n  'coordinates': [[[[-73.766708, 40.614911],\n     [-73.768253, 40.614878],\n     [-73.773977, 40.616004],\n     [-73.773631, 40.616327],\n     [-73.768735, 40.620901],\n     [-73.767459, 40.620511],\n     [-73.766978, 40.616919],\n     [-73.766708, 40.614911]]]]},\n 'properties': {'neighbourhood': 'Bayswater', 'neighbourhood_group': 'Queens'}}"
     },
     "metadata": {},
     "execution_count": 25
    }
   ],
   "source": [
    "# inspect first feature set\n",
    "data['features'][0]"
   ]
  },
  {
   "cell_type": "markdown",
   "metadata": {},
   "source": [
    "Each feature set contains latitude and longitude coordinates specific to neighbourhood and neighbourhood group."
   ]
  },
  {
   "cell_type": "code",
   "execution_count": 26,
   "metadata": {},
   "outputs": [
    {
     "output_type": "stream",
     "name": "stdout",
     "text": "{'Brooklyn', 'Manhattan', 'Staten Island', 'Queens', 'Bronx'}\n"
    }
   ],
   "source": [
    "# all neighbourhood groups\n",
    "neighbourhoodgroups = set([f['properties']['neighbourhood_group'] for f in data['features']])\n",
    "print(neighbourhoodgroups)"
   ]
  },
  {
   "cell_type": "code",
   "execution_count": 27,
   "metadata": {},
   "outputs": [
    {
     "output_type": "stream",
     "name": "stdout",
     "text": "\n group: Brooklyn\n neighbourhoods:48 \n\n['Bay Ridge', 'Gerritsen Beach', 'Bath Beach', 'Bedford-Stuyvesant', 'Bensonhurst', 'Bergen Beach', 'Boerum Hill', 'Borough Park', 'Brighton Beach', 'Prospect-Lefferts Gardens', 'Brooklyn Heights', 'Brownsville', 'Bushwick', 'Cypress Hills', 'Canarsie', 'Carroll Gardens', 'Clinton Hill', 'Cobble Hill', 'Crown Heights', 'Columbia St', 'Coney Island', 'DUMBO', 'Downtown Brooklyn', 'Dyker Heights', 'East Flatbush', 'East New York', 'Flatbush', 'Flatlands', 'Gowanus', 'Fort Greene', 'Fort Hamilton', 'Gravesend', 'Kensington', 'Greenpoint', 'Manhattan Beach', 'Midwood', 'Mill Basin', 'Navy Yard', 'Park Slope', 'Prospect Heights', 'Red Hook', 'Sea Gate', 'Sheepshead Bay', 'South Slope', 'Sunset Park', 'Vinegar Hill', 'Windsor Terrace', 'Williamsburg']\n\n group: Manhattan\n neighbourhoods:32 \n\n['Battery Park City', 'Chinatown', 'Chelsea', 'Civic Center', 'East Harlem', 'East Village', 'Financial District', 'Flatiron District', 'Gramercy', 'Greenwich Village', 'Harlem', \"Hell's Kitchen\", 'Inwood', 'Kips Bay', 'Little Italy', 'Murray Hill', 'Lower East Side', 'Marble Hill', 'Midtown', 'Morningside Heights', 'NoHo', 'Nolita', 'SoHo', 'Roosevelt Island', 'Stuyvesant Town', 'Theater District', 'Tribeca', 'Two Bridges', 'Upper East Side', 'Upper West Side', 'Washington Heights', 'West Village']\n\n group: Staten Island\n neighbourhoods:48 \n\n['Arden Heights', 'Arrochar', 'Port Ivory', 'Bay Terrace, Staten Island', 'Bloomfield', \"Bull's Head\", 'Chelsea, Staten Island', 'Castleton Corners', 'Grant City', 'Charleston', 'Clifton', 'Concord', 'Dongan Hills', 'Eltingville', 'Emerson Hill', 'Shore Acres', 'Fort Wadsworth', 'Graniteville', 'Great Kills', 'Huguenot', 'Grymes Hill', 'Howland Hook', 'Lighthouse Hill', 'Oakwood', 'Pleasant Plains', 'Mariners Harbor', 'Midland Beach', 'New Brighton', 'New Dorp', 'New Dorp Beach', 'New Springville', 'Port Richmond', \"Prince's Bay\", 'Randall Manor', 'Silver Lake', 'Woodrow', 'Richmondtown', 'Rosebank', 'Rossville', 'South Beach', 'Tompkinsville', 'St. George', 'Stapleton', 'Todt Hill', 'Tottenville', 'West Brighton', 'Westerleigh', 'Willowbrook']\n\n group: Queens\n neighbourhoods:55 \n\n['Bayswater', 'Ditmars Steinway', 'Ozone Park', 'Whitestone', 'Arverne', 'Astoria', 'Bayside', 'Bay Terrace', 'Bayswater', 'Belle Harbor', 'Bellerose', 'Breezy Point', 'Briarwood', 'Cambria Heights', 'College Point', 'Corona', 'Jamaica Hills', 'Douglaston', 'Glen Oaks', 'East Elmhurst', 'Elmhurst', 'Edgemere', 'Glendale', 'Far Rockaway', 'Jamaica Estates', 'Laurelton', 'Flushing', 'Forest Hills', 'Fresh Meadows', 'Kew Gardens', 'Queens Village', 'Hollis', 'Hollis Hills', 'Holliswood', 'Howard Beach', 'Howard Beach', 'Jackson Heights', 'Jamaica', 'Kew Gardens Hills', 'Little Neck', 'Long Island City', 'Maspeth', 'Middle Village', 'Neponsit', 'Rego Park', 'Richmond Hill', 'Ridgewood', 'Rockaway Beach', 'Rosedale', 'South Ozone Park', 'Springfield Gardens', 'St. Albans', 'Sunnyside', 'Woodside', 'Woodhaven']\n\n group: Bronx\n neighbourhoods:50 \n\n['Allerton', 'City Island', 'Fordham', 'Belmont', 'Soundview', 'Baychester', 'Mott Haven', 'Bronxdale', 'City Island', 'Castle Hill', 'Claremont Village', 'Clason Point', 'Co-op City', 'Concourse', 'Concourse Village', 'Mount Eden', 'Country Club', 'Mount Hope', 'East Morrisania', 'Fieldston', 'Eastchester', 'Edenwald', 'Parkchester', 'Pelham Bay', 'Highbridge', 'Pelham Gardens', 'Hunts Point', 'Morris Park', 'Kingsbridge', 'Morrisania', 'Longwood', 'Norwood', 'Morris Heights', 'Melrose', 'Olinville', 'North Riverdale', 'Port Morris', 'Riverdale', 'Schuylerville', 'Spuyten Duyvil', 'Van Nest', 'Throgs Neck', 'Tremont', 'Unionport', 'University Heights', 'Wakefield', 'West Farms', 'Woodlawn', 'Westchester Square', 'Williamsbridge']\n"
    }
   ],
   "source": [
    "# all neighbourhoods by neighbourhood group\n",
    "for group in neighbourhoodgroups:\n",
    "    # neighbourhoods respective to neighbourhood group\n",
    "    nnames = [f['properties']['neighbourhood'] for f in data['features'] if f['properties']['neighbourhood_group'] == group]\n",
    "    print('\\n',\"group:\",group)\n",
    "    print(\" neighbourhoods:{:d}\".format(len(nnames)),'\\n')\n",
    "    print(nnames)"
   ]
  },
  {
   "cell_type": "markdown",
   "execution_count": 36,
   "metadata": {},
   "outputs": [
    {
     "ename": "ModuleNotFoundError",
     "evalue": "No module named 'zipcode'",
     "output_type": "error",
     "traceback": [
      "\u001b[1;31m---------------------------------------------------------------------------\u001b[0m",
      "\u001b[1;31mModuleNotFoundError\u001b[0m                       Traceback (most recent call last)",
      "\u001b[1;32m<ipython-input-36-2f2ddb2097e6>\u001b[0m in \u001b[0;36m<module>\u001b[1;34m()\u001b[0m\n\u001b[1;32m----> 1\u001b[1;33m \u001b[1;32mimport\u001b[0m \u001b[0mzipcode\u001b[0m\u001b[1;33m\u001b[0m\u001b[0m\n\u001b[0m",
      "\u001b[1;31mModuleNotFoundError\u001b[0m: No module named 'zipcode'"
     ]
    }
   ],
   "source": [
    "## Getting Zipcodes for Coordinates"
   ]
  },
  {
   "cell_type": "code",
   "execution_count": 28,
   "metadata": {},
   "outputs": [],
   "source": [
    "from uszipcode import SearchEngine\n",
    "from uszipcode import Zipcode\n",
    "from uszipcode import SimpleZipcode\n",
    "search = SearchEngine(simple_zipcode=True) # set simple_zipcode=False to use rich info database\n",
    "result = search.by_coordinates(40.614878, -73.768253, radius=30, returns=1)"
   ]
  },
  {
   "cell_type": "code",
   "execution_count": 29,
   "metadata": {},
   "outputs": [
    {
     "output_type": "execute_result",
     "data": {
      "text/plain": "{'neighbourhood': 'Bayswater', 'neighbourhood_group': 'Queens'}"
     },
     "metadata": {},
     "execution_count": 29
    }
   ],
   "source": [
    "data['features'][0]['properties']"
   ]
  },
  {
   "cell_type": "code",
   "execution_count": 30,
   "metadata": {},
   "outputs": [
    {
     "output_type": "stream",
     "name": "stdout",
     "text": "-73.766708 40.614911\n-73.768253 40.614878\n-73.773977 40.616004\n-73.773631 40.616327\n-73.768735 40.620901\n-73.767459 40.620511\n-73.766978 40.616919\n-73.766708 40.614911\n"
    }
   ],
   "source": [
    "for i in data['features'][0]['geometry']['coordinates'][0][0]:\n",
    "    print(i[0], i[1])"
   ]
  },
  {
   "cell_type": "code",
   "execution_count": 31,
   "metadata": {},
   "outputs": [
    {
     "output_type": "execute_result",
     "data": {
      "text/plain": "[SimpleZipcode(zipcode='11096', zipcode_type='Standard', major_city='Inwood', post_office_city='Inwood, NY', common_city_list=['Inwood', 'Far Rockaway'], county='Nassau County', state='NY', lat=40.62, lng=-73.75, timezone='Eastern', radius_in_miles=1.0, area_code_list=['516', '718', '347', '929'], population=8344, population_density=6827.0, land_area_in_sqmi=1.22, water_area_in_sqmi=0.47, housing_units=2702, occupied_housing_units=2536, median_home_value=384800, median_household_income=48538, bounds_west=-73.767023, bounds_east=-73.737316, bounds_north=40.633387, bounds_south=40.609984)]"
     },
     "metadata": {},
     "execution_count": 31
    }
   ],
   "source": [
    "search.by_coordinates(lat = 40.614911, lng = -73.766708, returns=1)"
   ]
  },
  {
   "cell_type": "code",
   "execution_count": 32,
   "metadata": {},
   "outputs": [
    {
     "output_type": "stream",
     "name": "stdout",
     "text": "{'neighbourhood': 'Bayswater', 'neighbourhood_group': 'Queens'}\n{'neighbourhood': 'Allerton', 'neighbourhood_group': 'Bronx'}\n{'neighbourhood': 'City Island', 'neighbourhood_group': 'Bronx'}\n{'neighbourhood': 'Ditmars Steinway', 'neighbourhood_group': 'Queens'}\n{'neighbourhood': 'Ozone Park', 'neighbourhood_group': 'Queens'}\n{'neighbourhood': 'Fordham', 'neighbourhood_group': 'Bronx'}\n{'neighbourhood': 'Whitestone', 'neighbourhood_group': 'Queens'}\n{'neighbourhood': 'Arden Heights', 'neighbourhood_group': 'Staten Island'}\n{'neighbourhood': 'Arrochar', 'neighbourhood_group': 'Staten Island'}\n{'neighbourhood': 'Arverne', 'neighbourhood_group': 'Queens'}\n{'neighbourhood': 'Bay Ridge', 'neighbourhood_group': 'Brooklyn'}\n{'neighbourhood': 'Belmont', 'neighbourhood_group': 'Bronx'}\n{'neighbourhood': 'Gerritsen Beach', 'neighbourhood_group': 'Brooklyn'}\n{'neighbourhood': 'Port Ivory', 'neighbourhood_group': 'Staten Island'}\n{'neighbourhood': 'Soundview', 'neighbourhood_group': 'Bronx'}\n{'neighbourhood': 'Astoria', 'neighbourhood_group': 'Queens'}\n{'neighbourhood': 'Bath Beach', 'neighbourhood_group': 'Brooklyn'}\n{'neighbourhood': 'Bayside', 'neighbourhood_group': 'Queens'}\n{'neighbourhood': 'Battery Park City', 'neighbourhood_group': 'Manhattan'}\n{'neighbourhood': 'Bay Terrace', 'neighbourhood_group': 'Queens'}\n{'neighbourhood': 'Bay Terrace, Staten Island', 'neighbourhood_group': 'Staten Island'}\n{'neighbourhood': 'Baychester', 'neighbourhood_group': 'Bronx'}\n{'neighbourhood': 'Bayswater', 'neighbourhood_group': 'Queens'}\n{'neighbourhood': 'Bedford-Stuyvesant', 'neighbourhood_group': 'Brooklyn'}\n{'neighbourhood': 'Belle Harbor', 'neighbourhood_group': 'Queens'}\n{'neighbourhood': 'Bellerose', 'neighbourhood_group': 'Queens'}\n{'neighbourhood': 'Bensonhurst', 'neighbourhood_group': 'Brooklyn'}\n{'neighbourhood': 'Bergen Beach', 'neighbourhood_group': 'Brooklyn'}\n{'neighbourhood': 'Bloomfield', 'neighbourhood_group': 'Staten Island'}\n{'neighbourhood': 'Boerum Hill', 'neighbourhood_group': 'Brooklyn'}\n{'neighbourhood': 'Borough Park', 'neighbourhood_group': 'Brooklyn'}\n{'neighbourhood': 'Brighton Beach', 'neighbourhood_group': 'Brooklyn'}\n{'neighbourhood': 'Prospect-Lefferts Gardens', 'neighbourhood_group': 'Brooklyn'}\n{'neighbourhood': 'Mott Haven', 'neighbourhood_group': 'Bronx'}\n{'neighbourhood': 'Bronxdale', 'neighbourhood_group': 'Bronx'}\n{'neighbourhood': 'Breezy Point', 'neighbourhood_group': 'Queens'}\n{'neighbourhood': 'Briarwood', 'neighbourhood_group': 'Queens'}\n{'neighbourhood': 'Brooklyn Heights', 'neighbourhood_group': 'Brooklyn'}\n{'neighbourhood': 'Brownsville', 'neighbourhood_group': 'Brooklyn'}\n{'neighbourhood': \"Bull's Head\", 'neighbourhood_group': 'Staten Island'}\n{'neighbourhood': 'Bushwick', 'neighbourhood_group': 'Brooklyn'}\n{'neighbourhood': 'Cambria Heights', 'neighbourhood_group': 'Queens'}\n{'neighbourhood': 'Chelsea, Staten Island', 'neighbourhood_group': 'Staten Island'}\n{'neighbourhood': 'Chinatown', 'neighbourhood_group': 'Manhattan'}\n{'neighbourhood': 'City Island', 'neighbourhood_group': 'Bronx'}\n{'neighbourhood': 'Cypress Hills', 'neighbourhood_group': 'Brooklyn'}\n{'neighbourhood': 'Canarsie', 'neighbourhood_group': 'Brooklyn'}\n{'neighbourhood': 'Carroll Gardens', 'neighbourhood_group': 'Brooklyn'}\n{'neighbourhood': 'Castle Hill', 'neighbourhood_group': 'Bronx'}\n{'neighbourhood': 'Castleton Corners', 'neighbourhood_group': 'Staten Island'}\n{'neighbourhood': 'Grant City', 'neighbourhood_group': 'Staten Island'}\n{'neighbourhood': 'Charleston', 'neighbourhood_group': 'Staten Island'}\n{'neighbourhood': 'Chelsea', 'neighbourhood_group': 'Manhattan'}\n{'neighbourhood': 'Civic Center', 'neighbourhood_group': 'Manhattan'}\n{'neighbourhood': 'Claremont Village', 'neighbourhood_group': 'Bronx'}\n{'neighbourhood': 'Clason Point', 'neighbourhood_group': 'Bronx'}\n{'neighbourhood': 'Clifton', 'neighbourhood_group': 'Staten Island'}\n{'neighbourhood': 'Clinton Hill', 'neighbourhood_group': 'Brooklyn'}\n{'neighbourhood': 'Co-op City', 'neighbourhood_group': 'Bronx'}\n{'neighbourhood': 'Cobble Hill', 'neighbourhood_group': 'Brooklyn'}\n{'neighbourhood': 'College Point', 'neighbourhood_group': 'Queens'}\n{'neighbourhood': 'Crown Heights', 'neighbourhood_group': 'Brooklyn'}\n{'neighbourhood': 'Columbia St', 'neighbourhood_group': 'Brooklyn'}\n{'neighbourhood': 'Concord', 'neighbourhood_group': 'Staten Island'}\n{'neighbourhood': 'Concourse', 'neighbourhood_group': 'Bronx'}\n{'neighbourhood': 'Concourse Village', 'neighbourhood_group': 'Bronx'}\n{'neighbourhood': 'Coney Island', 'neighbourhood_group': 'Brooklyn'}\n{'neighbourhood': 'Corona', 'neighbourhood_group': 'Queens'}\n{'neighbourhood': 'Mount Eden', 'neighbourhood_group': 'Bronx'}\n{'neighbourhood': 'Jamaica Hills', 'neighbourhood_group': 'Queens'}\n{'neighbourhood': 'Country Club', 'neighbourhood_group': 'Bronx'}\n{'neighbourhood': 'Mount Hope', 'neighbourhood_group': 'Bronx'}\n{'neighbourhood': 'DUMBO', 'neighbourhood_group': 'Brooklyn'}\n{'neighbourhood': 'Dongan Hills', 'neighbourhood_group': 'Staten Island'}\n{'neighbourhood': 'Douglaston', 'neighbourhood_group': 'Queens'}\n{'neighbourhood': 'Downtown Brooklyn', 'neighbourhood_group': 'Brooklyn'}\n{'neighbourhood': 'Dyker Heights', 'neighbourhood_group': 'Brooklyn'}\n{'neighbourhood': 'Glen Oaks', 'neighbourhood_group': 'Queens'}\n{'neighbourhood': 'East Elmhurst', 'neighbourhood_group': 'Queens'}\n{'neighbourhood': 'East Flatbush', 'neighbourhood_group': 'Brooklyn'}\n{'neighbourhood': 'East Harlem', 'neighbourhood_group': 'Manhattan'}\n{'neighbourhood': 'East Morrisania', 'neighbourhood_group': 'Bronx'}\n{'neighbourhood': 'Eltingville', 'neighbourhood_group': 'Staten Island'}\n{'neighbourhood': 'Emerson Hill', 'neighbourhood_group': 'Staten Island'}\n{'neighbourhood': 'Elmhurst', 'neighbourhood_group': 'Queens'}\n{'neighbourhood': 'Fieldston', 'neighbourhood_group': 'Bronx'}\n{'neighbourhood': 'East New York', 'neighbourhood_group': 'Brooklyn'}\n{'neighbourhood': 'East Village', 'neighbourhood_group': 'Manhattan'}\n{'neighbourhood': 'Eastchester', 'neighbourhood_group': 'Bronx'}\n{'neighbourhood': 'Edenwald', 'neighbourhood_group': 'Bronx'}\n{'neighbourhood': 'Edgemere', 'neighbourhood_group': 'Queens'}\n{'neighbourhood': 'Glendale', 'neighbourhood_group': 'Queens'}\n{'neighbourhood': 'Far Rockaway', 'neighbourhood_group': 'Queens'}\n{'neighbourhood': 'Jamaica Estates', 'neighbourhood_group': 'Queens'}\n{'neighbourhood': 'Financial District', 'neighbourhood_group': 'Manhattan'}\n{'neighbourhood': 'Flatbush', 'neighbourhood_group': 'Brooklyn'}\n{'neighbourhood': 'Flatiron District', 'neighbourhood_group': 'Manhattan'}\n{'neighbourhood': 'Flatlands', 'neighbourhood_group': 'Brooklyn'}\n{'neighbourhood': 'Laurelton', 'neighbourhood_group': 'Queens'}\n{'neighbourhood': 'Shore Acres', 'neighbourhood_group': 'Staten Island'}\n{'neighbourhood': 'Flushing', 'neighbourhood_group': 'Queens'}\n{'neighbourhood': 'Gowanus', 'neighbourhood_group': 'Brooklyn'}\n{'neighbourhood': 'Forest Hills', 'neighbourhood_group': 'Queens'}\n{'neighbourhood': 'Fort Greene', 'neighbourhood_group': 'Brooklyn'}\n{'neighbourhood': 'Fort Hamilton', 'neighbourhood_group': 'Brooklyn'}\n{'neighbourhood': 'Fort Wadsworth', 'neighbourhood_group': 'Staten Island'}\n{'neighbourhood': 'Fresh Meadows', 'neighbourhood_group': 'Queens'}\n{'neighbourhood': 'Gramercy', 'neighbourhood_group': 'Manhattan'}\n{'neighbourhood': 'Graniteville', 'neighbourhood_group': 'Staten Island'}\n{'neighbourhood': 'Gravesend', 'neighbourhood_group': 'Brooklyn'}\n{'neighbourhood': 'Kensington', 'neighbourhood_group': 'Brooklyn'}\n{'neighbourhood': 'Kew Gardens', 'neighbourhood_group': 'Queens'}\n{'neighbourhood': 'Parkchester', 'neighbourhood_group': 'Bronx'}\n{'neighbourhood': 'Pelham Bay', 'neighbourhood_group': 'Bronx'}\n{'neighbourhood': 'Great Kills', 'neighbourhood_group': 'Staten Island'}\n{'neighbourhood': 'Huguenot', 'neighbourhood_group': 'Staten Island'}\n{'neighbourhood': 'Greenpoint', 'neighbourhood_group': 'Brooklyn'}\n{'neighbourhood': 'Greenwich Village', 'neighbourhood_group': 'Manhattan'}\n{'neighbourhood': 'Grymes Hill', 'neighbourhood_group': 'Staten Island'}\n{'neighbourhood': 'Harlem', 'neighbourhood_group': 'Manhattan'}\n{'neighbourhood': 'Queens Village', 'neighbourhood_group': 'Queens'}\n{'neighbourhood': \"Hell's Kitchen\", 'neighbourhood_group': 'Manhattan'}\n{'neighbourhood': 'Highbridge', 'neighbourhood_group': 'Bronx'}\n{'neighbourhood': 'Hollis', 'neighbourhood_group': 'Queens'}\n{'neighbourhood': 'Hollis Hills', 'neighbourhood_group': 'Queens'}\n{'neighbourhood': 'Holliswood', 'neighbourhood_group': 'Queens'}\n{'neighbourhood': 'Howard Beach', 'neighbourhood_group': 'Queens'}\n{'neighbourhood': 'Howard Beach', 'neighbourhood_group': 'Queens'}\n{'neighbourhood': 'Howland Hook', 'neighbourhood_group': 'Staten Island'}\n{'neighbourhood': 'Pelham Gardens', 'neighbourhood_group': 'Bronx'}\n{'neighbourhood': 'Hunts Point', 'neighbourhood_group': 'Bronx'}\n{'neighbourhood': 'Inwood', 'neighbourhood_group': 'Manhattan'}\n{'neighbourhood': 'Jackson Heights', 'neighbourhood_group': 'Queens'}\n{'neighbourhood': 'Jamaica', 'neighbourhood_group': 'Queens'}\n{'neighbourhood': 'Morris Park', 'neighbourhood_group': 'Bronx'}\n{'neighbourhood': 'Kew Gardens Hills', 'neighbourhood_group': 'Queens'}\n{'neighbourhood': 'Kingsbridge', 'neighbourhood_group': 'Bronx'}\n{'neighbourhood': 'Kips Bay', 'neighbourhood_group': 'Manhattan'}\n{'neighbourhood': 'Lighthouse Hill', 'neighbourhood_group': 'Staten Island'}\n{'neighbourhood': 'Little Italy', 'neighbourhood_group': 'Manhattan'}\n{'neighbourhood': 'Little Neck', 'neighbourhood_group': 'Queens'}\n{'neighbourhood': 'Morrisania', 'neighbourhood_group': 'Bronx'}\n{'neighbourhood': 'Murray Hill', 'neighbourhood_group': 'Manhattan'}\n{'neighbourhood': 'Long Island City', 'neighbourhood_group': 'Queens'}\n{'neighbourhood': 'Longwood', 'neighbourhood_group': 'Bronx'}\n{'neighbourhood': 'Lower East Side', 'neighbourhood_group': 'Manhattan'}\n{'neighbourhood': 'Manhattan Beach', 'neighbourhood_group': 'Brooklyn'}\n{'neighbourhood': 'Marble Hill', 'neighbourhood_group': 'Manhattan'}\n{'neighbourhood': 'Midtown', 'neighbourhood_group': 'Manhattan'}\n{'neighbourhood': 'Midwood', 'neighbourhood_group': 'Brooklyn'}\n{'neighbourhood': 'Norwood', 'neighbourhood_group': 'Bronx'}\n{'neighbourhood': 'Oakwood', 'neighbourhood_group': 'Staten Island'}\n{'neighbourhood': 'Morris Heights', 'neighbourhood_group': 'Bronx'}\n{'neighbourhood': 'Pleasant Plains', 'neighbourhood_group': 'Staten Island'}\n{'neighbourhood': 'Mariners Harbor', 'neighbourhood_group': 'Staten Island'}\n{'neighbourhood': 'Maspeth', 'neighbourhood_group': 'Queens'}\n{'neighbourhood': 'Melrose', 'neighbourhood_group': 'Bronx'}\n{'neighbourhood': 'Middle Village', 'neighbourhood_group': 'Queens'}\n{'neighbourhood': 'Midland Beach', 'neighbourhood_group': 'Staten Island'}\n{'neighbourhood': 'Mill Basin', 'neighbourhood_group': 'Brooklyn'}\n{'neighbourhood': 'Morningside Heights', 'neighbourhood_group': 'Manhattan'}\n{'neighbourhood': 'Olinville', 'neighbourhood_group': 'Bronx'}\n{'neighbourhood': 'Navy Yard', 'neighbourhood_group': 'Brooklyn'}\n{'neighbourhood': 'Neponsit', 'neighbourhood_group': 'Queens'}\n{'neighbourhood': 'New Brighton', 'neighbourhood_group': 'Staten Island'}\n{'neighbourhood': 'New Dorp', 'neighbourhood_group': 'Staten Island'}\n{'neighbourhood': 'New Dorp Beach', 'neighbourhood_group': 'Staten Island'}\n{'neighbourhood': 'New Springville', 'neighbourhood_group': 'Staten Island'}\n{'neighbourhood': 'NoHo', 'neighbourhood_group': 'Manhattan'}\n{'neighbourhood': 'Nolita', 'neighbourhood_group': 'Manhattan'}\n{'neighbourhood': 'North Riverdale', 'neighbourhood_group': 'Bronx'}\n{'neighbourhood': 'Park Slope', 'neighbourhood_group': 'Brooklyn'}\n{'neighbourhood': 'Port Morris', 'neighbourhood_group': 'Bronx'}\n{'neighbourhood': 'Port Richmond', 'neighbourhood_group': 'Staten Island'}\n{'neighbourhood': \"Prince's Bay\", 'neighbourhood_group': 'Staten Island'}\n{'neighbourhood': 'Prospect Heights', 'neighbourhood_group': 'Brooklyn'}\n{'neighbourhood': 'Randall Manor', 'neighbourhood_group': 'Staten Island'}\n{'neighbourhood': 'Riverdale', 'neighbourhood_group': 'Bronx'}\n{'neighbourhood': 'Silver Lake', 'neighbourhood_group': 'Staten Island'}\n{'neighbourhood': 'SoHo', 'neighbourhood_group': 'Manhattan'}\n{'neighbourhood': 'Woodrow', 'neighbourhood_group': 'Staten Island'}\n{'neighbourhood': 'Red Hook', 'neighbourhood_group': 'Brooklyn'}\n{'neighbourhood': 'Rego Park', 'neighbourhood_group': 'Queens'}\n{'neighbourhood': 'Richmond Hill', 'neighbourhood_group': 'Queens'}\n{'neighbourhood': 'Richmondtown', 'neighbourhood_group': 'Staten Island'}\n{'neighbourhood': 'Ridgewood', 'neighbourhood_group': 'Queens'}\n{'neighbourhood': 'Sea Gate', 'neighbourhood_group': 'Brooklyn'}\n{'neighbourhood': 'Rockaway Beach', 'neighbourhood_group': 'Queens'}\n{'neighbourhood': 'Roosevelt Island', 'neighbourhood_group': 'Manhattan'}\n{'neighbourhood': 'Rosebank', 'neighbourhood_group': 'Staten Island'}\n{'neighbourhood': 'Rosedale', 'neighbourhood_group': 'Queens'}\n{'neighbourhood': 'Rossville', 'neighbourhood_group': 'Staten Island'}\n{'neighbourhood': 'Schuylerville', 'neighbourhood_group': 'Bronx'}\n{'neighbourhood': 'Sheepshead Bay', 'neighbourhood_group': 'Brooklyn'}\n{'neighbourhood': 'South Beach', 'neighbourhood_group': 'Staten Island'}\n{'neighbourhood': 'South Ozone Park', 'neighbourhood_group': 'Queens'}\n{'neighbourhood': 'South Slope', 'neighbourhood_group': 'Brooklyn'}\n{'neighbourhood': 'Springfield Gardens', 'neighbourhood_group': 'Queens'}\n{'neighbourhood': 'Spuyten Duyvil', 'neighbourhood_group': 'Bronx'}\n{'neighbourhood': 'St. Albans', 'neighbourhood_group': 'Queens'}\n{'neighbourhood': 'Tompkinsville', 'neighbourhood_group': 'Staten Island'}\n{'neighbourhood': 'St. George', 'neighbourhood_group': 'Staten Island'}\n{'neighbourhood': 'Stapleton', 'neighbourhood_group': 'Staten Island'}\n{'neighbourhood': 'Stuyvesant Town', 'neighbourhood_group': 'Manhattan'}\n{'neighbourhood': 'Sunnyside', 'neighbourhood_group': 'Queens'}\n{'neighbourhood': 'Van Nest', 'neighbourhood_group': 'Bronx'}\n{'neighbourhood': 'Sunset Park', 'neighbourhood_group': 'Brooklyn'}\n{'neighbourhood': 'Theater District', 'neighbourhood_group': 'Manhattan'}\n{'neighbourhood': 'Throgs Neck', 'neighbourhood_group': 'Bronx'}\n{'neighbourhood': 'Todt Hill', 'neighbourhood_group': 'Staten Island'}\n{'neighbourhood': 'Tottenville', 'neighbourhood_group': 'Staten Island'}\n{'neighbourhood': 'Tremont', 'neighbourhood_group': 'Bronx'}\n{'neighbourhood': 'Tribeca', 'neighbourhood_group': 'Manhattan'}\n{'neighbourhood': 'Two Bridges', 'neighbourhood_group': 'Manhattan'}\n{'neighbourhood': 'Vinegar Hill', 'neighbourhood_group': 'Brooklyn'}\n{'neighbourhood': 'Woodside', 'neighbourhood_group': 'Queens'}\n{'neighbourhood': 'Unionport', 'neighbourhood_group': 'Bronx'}\n{'neighbourhood': 'University Heights', 'neighbourhood_group': 'Bronx'}\n{'neighbourhood': 'Upper East Side', 'neighbourhood_group': 'Manhattan'}\n{'neighbourhood': 'Upper West Side', 'neighbourhood_group': 'Manhattan'}\n{'neighbourhood': 'Windsor Terrace', 'neighbourhood_group': 'Brooklyn'}\n{'neighbourhood': 'Wakefield', 'neighbourhood_group': 'Bronx'}\n{'neighbourhood': 'Washington Heights', 'neighbourhood_group': 'Manhattan'}\n{'neighbourhood': 'West Brighton', 'neighbourhood_group': 'Staten Island'}\n{'neighbourhood': 'West Farms', 'neighbourhood_group': 'Bronx'}\n{'neighbourhood': 'Woodhaven', 'neighbourhood_group': 'Queens'}\n{'neighbourhood': 'Woodlawn', 'neighbourhood_group': 'Bronx'}\n{'neighbourhood': 'West Village', 'neighbourhood_group': 'Manhattan'}\n{'neighbourhood': 'Westchester Square', 'neighbourhood_group': 'Bronx'}\n{'neighbourhood': 'Westerleigh', 'neighbourhood_group': 'Staten Island'}\n{'neighbourhood': 'Williamsbridge', 'neighbourhood_group': 'Bronx'}\n{'neighbourhood': 'Williamsburg', 'neighbourhood_group': 'Brooklyn'}\n{'neighbourhood': 'Willowbrook', 'neighbourhood_group': 'Staten Island'}\n"
    }
   ],
   "source": [
    "data['features'][0]\n",
    "for feature in data['features']:\n",
    "    print(feature['properties'])"
   ]
  },
  {
   "cell_type": "code",
   "execution_count": 33,
   "metadata": {},
   "outputs": [
    {
     "output_type": "execute_result",
     "data": {
      "text/plain": "233"
     },
     "metadata": {},
     "execution_count": 33
    }
   ],
   "source": [
    "len([feature['properties'] for feature in data['features']])"
   ]
  },
  {
   "cell_type": "code",
   "execution_count": null,
   "metadata": {},
   "outputs": [],
   "source": []
  }
 ],
 "metadata": {
  "file_extension": ".py",
  "kernelspec": {
   "display_name": "Python 3.6.5 64-bit ('Continuum': virtualenv)",
   "language": "python",
   "name": "python36564bitcontinuumvirtualenv2e7925de881e4792a1408259a22c797c"
  },
  "language_info": {
   "codemirror_mode": {
    "name": "ipython",
    "version": 3
   },
   "file_extension": ".py",
   "mimetype": "text/x-python",
   "name": "python",
   "nbconvert_exporter": "python",
   "pygments_lexer": "ipython3",
   "version": "3.6.5-final"
  },
  "mimetype": "text/x-python",
  "name": "python",
  "npconvert_exporter": "python",
  "pygments_lexer": "ipython3",
  "version": 3
 },
 "nbformat": 4,
 "nbformat_minor": 2
}
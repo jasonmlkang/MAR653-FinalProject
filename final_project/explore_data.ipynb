{
  "nbformat": 4,
  "nbformat_minor": 0,
  "metadata": {
    "file_extension": ".py",
    "kernelspec": {
      "display_name": "Python 3.6.5 64-bit ('Continuum': virtualenv)",
      "language": "python",
      "name": "python36564bitcontinuumvirtualenv2e7925de881e4792a1408259a22c797c"
    },
    "language_info": {
      "codemirror_mode": {
        "name": "ipython",
        "version": 3
      },
      "file_extension": ".py",
      "mimetype": "text/x-python",
      "name": "python",
      "nbconvert_exporter": "python",
      "pygments_lexer": "ipython3",
      "version": "3.6.5"
    },
    "mimetype": "text/x-python",
    "name": "python",
    "npconvert_exporter": "python",
    "pygments_lexer": "ipython3",
    "version": 3,
    "colab": {
      "name": "Copy of explore_data.ipynb",
      "provenance": [],
      "toc_visible": true,
      "include_colab_link": true
    }
  },
  "cells": [
    {
      "cell_type": "markdown",
      "metadata": {
        "id": "view-in-github",
        "colab_type": "text"
      },
      "source": [
        "<a href=\"https://colab.research.google.com/github/tbahng/MAR653-FinalProject/blob/jason/final_project/explore_data.ipynb\" target=\"_parent\"><img src=\"https://colab.research.google.com/assets/colab-badge.svg\" alt=\"Open In Colab\"/></a>"
      ]
    },
    {
      "cell_type": "markdown",
      "metadata": {
        "id": "tXqeK9vnwccn",
        "colab_type": "text"
      },
      "source": [
        "# Exploration of Data Sources\n",
        "* listings.csv.gz - Detailed listings data for New York City\n",
        "* listings.csv - Summary information and metrics for listings in New York City\n",
        "* calendar.csv.gz - Detailed calendar data for listings in New York City\n",
        "* reviews.csv.gz - Detailed review data for listings in New York City\n",
        "* reviews.csv - Summary review data and listing ID\n",
        "* neighbourhoods.csv - Neighbourhood list for geo filter. Sourced from city or open source GIS files\n",
        "* neighbourhoods.geojson - GeoJSON file of neighbourhoods of the city\n",
        "\n",
        "For the purposes of this notebook, each file will be explored separately."
      ]
    },
    {
      "cell_type": "code",
      "metadata": {
        "id": "2_uoEhZ_wccp",
        "colab_type": "code",
        "colab": {}
      },
      "source": [
        "import pandas as pd \n",
        "import json\n",
        "import os\n",
        "\n",
        "# function to summarize data\n",
        "# param: df dataframe\n",
        "# print number of variables, data type counts, and variable names\n",
        "def summarizeData(df):\n",
        "    print(\"Number of Variables: {:d}\\n\".format(df.shape[1]))\n",
        "    print(\"Number of Observations: {:d}\\n\".format(df.shape[0]))\n",
        "    print(\"Data types:\")\n",
        "    print(df.dtypes.value_counts())    \n",
        "    print(\"\\nColumn Names by Type:\\n\")\n",
        "    g = df.columns.to_series().groupby(df.dtypes).groups\n",
        "    for item in g.items():\n",
        "        print(item)"
      ],
      "execution_count": 0,
      "outputs": []
    },
    {
      "cell_type": "markdown",
      "metadata": {
        "id": "rjp-ZVG9wcct",
        "colab_type": "text"
      },
      "source": [
        "### Load Data Sources"
      ]
    },
    {
      "cell_type": "code",
      "metadata": {
        "id": "t1Wd3uKRv8Pz",
        "colab_type": "code",
        "outputId": "112f6f06-6e3a-42c6-ed65-8eadd488153f",
        "colab": {
          "base_uri": "https://localhost:8080/",
          "height": 124
        }
      },
      "source": [
        "from google.colab import drive\n",
        "drive.mount('/content/drive')"
      ],
      "execution_count": 2,
      "outputs": [
        {
          "output_type": "stream",
          "text": [
            "Go to this URL in a browser: https://accounts.google.com/o/oauth2/auth?client_id=947318989803-6bn6qk8qdgf4n4g3pfee6491hc0brc4i.apps.googleusercontent.com&redirect_uri=urn%3aietf%3awg%3aoauth%3a2.0%3aoob&response_type=code&scope=email%20https%3a%2f%2fwww.googleapis.com%2fauth%2fdocs.test%20https%3a%2f%2fwww.googleapis.com%2fauth%2fdrive%20https%3a%2f%2fwww.googleapis.com%2fauth%2fdrive.photos.readonly%20https%3a%2f%2fwww.googleapis.com%2fauth%2fpeopleapi.readonly\n",
            "\n",
            "Enter your authorization code:\n",
            "··········\n",
            "Mounted at /content/drive\n"
          ],
          "name": "stdout"
        }
      ]
    },
    {
      "cell_type": "code",
      "metadata": {
        "id": "WacSbnKxwccv",
        "colab_type": "code",
        "outputId": "58595768-da67-4576-9452-9bb7f27f4fe3",
        "colab": {
          "base_uri": "https://localhost:8080/",
          "height": 52
        }
      },
      "source": [
        "import pandas as pd\n",
        "\n",
        "file_path = '/content/drive/My Drive/MAR 653/Final Project/data/{}'\n",
        "\n",
        "calendar_df = pd.read_csv(file_path.format('calendar.csv.gz'), compression='gzip')\n",
        "listings_summary_df = pd.read_csv(file_path.format('listings.csv'))\n",
        "listings_detail_df = pd.read_csv(file_path.format('listings.csv.gz'), compression='gzip')\n",
        "neighbourhoods_df = pd.read_csv(file_path.format('neighbourhoods.csv'))\n",
        "neighbourhoods_geo_df = pd.read_json(file_path.format('neighbourhoods.geojson'))\n",
        "reviews_summary_df = pd.read_csv(file_path.format('reviews.csv'))\n",
        "reviews_detail_df = pd.read_csv(file_path.format('reviews.csv.gz'), compression='gzip')"
      ],
      "execution_count": 3,
      "outputs": [
        {
          "output_type": "stream",
          "text": [
            "/usr/local/lib/python3.6/dist-packages/IPython/core/interactiveshell.py:2718: DtypeWarning: Columns (61,62,94,95) have mixed types. Specify dtype option on import or set low_memory=False.\n",
            "  interactivity=interactivity, compiler=compiler, result=result)\n"
          ],
          "name": "stderr"
        }
      ]
    },
    {
      "cell_type": "code",
      "metadata": {
        "id": "Qv6Kny36Fi_7",
        "colab_type": "code",
        "outputId": "06eb3fc4-4519-4a10-c57f-ce9a297f3419",
        "colab": {
          "base_uri": "https://localhost:8080/",
          "height": 311
        }
      },
      "source": [
        "os.listdir('drive/My Drive/MAR 653/Final Project/data')"
      ],
      "execution_count": 4,
      "outputs": [
        {
          "output_type": "execute_result",
          "data": {
            "text/plain": [
              "['calendar.csv.gz',\n",
              " 'listings.csv.gz',\n",
              " 'reviews.csv.gz',\n",
              " 'listings_detailed',\n",
              " 'reviews_detailed',\n",
              " 'calendar_detailed',\n",
              " 'neighbourhoods.csv',\n",
              " 'neighbourhoods.geojson',\n",
              " 'listings.csv',\n",
              " 'reviews.csv',\n",
              " 'prizm_attributes.xlsx',\n",
              " 'listings_cleaned.csv',\n",
              " 'listings_201512.csv',\n",
              " 'listings_201612.csv',\n",
              " 'listings_201712.csv',\n",
              " 'listings_201812.csv',\n",
              " 'listings_201912.csv']"
            ]
          },
          "metadata": {
            "tags": []
          },
          "execution_count": 4
        }
      ]
    },
    {
      "cell_type": "code",
      "metadata": {
        "id": "HTI1M9CxGCmz",
        "colab_type": "code",
        "colab": {}
      },
      "source": [
        "# read geojson into dictionary\n",
        "import json\n",
        "with open('drive/My Drive/MAR 653/Final Project/data/neighbourhoods.geojson', 'r') as fin:\n",
        "  geo = json.loads(fin.read())"
      ],
      "execution_count": 0,
      "outputs": []
    },
    {
      "cell_type": "markdown",
      "metadata": {
        "id": "4DF8dX-swccy",
        "colab_type": "text"
      },
      "source": [
        "## File: listings.csv.gz (detailed)\n",
        "* Detailed Listings data for New York City\n",
        "* Contains 50599 observations of 43 numeric and 63 object variables"
      ]
    },
    {
      "cell_type": "code",
      "metadata": {
        "id": "5ilGFskUwccz",
        "colab_type": "code",
        "outputId": "fdf85d16-5348-46ef-b5a9-9ec200aca99d",
        "colab": {
          "base_uri": "https://localhost:8080/",
          "height": 308
        }
      },
      "source": [
        "listings_detail_df.describe()"
      ],
      "execution_count": 6,
      "outputs": [
        {
          "output_type": "execute_result",
          "data": {
            "text/html": [
              "<div>\n",
              "<style scoped>\n",
              "    .dataframe tbody tr th:only-of-type {\n",
              "        vertical-align: middle;\n",
              "    }\n",
              "\n",
              "    .dataframe tbody tr th {\n",
              "        vertical-align: top;\n",
              "    }\n",
              "\n",
              "    .dataframe thead th {\n",
              "        text-align: right;\n",
              "    }\n",
              "</style>\n",
              "<table border=\"1\" class=\"dataframe\">\n",
              "  <thead>\n",
              "    <tr style=\"text-align: right;\">\n",
              "      <th></th>\n",
              "      <th>id</th>\n",
              "      <th>scrape_id</th>\n",
              "      <th>thumbnail_url</th>\n",
              "      <th>medium_url</th>\n",
              "      <th>xl_picture_url</th>\n",
              "      <th>host_id</th>\n",
              "      <th>host_acceptance_rate</th>\n",
              "      <th>host_listings_count</th>\n",
              "      <th>host_total_listings_count</th>\n",
              "      <th>latitude</th>\n",
              "      <th>longitude</th>\n",
              "      <th>accommodates</th>\n",
              "      <th>bathrooms</th>\n",
              "      <th>bedrooms</th>\n",
              "      <th>beds</th>\n",
              "      <th>square_feet</th>\n",
              "      <th>guests_included</th>\n",
              "      <th>minimum_nights</th>\n",
              "      <th>maximum_nights</th>\n",
              "      <th>minimum_minimum_nights</th>\n",
              "      <th>maximum_minimum_nights</th>\n",
              "      <th>minimum_maximum_nights</th>\n",
              "      <th>maximum_maximum_nights</th>\n",
              "      <th>minimum_nights_avg_ntm</th>\n",
              "      <th>maximum_nights_avg_ntm</th>\n",
              "      <th>availability_30</th>\n",
              "      <th>availability_60</th>\n",
              "      <th>availability_90</th>\n",
              "      <th>availability_365</th>\n",
              "      <th>number_of_reviews</th>\n",
              "      <th>number_of_reviews_ltm</th>\n",
              "      <th>review_scores_rating</th>\n",
              "      <th>review_scores_accuracy</th>\n",
              "      <th>review_scores_cleanliness</th>\n",
              "      <th>review_scores_checkin</th>\n",
              "      <th>review_scores_communication</th>\n",
              "      <th>review_scores_location</th>\n",
              "      <th>review_scores_value</th>\n",
              "      <th>calculated_host_listings_count</th>\n",
              "      <th>calculated_host_listings_count_entire_homes</th>\n",
              "      <th>calculated_host_listings_count_private_rooms</th>\n",
              "      <th>calculated_host_listings_count_shared_rooms</th>\n",
              "      <th>reviews_per_month</th>\n",
              "    </tr>\n",
              "  </thead>\n",
              "  <tbody>\n",
              "    <tr>\n",
              "      <th>count</th>\n",
              "      <td>5.059900e+04</td>\n",
              "      <td>5.059900e+04</td>\n",
              "      <td>0.0</td>\n",
              "      <td>0.0</td>\n",
              "      <td>0.0</td>\n",
              "      <td>5.059900e+04</td>\n",
              "      <td>0.0</td>\n",
              "      <td>50036.000000</td>\n",
              "      <td>50036.000000</td>\n",
              "      <td>50599.000000</td>\n",
              "      <td>50599.000000</td>\n",
              "      <td>50599.000000</td>\n",
              "      <td>50548.000000</td>\n",
              "      <td>50536.000000</td>\n",
              "      <td>50467.000000</td>\n",
              "      <td>386.000000</td>\n",
              "      <td>50599.000000</td>\n",
              "      <td>50599.000000</td>\n",
              "      <td>5.059900e+04</td>\n",
              "      <td>50599.000000</td>\n",
              "      <td>50599.000000</td>\n",
              "      <td>5.059900e+04</td>\n",
              "      <td>5.059900e+04</td>\n",
              "      <td>50599.000000</td>\n",
              "      <td>5.059900e+04</td>\n",
              "      <td>50599.000000</td>\n",
              "      <td>50599.000000</td>\n",
              "      <td>50599.000000</td>\n",
              "      <td>50599.000000</td>\n",
              "      <td>50599.000000</td>\n",
              "      <td>50599.000000</td>\n",
              "      <td>39437.000000</td>\n",
              "      <td>39401.000000</td>\n",
              "      <td>39415.000000</td>\n",
              "      <td>39385.000000</td>\n",
              "      <td>39404.000000</td>\n",
              "      <td>39381.000000</td>\n",
              "      <td>39382.000000</td>\n",
              "      <td>50599.000000</td>\n",
              "      <td>50599.000000</td>\n",
              "      <td>50599.000000</td>\n",
              "      <td>50599.000000</td>\n",
              "      <td>40379.000000</td>\n",
              "    </tr>\n",
              "    <tr>\n",
              "      <th>mean</th>\n",
              "      <td>2.137380e+07</td>\n",
              "      <td>2.019120e+13</td>\n",
              "      <td>NaN</td>\n",
              "      <td>NaN</td>\n",
              "      <td>NaN</td>\n",
              "      <td>7.893854e+07</td>\n",
              "      <td>NaN</td>\n",
              "      <td>17.388720</td>\n",
              "      <td>17.388720</td>\n",
              "      <td>40.728743</td>\n",
              "      <td>-73.950762</td>\n",
              "      <td>2.860630</td>\n",
              "      <td>1.150332</td>\n",
              "      <td>1.181217</td>\n",
              "      <td>1.549626</td>\n",
              "      <td>699.533679</td>\n",
              "      <td>1.521196</td>\n",
              "      <td>7.531908</td>\n",
              "      <td>4.383640e+04</td>\n",
              "      <td>7.140576</td>\n",
              "      <td>9.103955</td>\n",
              "      <td>6.804704e+05</td>\n",
              "      <td>1.020003e+06</td>\n",
              "      <td>8.531299</td>\n",
              "      <td>6.881947e+05</td>\n",
              "      <td>7.125378</td>\n",
              "      <td>19.373426</td>\n",
              "      <td>32.337121</td>\n",
              "      <td>112.785944</td>\n",
              "      <td>24.809225</td>\n",
              "      <td>9.294986</td>\n",
              "      <td>93.842305</td>\n",
              "      <td>9.612649</td>\n",
              "      <td>9.273272</td>\n",
              "      <td>9.739647</td>\n",
              "      <td>9.743579</td>\n",
              "      <td>9.580585</td>\n",
              "      <td>9.383272</td>\n",
              "      <td>7.330916</td>\n",
              "      <td>5.615170</td>\n",
              "      <td>1.480009</td>\n",
              "      <td>0.128995</td>\n",
              "      <td>1.405862</td>\n",
              "    </tr>\n",
              "    <tr>\n",
              "      <th>std</th>\n",
              "      <td>1.242864e+07</td>\n",
              "      <td>1.221496e+01</td>\n",
              "      <td>NaN</td>\n",
              "      <td>NaN</td>\n",
              "      <td>NaN</td>\n",
              "      <td>9.095944e+07</td>\n",
              "      <td>NaN</td>\n",
              "      <td>111.558158</td>\n",
              "      <td>111.558158</td>\n",
              "      <td>0.055004</td>\n",
              "      <td>0.047606</td>\n",
              "      <td>1.900865</td>\n",
              "      <td>0.442102</td>\n",
              "      <td>0.760981</td>\n",
              "      <td>1.131406</td>\n",
              "      <td>519.171703</td>\n",
              "      <td>1.162624</td>\n",
              "      <td>22.454271</td>\n",
              "      <td>9.547645e+06</td>\n",
              "      <td>21.406830</td>\n",
              "      <td>34.379320</td>\n",
              "      <td>3.818182e+07</td>\n",
              "      <td>4.675920e+07</td>\n",
              "      <td>28.863199</td>\n",
              "      <td>3.818667e+07</td>\n",
              "      <td>9.509439</td>\n",
              "      <td>21.520797</td>\n",
              "      <td>34.449508</td>\n",
              "      <td>135.891028</td>\n",
              "      <td>47.317882</td>\n",
              "      <td>16.228530</td>\n",
              "      <td>8.721777</td>\n",
              "      <td>0.850623</td>\n",
              "      <td>1.079284</td>\n",
              "      <td>0.735555</td>\n",
              "      <td>0.751233</td>\n",
              "      <td>0.758823</td>\n",
              "      <td>0.928692</td>\n",
              "      <td>32.757485</td>\n",
              "      <td>32.293312</td>\n",
              "      <td>6.496156</td>\n",
              "      <td>1.027153</td>\n",
              "      <td>1.695551</td>\n",
              "    </tr>\n",
              "    <tr>\n",
              "      <th>min</th>\n",
              "      <td>2.595000e+03</td>\n",
              "      <td>2.019120e+13</td>\n",
              "      <td>NaN</td>\n",
              "      <td>NaN</td>\n",
              "      <td>NaN</td>\n",
              "      <td>2.438000e+03</td>\n",
              "      <td>NaN</td>\n",
              "      <td>0.000000</td>\n",
              "      <td>0.000000</td>\n",
              "      <td>40.499790</td>\n",
              "      <td>-74.247870</td>\n",
              "      <td>1.000000</td>\n",
              "      <td>0.000000</td>\n",
              "      <td>0.000000</td>\n",
              "      <td>0.000000</td>\n",
              "      <td>0.000000</td>\n",
              "      <td>1.000000</td>\n",
              "      <td>1.000000</td>\n",
              "      <td>1.000000e+00</td>\n",
              "      <td>1.000000</td>\n",
              "      <td>1.000000</td>\n",
              "      <td>1.000000e+00</td>\n",
              "      <td>1.000000e+00</td>\n",
              "      <td>1.000000</td>\n",
              "      <td>1.000000e+00</td>\n",
              "      <td>0.000000</td>\n",
              "      <td>0.000000</td>\n",
              "      <td>0.000000</td>\n",
              "      <td>0.000000</td>\n",
              "      <td>0.000000</td>\n",
              "      <td>0.000000</td>\n",
              "      <td>20.000000</td>\n",
              "      <td>2.000000</td>\n",
              "      <td>2.000000</td>\n",
              "      <td>2.000000</td>\n",
              "      <td>2.000000</td>\n",
              "      <td>2.000000</td>\n",
              "      <td>2.000000</td>\n",
              "      <td>1.000000</td>\n",
              "      <td>0.000000</td>\n",
              "      <td>0.000000</td>\n",
              "      <td>0.000000</td>\n",
              "      <td>0.010000</td>\n",
              "    </tr>\n",
              "    <tr>\n",
              "      <th>25%</th>\n",
              "      <td>1.009891e+07</td>\n",
              "      <td>2.019120e+13</td>\n",
              "      <td>NaN</td>\n",
              "      <td>NaN</td>\n",
              "      <td>NaN</td>\n",
              "      <td>8.925493e+06</td>\n",
              "      <td>NaN</td>\n",
              "      <td>1.000000</td>\n",
              "      <td>1.000000</td>\n",
              "      <td>40.689550</td>\n",
              "      <td>-73.982930</td>\n",
              "      <td>2.000000</td>\n",
              "      <td>1.000000</td>\n",
              "      <td>1.000000</td>\n",
              "      <td>1.000000</td>\n",
              "      <td>350.000000</td>\n",
              "      <td>1.000000</td>\n",
              "      <td>1.000000</td>\n",
              "      <td>2.900000e+01</td>\n",
              "      <td>1.000000</td>\n",
              "      <td>2.000000</td>\n",
              "      <td>2.900000e+01</td>\n",
              "      <td>2.900000e+01</td>\n",
              "      <td>1.300000</td>\n",
              "      <td>2.900000e+01</td>\n",
              "      <td>0.000000</td>\n",
              "      <td>0.000000</td>\n",
              "      <td>0.000000</td>\n",
              "      <td>0.000000</td>\n",
              "      <td>1.000000</td>\n",
              "      <td>0.000000</td>\n",
              "      <td>92.000000</td>\n",
              "      <td>9.000000</td>\n",
              "      <td>9.000000</td>\n",
              "      <td>10.000000</td>\n",
              "      <td>10.000000</td>\n",
              "      <td>9.000000</td>\n",
              "      <td>9.000000</td>\n",
              "      <td>1.000000</td>\n",
              "      <td>0.000000</td>\n",
              "      <td>0.000000</td>\n",
              "      <td>0.000000</td>\n",
              "      <td>0.190000</td>\n",
              "    </tr>\n",
              "    <tr>\n",
              "      <th>50%</th>\n",
              "      <td>2.154642e+07</td>\n",
              "      <td>2.019120e+13</td>\n",
              "      <td>NaN</td>\n",
              "      <td>NaN</td>\n",
              "      <td>NaN</td>\n",
              "      <td>3.572660e+07</td>\n",
              "      <td>NaN</td>\n",
              "      <td>1.000000</td>\n",
              "      <td>1.000000</td>\n",
              "      <td>40.722880</td>\n",
              "      <td>-73.955050</td>\n",
              "      <td>2.000000</td>\n",
              "      <td>1.000000</td>\n",
              "      <td>1.000000</td>\n",
              "      <td>1.000000</td>\n",
              "      <td>700.000000</td>\n",
              "      <td>1.000000</td>\n",
              "      <td>3.000000</td>\n",
              "      <td>1.120000e+03</td>\n",
              "      <td>2.000000</td>\n",
              "      <td>3.000000</td>\n",
              "      <td>1.125000e+03</td>\n",
              "      <td>1.125000e+03</td>\n",
              "      <td>3.000000</td>\n",
              "      <td>1.125000e+03</td>\n",
              "      <td>1.000000</td>\n",
              "      <td>8.000000</td>\n",
              "      <td>15.000000</td>\n",
              "      <td>42.000000</td>\n",
              "      <td>6.000000</td>\n",
              "      <td>2.000000</td>\n",
              "      <td>96.000000</td>\n",
              "      <td>10.000000</td>\n",
              "      <td>10.000000</td>\n",
              "      <td>10.000000</td>\n",
              "      <td>10.000000</td>\n",
              "      <td>10.000000</td>\n",
              "      <td>10.000000</td>\n",
              "      <td>1.000000</td>\n",
              "      <td>1.000000</td>\n",
              "      <td>0.000000</td>\n",
              "      <td>0.000000</td>\n",
              "      <td>0.740000</td>\n",
              "    </tr>\n",
              "    <tr>\n",
              "      <th>75%</th>\n",
              "      <td>3.271780e+07</td>\n",
              "      <td>2.019120e+13</td>\n",
              "      <td>NaN</td>\n",
              "      <td>NaN</td>\n",
              "      <td>NaN</td>\n",
              "      <td>1.293330e+08</td>\n",
              "      <td>NaN</td>\n",
              "      <td>2.000000</td>\n",
              "      <td>2.000000</td>\n",
              "      <td>40.763030</td>\n",
              "      <td>-73.934200</td>\n",
              "      <td>4.000000</td>\n",
              "      <td>1.000000</td>\n",
              "      <td>1.000000</td>\n",
              "      <td>2.000000</td>\n",
              "      <td>903.000000</td>\n",
              "      <td>2.000000</td>\n",
              "      <td>5.000000</td>\n",
              "      <td>1.125000e+03</td>\n",
              "      <td>5.000000</td>\n",
              "      <td>5.000000</td>\n",
              "      <td>1.125000e+03</td>\n",
              "      <td>1.125000e+03</td>\n",
              "      <td>5.000000</td>\n",
              "      <td>1.125000e+03</td>\n",
              "      <td>13.000000</td>\n",
              "      <td>39.000000</td>\n",
              "      <td>67.000000</td>\n",
              "      <td>225.000000</td>\n",
              "      <td>25.000000</td>\n",
              "      <td>12.000000</td>\n",
              "      <td>100.000000</td>\n",
              "      <td>10.000000</td>\n",
              "      <td>10.000000</td>\n",
              "      <td>10.000000</td>\n",
              "      <td>10.000000</td>\n",
              "      <td>10.000000</td>\n",
              "      <td>10.000000</td>\n",
              "      <td>2.000000</td>\n",
              "      <td>1.000000</td>\n",
              "      <td>1.000000</td>\n",
              "      <td>0.000000</td>\n",
              "      <td>2.110000</td>\n",
              "    </tr>\n",
              "    <tr>\n",
              "      <th>max</th>\n",
              "      <td>4.058402e+07</td>\n",
              "      <td>2.019120e+13</td>\n",
              "      <td>NaN</td>\n",
              "      <td>NaN</td>\n",
              "      <td>NaN</td>\n",
              "      <td>3.143682e+08</td>\n",
              "      <td>NaN</td>\n",
              "      <td>1767.000000</td>\n",
              "      <td>1767.000000</td>\n",
              "      <td>40.916860</td>\n",
              "      <td>-73.712990</td>\n",
              "      <td>25.000000</td>\n",
              "      <td>15.500000</td>\n",
              "      <td>21.000000</td>\n",
              "      <td>40.000000</td>\n",
              "      <td>3700.000000</td>\n",
              "      <td>16.000000</td>\n",
              "      <td>1250.000000</td>\n",
              "      <td>2.147484e+09</td>\n",
              "      <td>1250.000000</td>\n",
              "      <td>3456.000000</td>\n",
              "      <td>2.147484e+09</td>\n",
              "      <td>2.147484e+09</td>\n",
              "      <td>1486.200000</td>\n",
              "      <td>2.147484e+09</td>\n",
              "      <td>30.000000</td>\n",
              "      <td>60.000000</td>\n",
              "      <td>90.000000</td>\n",
              "      <td>365.000000</td>\n",
              "      <td>675.000000</td>\n",
              "      <td>407.000000</td>\n",
              "      <td>100.000000</td>\n",
              "      <td>10.000000</td>\n",
              "      <td>10.000000</td>\n",
              "      <td>10.000000</td>\n",
              "      <td>10.000000</td>\n",
              "      <td>10.000000</td>\n",
              "      <td>10.000000</td>\n",
              "      <td>310.000000</td>\n",
              "      <td>310.000000</td>\n",
              "      <td>118.000000</td>\n",
              "      <td>24.000000</td>\n",
              "      <td>52.630000</td>\n",
              "    </tr>\n",
              "  </tbody>\n",
              "</table>\n",
              "</div>"
            ],
            "text/plain": [
              "                 id  ...  reviews_per_month\n",
              "count  5.059900e+04  ...       40379.000000\n",
              "mean   2.137380e+07  ...           1.405862\n",
              "std    1.242864e+07  ...           1.695551\n",
              "min    2.595000e+03  ...           0.010000\n",
              "25%    1.009891e+07  ...           0.190000\n",
              "50%    2.154642e+07  ...           0.740000\n",
              "75%    3.271780e+07  ...           2.110000\n",
              "max    4.058402e+07  ...          52.630000\n",
              "\n",
              "[8 rows x 43 columns]"
            ]
          },
          "metadata": {
            "tags": []
          },
          "execution_count": 6
        }
      ]
    },
    {
      "cell_type": "code",
      "metadata": {
        "id": "vdEamIwwwcc2",
        "colab_type": "code",
        "outputId": "49f5eeac-a773-4e6b-a2f5-d94171f82559",
        "colab": {
          "base_uri": "https://localhost:8080/",
          "height": 864
        }
      },
      "source": [
        "summarizeData(listings_detail_df)"
      ],
      "execution_count": 7,
      "outputs": [
        {
          "output_type": "stream",
          "text": [
            "Number of Variables: 106\n",
            "\n",
            "Number of Observations: 50599\n",
            "\n",
            "Data types:\n",
            "object     63\n",
            "float64    22\n",
            "int64      21\n",
            "dtype: int64\n",
            "\n",
            "Column Names by Type:\n",
            "\n",
            "(dtype('int64'), Index(['id', 'scrape_id', 'host_id', 'accommodates', 'guests_included',\n",
            "       'minimum_nights', 'maximum_nights', 'minimum_minimum_nights',\n",
            "       'maximum_minimum_nights', 'minimum_maximum_nights',\n",
            "       'maximum_maximum_nights', 'availability_30', 'availability_60',\n",
            "       'availability_90', 'availability_365', 'number_of_reviews',\n",
            "       'number_of_reviews_ltm', 'calculated_host_listings_count',\n",
            "       'calculated_host_listings_count_entire_homes',\n",
            "       'calculated_host_listings_count_private_rooms',\n",
            "       'calculated_host_listings_count_shared_rooms'],\n",
            "      dtype='object'))\n",
            "(dtype('float64'), Index(['thumbnail_url', 'medium_url', 'xl_picture_url', 'host_acceptance_rate',\n",
            "       'host_listings_count', 'host_total_listings_count', 'latitude',\n",
            "       'longitude', 'bathrooms', 'bedrooms', 'beds', 'square_feet',\n",
            "       'minimum_nights_avg_ntm', 'maximum_nights_avg_ntm',\n",
            "       'review_scores_rating', 'review_scores_accuracy',\n",
            "       'review_scores_cleanliness', 'review_scores_checkin',\n",
            "       'review_scores_communication', 'review_scores_location',\n",
            "       'review_scores_value', 'reviews_per_month'],\n",
            "      dtype='object'))\n",
            "(dtype('O'), Index(['listing_url', 'last_scraped', 'name', 'summary', 'space',\n",
            "       'description', 'experiences_offered', 'neighborhood_overview', 'notes',\n",
            "       'transit', 'access', 'interaction', 'house_rules', 'picture_url',\n",
            "       'host_url', 'host_name', 'host_since', 'host_location', 'host_about',\n",
            "       'host_response_time', 'host_response_rate', 'host_is_superhost',\n",
            "       'host_thumbnail_url', 'host_picture_url', 'host_neighbourhood',\n",
            "       'host_verifications', 'host_has_profile_pic', 'host_identity_verified',\n",
            "       'street', 'neighbourhood', 'neighbourhood_cleansed',\n",
            "       'neighbourhood_group_cleansed', 'city', 'state', 'zipcode', 'market',\n",
            "       'smart_location', 'country_code', 'country', 'is_location_exact',\n",
            "       'property_type', 'room_type', 'bed_type', 'amenities', 'price',\n",
            "       'weekly_price', 'monthly_price', 'security_deposit', 'cleaning_fee',\n",
            "       'extra_people', 'calendar_updated', 'has_availability',\n",
            "       'calendar_last_scraped', 'first_review', 'last_review',\n",
            "       'requires_license', 'license', 'jurisdiction_names', 'instant_bookable',\n",
            "       'is_business_travel_ready', 'cancellation_policy',\n",
            "       'require_guest_profile_picture', 'require_guest_phone_verification'],\n",
            "      dtype='object'))\n"
          ],
          "name": "stdout"
        }
      ]
    },
    {
      "cell_type": "markdown",
      "metadata": {
        "id": "ylOkkOiewcc5",
        "colab_type": "text"
      },
      "source": [
        "### Sample Observation"
      ]
    },
    {
      "cell_type": "code",
      "metadata": {
        "id": "OKli-9Ogwcc5",
        "colab_type": "code",
        "outputId": "1203ee5d-26c5-4042-93d0-a711c27c69ff",
        "colab": {
          "base_uri": "https://localhost:8080/",
          "height": 696
        }
      },
      "source": [
        "listings_detail_df.head()"
      ],
      "execution_count": 0,
      "outputs": [
        {
          "output_type": "execute_result",
          "data": {
            "text/html": [
              "<div>\n",
              "<style scoped>\n",
              "    .dataframe tbody tr th:only-of-type {\n",
              "        vertical-align: middle;\n",
              "    }\n",
              "\n",
              "    .dataframe tbody tr th {\n",
              "        vertical-align: top;\n",
              "    }\n",
              "\n",
              "    .dataframe thead th {\n",
              "        text-align: right;\n",
              "    }\n",
              "</style>\n",
              "<table border=\"1\" class=\"dataframe\">\n",
              "  <thead>\n",
              "    <tr style=\"text-align: right;\">\n",
              "      <th></th>\n",
              "      <th>id</th>\n",
              "      <th>listing_url</th>\n",
              "      <th>scrape_id</th>\n",
              "      <th>last_scraped</th>\n",
              "      <th>name</th>\n",
              "      <th>summary</th>\n",
              "      <th>space</th>\n",
              "      <th>description</th>\n",
              "      <th>experiences_offered</th>\n",
              "      <th>neighborhood_overview</th>\n",
              "      <th>notes</th>\n",
              "      <th>transit</th>\n",
              "      <th>access</th>\n",
              "      <th>interaction</th>\n",
              "      <th>house_rules</th>\n",
              "      <th>thumbnail_url</th>\n",
              "      <th>medium_url</th>\n",
              "      <th>picture_url</th>\n",
              "      <th>xl_picture_url</th>\n",
              "      <th>host_id</th>\n",
              "      <th>host_url</th>\n",
              "      <th>host_name</th>\n",
              "      <th>host_since</th>\n",
              "      <th>host_location</th>\n",
              "      <th>host_about</th>\n",
              "      <th>host_response_time</th>\n",
              "      <th>host_response_rate</th>\n",
              "      <th>host_acceptance_rate</th>\n",
              "      <th>host_is_superhost</th>\n",
              "      <th>host_thumbnail_url</th>\n",
              "      <th>host_picture_url</th>\n",
              "      <th>host_neighbourhood</th>\n",
              "      <th>host_listings_count</th>\n",
              "      <th>host_total_listings_count</th>\n",
              "      <th>host_verifications</th>\n",
              "      <th>host_has_profile_pic</th>\n",
              "      <th>host_identity_verified</th>\n",
              "      <th>street</th>\n",
              "      <th>neighbourhood</th>\n",
              "      <th>neighbourhood_cleansed</th>\n",
              "      <th>...</th>\n",
              "      <th>extra_people</th>\n",
              "      <th>minimum_nights</th>\n",
              "      <th>maximum_nights</th>\n",
              "      <th>minimum_minimum_nights</th>\n",
              "      <th>maximum_minimum_nights</th>\n",
              "      <th>minimum_maximum_nights</th>\n",
              "      <th>maximum_maximum_nights</th>\n",
              "      <th>minimum_nights_avg_ntm</th>\n",
              "      <th>maximum_nights_avg_ntm</th>\n",
              "      <th>calendar_updated</th>\n",
              "      <th>has_availability</th>\n",
              "      <th>availability_30</th>\n",
              "      <th>availability_60</th>\n",
              "      <th>availability_90</th>\n",
              "      <th>availability_365</th>\n",
              "      <th>calendar_last_scraped</th>\n",
              "      <th>number_of_reviews</th>\n",
              "      <th>number_of_reviews_ltm</th>\n",
              "      <th>first_review</th>\n",
              "      <th>last_review</th>\n",
              "      <th>review_scores_rating</th>\n",
              "      <th>review_scores_accuracy</th>\n",
              "      <th>review_scores_cleanliness</th>\n",
              "      <th>review_scores_checkin</th>\n",
              "      <th>review_scores_communication</th>\n",
              "      <th>review_scores_location</th>\n",
              "      <th>review_scores_value</th>\n",
              "      <th>requires_license</th>\n",
              "      <th>license</th>\n",
              "      <th>jurisdiction_names</th>\n",
              "      <th>instant_bookable</th>\n",
              "      <th>is_business_travel_ready</th>\n",
              "      <th>cancellation_policy</th>\n",
              "      <th>require_guest_profile_picture</th>\n",
              "      <th>require_guest_phone_verification</th>\n",
              "      <th>calculated_host_listings_count</th>\n",
              "      <th>calculated_host_listings_count_entire_homes</th>\n",
              "      <th>calculated_host_listings_count_private_rooms</th>\n",
              "      <th>calculated_host_listings_count_shared_rooms</th>\n",
              "      <th>reviews_per_month</th>\n",
              "    </tr>\n",
              "  </thead>\n",
              "  <tbody>\n",
              "    <tr>\n",
              "      <th>0</th>\n",
              "      <td>2595</td>\n",
              "      <td>https://www.airbnb.com/rooms/2595</td>\n",
              "      <td>20191204162729</td>\n",
              "      <td>2019-12-07</td>\n",
              "      <td>Skylit Midtown Castle</td>\n",
              "      <td>Beautiful, spacious skylit studio in the heart...</td>\n",
              "      <td>- Spacious (500+ft²), immaculate and nicely fu...</td>\n",
              "      <td>Beautiful, spacious skylit studio in the heart...</td>\n",
              "      <td>none</td>\n",
              "      <td>Centrally located in the heart of Manhattan ju...</td>\n",
              "      <td>NaN</td>\n",
              "      <td>Apartment is located on 37th Street between 5t...</td>\n",
              "      <td>Guests have full access to the kitchen, bathro...</td>\n",
              "      <td>I am a Sound Therapy Practitioner and Kundalin...</td>\n",
              "      <td>Make yourself at home, respect the space and t...</td>\n",
              "      <td>NaN</td>\n",
              "      <td>NaN</td>\n",
              "      <td>https://a0.muscache.com/im/pictures/f0813a11-4...</td>\n",
              "      <td>NaN</td>\n",
              "      <td>2845</td>\n",
              "      <td>https://www.airbnb.com/users/show/2845</td>\n",
              "      <td>Jennifer</td>\n",
              "      <td>2008-09-09</td>\n",
              "      <td>New York, New York, United States</td>\n",
              "      <td>A New Yorker since 2000! My passion is creatin...</td>\n",
              "      <td>within a day</td>\n",
              "      <td>85%</td>\n",
              "      <td>NaN</td>\n",
              "      <td>f</td>\n",
              "      <td>https://a0.muscache.com/im/users/2845/profile_...</td>\n",
              "      <td>https://a0.muscache.com/im/users/2845/profile_...</td>\n",
              "      <td>Midtown</td>\n",
              "      <td>6.0</td>\n",
              "      <td>6.0</td>\n",
              "      <td>['email', 'phone', 'reviews', 'offline_governm...</td>\n",
              "      <td>t</td>\n",
              "      <td>t</td>\n",
              "      <td>New York, NY, United States</td>\n",
              "      <td>Midtown</td>\n",
              "      <td>Midtown</td>\n",
              "      <td>...</td>\n",
              "      <td>$0.00</td>\n",
              "      <td>10</td>\n",
              "      <td>1125</td>\n",
              "      <td>10</td>\n",
              "      <td>10</td>\n",
              "      <td>1125</td>\n",
              "      <td>1125</td>\n",
              "      <td>10.0</td>\n",
              "      <td>1125.0</td>\n",
              "      <td>2 weeks ago</td>\n",
              "      <td>t</td>\n",
              "      <td>1</td>\n",
              "      <td>1</td>\n",
              "      <td>1</td>\n",
              "      <td>1</td>\n",
              "      <td>2019-12-07</td>\n",
              "      <td>48</td>\n",
              "      <td>7</td>\n",
              "      <td>2009-11-21</td>\n",
              "      <td>2019-11-04</td>\n",
              "      <td>94.0</td>\n",
              "      <td>9.0</td>\n",
              "      <td>9.0</td>\n",
              "      <td>10.0</td>\n",
              "      <td>10.0</td>\n",
              "      <td>10.0</td>\n",
              "      <td>9.0</td>\n",
              "      <td>f</td>\n",
              "      <td>NaN</td>\n",
              "      <td>NaN</td>\n",
              "      <td>f</td>\n",
              "      <td>f</td>\n",
              "      <td>strict_14_with_grace_period</td>\n",
              "      <td>t</td>\n",
              "      <td>t</td>\n",
              "      <td>1</td>\n",
              "      <td>1</td>\n",
              "      <td>0</td>\n",
              "      <td>0</td>\n",
              "      <td>0.39</td>\n",
              "    </tr>\n",
              "    <tr>\n",
              "      <th>1</th>\n",
              "      <td>3831</td>\n",
              "      <td>https://www.airbnb.com/rooms/3831</td>\n",
              "      <td>20191204162729</td>\n",
              "      <td>2019-12-07</td>\n",
              "      <td>Cozy Entire Floor of Brownstone</td>\n",
              "      <td>Urban retreat: enjoy 500 s.f. floor in 1899 br...</td>\n",
              "      <td>Greetings!      We own a double-duplex brownst...</td>\n",
              "      <td>Urban retreat: enjoy 500 s.f. floor in 1899 br...</td>\n",
              "      <td>none</td>\n",
              "      <td>Just the right mix of urban center and local n...</td>\n",
              "      <td>NaN</td>\n",
              "      <td>B52 bus for a 10-minute ride to downtown Brook...</td>\n",
              "      <td>You will have exclusive use of and access to: ...</td>\n",
              "      <td>We'll be around, but since you have the top fl...</td>\n",
              "      <td>Smoking - outside please; pets allowed but ple...</td>\n",
              "      <td>NaN</td>\n",
              "      <td>NaN</td>\n",
              "      <td>https://a0.muscache.com/im/pictures/e49999c2-9...</td>\n",
              "      <td>NaN</td>\n",
              "      <td>4869</td>\n",
              "      <td>https://www.airbnb.com/users/show/4869</td>\n",
              "      <td>LisaRoxanne</td>\n",
              "      <td>2008-12-07</td>\n",
              "      <td>New York, New York, United States</td>\n",
              "      <td>Laid-back bi-coastal actor/professor/attorney.</td>\n",
              "      <td>within an hour</td>\n",
              "      <td>100%</td>\n",
              "      <td>NaN</td>\n",
              "      <td>f</td>\n",
              "      <td>https://a0.muscache.com/im/users/4869/profile_...</td>\n",
              "      <td>https://a0.muscache.com/im/users/4869/profile_...</td>\n",
              "      <td>Clinton Hill</td>\n",
              "      <td>1.0</td>\n",
              "      <td>1.0</td>\n",
              "      <td>['email', 'phone', 'reviews', 'kba']</td>\n",
              "      <td>t</td>\n",
              "      <td>t</td>\n",
              "      <td>Brooklyn, NY, United States</td>\n",
              "      <td>Brooklyn</td>\n",
              "      <td>Clinton Hill</td>\n",
              "      <td>...</td>\n",
              "      <td>$0.00</td>\n",
              "      <td>1</td>\n",
              "      <td>730</td>\n",
              "      <td>1</td>\n",
              "      <td>1</td>\n",
              "      <td>730</td>\n",
              "      <td>730</td>\n",
              "      <td>1.0</td>\n",
              "      <td>730.0</td>\n",
              "      <td>2 weeks ago</td>\n",
              "      <td>t</td>\n",
              "      <td>1</td>\n",
              "      <td>1</td>\n",
              "      <td>1</td>\n",
              "      <td>1</td>\n",
              "      <td>2019-12-07</td>\n",
              "      <td>295</td>\n",
              "      <td>75</td>\n",
              "      <td>2014-09-30</td>\n",
              "      <td>2019-11-22</td>\n",
              "      <td>90.0</td>\n",
              "      <td>9.0</td>\n",
              "      <td>9.0</td>\n",
              "      <td>10.0</td>\n",
              "      <td>9.0</td>\n",
              "      <td>10.0</td>\n",
              "      <td>9.0</td>\n",
              "      <td>f</td>\n",
              "      <td>NaN</td>\n",
              "      <td>NaN</td>\n",
              "      <td>f</td>\n",
              "      <td>f</td>\n",
              "      <td>moderate</td>\n",
              "      <td>f</td>\n",
              "      <td>f</td>\n",
              "      <td>1</td>\n",
              "      <td>1</td>\n",
              "      <td>0</td>\n",
              "      <td>0</td>\n",
              "      <td>4.67</td>\n",
              "    </tr>\n",
              "    <tr>\n",
              "      <th>2</th>\n",
              "      <td>5099</td>\n",
              "      <td>https://www.airbnb.com/rooms/5099</td>\n",
              "      <td>20191204162729</td>\n",
              "      <td>2019-12-06</td>\n",
              "      <td>Large Cozy 1 BR Apartment In Midtown East</td>\n",
              "      <td>My large 1 bedroom apartment has a true New Yo...</td>\n",
              "      <td>I have a large 1 bedroom apartment centrally l...</td>\n",
              "      <td>My large 1 bedroom apartment has a true New Yo...</td>\n",
              "      <td>none</td>\n",
              "      <td>My neighborhood in Midtown East is called Murr...</td>\n",
              "      <td>Read My Full Listing For All Information. New ...</td>\n",
              "      <td>From the apartment is a 10 minute walk to Gran...</td>\n",
              "      <td>I will meet you upon arrival.</td>\n",
              "      <td>I usually check in with guests via text or ema...</td>\n",
              "      <td>• Check-in time is 2PM. • Check-out time is 12...</td>\n",
              "      <td>NaN</td>\n",
              "      <td>NaN</td>\n",
              "      <td>https://a0.muscache.com/im/pictures/24020910/1...</td>\n",
              "      <td>NaN</td>\n",
              "      <td>7322</td>\n",
              "      <td>https://www.airbnb.com/users/show/7322</td>\n",
              "      <td>Chris</td>\n",
              "      <td>2009-02-02</td>\n",
              "      <td>New York, New York, United States</td>\n",
              "      <td>I'm an artist, writer, traveler, and a native ...</td>\n",
              "      <td>NaN</td>\n",
              "      <td>NaN</td>\n",
              "      <td>NaN</td>\n",
              "      <td>f</td>\n",
              "      <td>https://a0.muscache.com/im/pictures/user/26745...</td>\n",
              "      <td>https://a0.muscache.com/im/pictures/user/26745...</td>\n",
              "      <td>Flatiron District</td>\n",
              "      <td>1.0</td>\n",
              "      <td>1.0</td>\n",
              "      <td>['email', 'phone', 'reviews', 'jumio', 'govern...</td>\n",
              "      <td>t</td>\n",
              "      <td>f</td>\n",
              "      <td>New York, NY, United States</td>\n",
              "      <td>Manhattan</td>\n",
              "      <td>Murray Hill</td>\n",
              "      <td>...</td>\n",
              "      <td>$100.00</td>\n",
              "      <td>3</td>\n",
              "      <td>21</td>\n",
              "      <td>3</td>\n",
              "      <td>3</td>\n",
              "      <td>21</td>\n",
              "      <td>21</td>\n",
              "      <td>3.0</td>\n",
              "      <td>21.0</td>\n",
              "      <td>2 weeks ago</td>\n",
              "      <td>t</td>\n",
              "      <td>19</td>\n",
              "      <td>19</td>\n",
              "      <td>19</td>\n",
              "      <td>19</td>\n",
              "      <td>2019-12-06</td>\n",
              "      <td>78</td>\n",
              "      <td>8</td>\n",
              "      <td>2009-04-20</td>\n",
              "      <td>2019-10-13</td>\n",
              "      <td>90.0</td>\n",
              "      <td>10.0</td>\n",
              "      <td>9.0</td>\n",
              "      <td>10.0</td>\n",
              "      <td>10.0</td>\n",
              "      <td>10.0</td>\n",
              "      <td>9.0</td>\n",
              "      <td>f</td>\n",
              "      <td>NaN</td>\n",
              "      <td>NaN</td>\n",
              "      <td>f</td>\n",
              "      <td>f</td>\n",
              "      <td>moderate</td>\n",
              "      <td>t</td>\n",
              "      <td>t</td>\n",
              "      <td>1</td>\n",
              "      <td>1</td>\n",
              "      <td>0</td>\n",
              "      <td>0</td>\n",
              "      <td>0.60</td>\n",
              "    </tr>\n",
              "    <tr>\n",
              "      <th>3</th>\n",
              "      <td>5121</td>\n",
              "      <td>https://www.airbnb.com/rooms/5121</td>\n",
              "      <td>20191204162729</td>\n",
              "      <td>2019-12-06</td>\n",
              "      <td>BlissArtsSpace!</td>\n",
              "      <td>NaN</td>\n",
              "      <td>HELLO EVERYONE AND THANKS FOR VISITING BLISS A...</td>\n",
              "      <td>HELLO EVERYONE AND THANKS FOR VISITING BLISS A...</td>\n",
              "      <td>none</td>\n",
              "      <td>NaN</td>\n",
              "      <td>NaN</td>\n",
              "      <td>NaN</td>\n",
              "      <td>NaN</td>\n",
              "      <td>NaN</td>\n",
              "      <td>NaN</td>\n",
              "      <td>NaN</td>\n",
              "      <td>NaN</td>\n",
              "      <td>https://a0.muscache.com/im/pictures/2090980c-b...</td>\n",
              "      <td>NaN</td>\n",
              "      <td>7356</td>\n",
              "      <td>https://www.airbnb.com/users/show/7356</td>\n",
              "      <td>Garon</td>\n",
              "      <td>2009-02-03</td>\n",
              "      <td>New York, New York, United States</td>\n",
              "      <td>I am an artist(painter, filmmaker) and curato...</td>\n",
              "      <td>within a few hours</td>\n",
              "      <td>100%</td>\n",
              "      <td>NaN</td>\n",
              "      <td>f</td>\n",
              "      <td>https://a0.muscache.com/im/pictures/user/72a61...</td>\n",
              "      <td>https://a0.muscache.com/im/pictures/user/72a61...</td>\n",
              "      <td>Bedford-Stuyvesant</td>\n",
              "      <td>1.0</td>\n",
              "      <td>1.0</td>\n",
              "      <td>['email', 'phone', 'facebook', 'reviews', 'off...</td>\n",
              "      <td>t</td>\n",
              "      <td>f</td>\n",
              "      <td>Brooklyn, NY, United States</td>\n",
              "      <td>Bedford-Stuyvesant</td>\n",
              "      <td>Bedford-Stuyvesant</td>\n",
              "      <td>...</td>\n",
              "      <td>$30.00</td>\n",
              "      <td>29</td>\n",
              "      <td>730</td>\n",
              "      <td>29</td>\n",
              "      <td>29</td>\n",
              "      <td>730</td>\n",
              "      <td>730</td>\n",
              "      <td>29.0</td>\n",
              "      <td>730.0</td>\n",
              "      <td>23 months ago</td>\n",
              "      <td>t</td>\n",
              "      <td>30</td>\n",
              "      <td>60</td>\n",
              "      <td>90</td>\n",
              "      <td>365</td>\n",
              "      <td>2019-12-06</td>\n",
              "      <td>49</td>\n",
              "      <td>0</td>\n",
              "      <td>2009-05-28</td>\n",
              "      <td>2017-10-05</td>\n",
              "      <td>90.0</td>\n",
              "      <td>8.0</td>\n",
              "      <td>8.0</td>\n",
              "      <td>10.0</td>\n",
              "      <td>10.0</td>\n",
              "      <td>9.0</td>\n",
              "      <td>9.0</td>\n",
              "      <td>f</td>\n",
              "      <td>NaN</td>\n",
              "      <td>NaN</td>\n",
              "      <td>f</td>\n",
              "      <td>f</td>\n",
              "      <td>strict_14_with_grace_period</td>\n",
              "      <td>f</td>\n",
              "      <td>f</td>\n",
              "      <td>1</td>\n",
              "      <td>0</td>\n",
              "      <td>1</td>\n",
              "      <td>0</td>\n",
              "      <td>0.38</td>\n",
              "    </tr>\n",
              "    <tr>\n",
              "      <th>4</th>\n",
              "      <td>5178</td>\n",
              "      <td>https://www.airbnb.com/rooms/5178</td>\n",
              "      <td>20191204162729</td>\n",
              "      <td>2019-12-05</td>\n",
              "      <td>Large Furnished Room Near B'way</td>\n",
              "      <td>Please don’t expect the luxury here just a bas...</td>\n",
              "      <td>You will use one large, furnished, private roo...</td>\n",
              "      <td>Please don’t expect the luxury here just a bas...</td>\n",
              "      <td>none</td>\n",
              "      <td>Theater district, many restaurants around here.</td>\n",
              "      <td>Reservation should be made at least a few days...</td>\n",
              "      <td>NaN</td>\n",
              "      <td>Bathroom is shared with the host but the kitch...</td>\n",
              "      <td>NaN</td>\n",
              "      <td>No smoking in the room. When you check out, pl...</td>\n",
              "      <td>NaN</td>\n",
              "      <td>NaN</td>\n",
              "      <td>https://a0.muscache.com/im/pictures/12065/f070...</td>\n",
              "      <td>NaN</td>\n",
              "      <td>8967</td>\n",
              "      <td>https://www.airbnb.com/users/show/8967</td>\n",
              "      <td>Shunichi</td>\n",
              "      <td>2009-03-03</td>\n",
              "      <td>New York, New York, United States</td>\n",
              "      <td>I used to work for a financial industry but no...</td>\n",
              "      <td>within a few hours</td>\n",
              "      <td>100%</td>\n",
              "      <td>NaN</td>\n",
              "      <td>f</td>\n",
              "      <td>https://a0.muscache.com/im/users/8967/profile_...</td>\n",
              "      <td>https://a0.muscache.com/im/users/8967/profile_...</td>\n",
              "      <td>Hell's Kitchen</td>\n",
              "      <td>1.0</td>\n",
              "      <td>1.0</td>\n",
              "      <td>['email', 'phone', 'facebook', 'reviews']</td>\n",
              "      <td>t</td>\n",
              "      <td>f</td>\n",
              "      <td>New York, NY, United States</td>\n",
              "      <td>Manhattan</td>\n",
              "      <td>Hell's Kitchen</td>\n",
              "      <td>...</td>\n",
              "      <td>$12.00</td>\n",
              "      <td>2</td>\n",
              "      <td>14</td>\n",
              "      <td>1</td>\n",
              "      <td>2</td>\n",
              "      <td>14</td>\n",
              "      <td>14</td>\n",
              "      <td>1.8</td>\n",
              "      <td>14.0</td>\n",
              "      <td>2 months ago</td>\n",
              "      <td>t</td>\n",
              "      <td>3</td>\n",
              "      <td>12</td>\n",
              "      <td>40</td>\n",
              "      <td>242</td>\n",
              "      <td>2019-12-05</td>\n",
              "      <td>454</td>\n",
              "      <td>47</td>\n",
              "      <td>2009-05-06</td>\n",
              "      <td>2019-11-21</td>\n",
              "      <td>84.0</td>\n",
              "      <td>9.0</td>\n",
              "      <td>7.0</td>\n",
              "      <td>9.0</td>\n",
              "      <td>9.0</td>\n",
              "      <td>10.0</td>\n",
              "      <td>8.0</td>\n",
              "      <td>f</td>\n",
              "      <td>NaN</td>\n",
              "      <td>NaN</td>\n",
              "      <td>f</td>\n",
              "      <td>f</td>\n",
              "      <td>strict_14_with_grace_period</td>\n",
              "      <td>f</td>\n",
              "      <td>f</td>\n",
              "      <td>1</td>\n",
              "      <td>0</td>\n",
              "      <td>1</td>\n",
              "      <td>0</td>\n",
              "      <td>3.52</td>\n",
              "    </tr>\n",
              "  </tbody>\n",
              "</table>\n",
              "<p>5 rows × 106 columns</p>\n",
              "</div>"
            ],
            "text/plain": [
              "     id  ... reviews_per_month\n",
              "0  2595  ...              0.39\n",
              "1  3831  ...              4.67\n",
              "2  5099  ...              0.60\n",
              "3  5121  ...              0.38\n",
              "4  5178  ...              3.52\n",
              "\n",
              "[5 rows x 106 columns]"
            ]
          },
          "metadata": {
            "tags": []
          },
          "execution_count": 13
        }
      ]
    },
    {
      "cell_type": "markdown",
      "metadata": {
        "id": "b2OEIkFcwcc9",
        "colab_type": "text"
      },
      "source": [
        "## File: listings.csv (summary)\n",
        "* Summary information and metrics for listings in New York City (good for visualizations)\n",
        "* Contains 50599 observations of 10 numeric and 6 object variables"
      ]
    },
    {
      "cell_type": "code",
      "metadata": {
        "id": "Le9nL3qkwcc_",
        "colab_type": "code",
        "outputId": "68fc5e83-7e00-4036-bb27-1f002e85b9ae",
        "colab": {
          "base_uri": "https://localhost:8080/",
          "height": 307
        }
      },
      "source": [
        "listings_summary_df.describe()"
      ],
      "execution_count": 0,
      "outputs": [
        {
          "output_type": "execute_result",
          "data": {
            "text/html": [
              "<div>\n",
              "<style scoped>\n",
              "    .dataframe tbody tr th:only-of-type {\n",
              "        vertical-align: middle;\n",
              "    }\n",
              "\n",
              "    .dataframe tbody tr th {\n",
              "        vertical-align: top;\n",
              "    }\n",
              "\n",
              "    .dataframe thead th {\n",
              "        text-align: right;\n",
              "    }\n",
              "</style>\n",
              "<table border=\"1\" class=\"dataframe\">\n",
              "  <thead>\n",
              "    <tr style=\"text-align: right;\">\n",
              "      <th></th>\n",
              "      <th>id</th>\n",
              "      <th>host_id</th>\n",
              "      <th>latitude</th>\n",
              "      <th>longitude</th>\n",
              "      <th>price</th>\n",
              "      <th>minimum_nights</th>\n",
              "      <th>number_of_reviews</th>\n",
              "      <th>reviews_per_month</th>\n",
              "      <th>calculated_host_listings_count</th>\n",
              "      <th>availability_365</th>\n",
              "    </tr>\n",
              "  </thead>\n",
              "  <tbody>\n",
              "    <tr>\n",
              "      <th>count</th>\n",
              "      <td>5.059900e+04</td>\n",
              "      <td>5.059900e+04</td>\n",
              "      <td>50599.000000</td>\n",
              "      <td>50599.000000</td>\n",
              "      <td>50599.000000</td>\n",
              "      <td>50599.000000</td>\n",
              "      <td>50599.000000</td>\n",
              "      <td>40379.000000</td>\n",
              "      <td>50599.000000</td>\n",
              "      <td>50599.000000</td>\n",
              "    </tr>\n",
              "    <tr>\n",
              "      <th>mean</th>\n",
              "      <td>2.137380e+07</td>\n",
              "      <td>7.893854e+07</td>\n",
              "      <td>40.728743</td>\n",
              "      <td>-73.950762</td>\n",
              "      <td>158.171782</td>\n",
              "      <td>7.531908</td>\n",
              "      <td>24.809225</td>\n",
              "      <td>1.405862</td>\n",
              "      <td>7.330916</td>\n",
              "      <td>112.785944</td>\n",
              "    </tr>\n",
              "    <tr>\n",
              "      <th>std</th>\n",
              "      <td>1.242864e+07</td>\n",
              "      <td>9.095944e+07</td>\n",
              "      <td>0.055004</td>\n",
              "      <td>0.047606</td>\n",
              "      <td>348.089562</td>\n",
              "      <td>22.454271</td>\n",
              "      <td>47.317882</td>\n",
              "      <td>1.695551</td>\n",
              "      <td>32.757485</td>\n",
              "      <td>135.891028</td>\n",
              "    </tr>\n",
              "    <tr>\n",
              "      <th>min</th>\n",
              "      <td>2.595000e+03</td>\n",
              "      <td>2.438000e+03</td>\n",
              "      <td>40.499790</td>\n",
              "      <td>-74.247870</td>\n",
              "      <td>0.000000</td>\n",
              "      <td>1.000000</td>\n",
              "      <td>0.000000</td>\n",
              "      <td>0.010000</td>\n",
              "      <td>1.000000</td>\n",
              "      <td>0.000000</td>\n",
              "    </tr>\n",
              "    <tr>\n",
              "      <th>25%</th>\n",
              "      <td>1.009891e+07</td>\n",
              "      <td>8.925493e+06</td>\n",
              "      <td>40.689550</td>\n",
              "      <td>-73.982930</td>\n",
              "      <td>69.000000</td>\n",
              "      <td>1.000000</td>\n",
              "      <td>1.000000</td>\n",
              "      <td>0.190000</td>\n",
              "      <td>1.000000</td>\n",
              "      <td>0.000000</td>\n",
              "    </tr>\n",
              "    <tr>\n",
              "      <th>50%</th>\n",
              "      <td>2.154642e+07</td>\n",
              "      <td>3.572660e+07</td>\n",
              "      <td>40.722880</td>\n",
              "      <td>-73.955050</td>\n",
              "      <td>105.000000</td>\n",
              "      <td>3.000000</td>\n",
              "      <td>6.000000</td>\n",
              "      <td>0.740000</td>\n",
              "      <td>1.000000</td>\n",
              "      <td>42.000000</td>\n",
              "    </tr>\n",
              "    <tr>\n",
              "      <th>75%</th>\n",
              "      <td>3.271780e+07</td>\n",
              "      <td>1.293330e+08</td>\n",
              "      <td>40.763030</td>\n",
              "      <td>-73.934200</td>\n",
              "      <td>175.000000</td>\n",
              "      <td>5.000000</td>\n",
              "      <td>25.000000</td>\n",
              "      <td>2.110000</td>\n",
              "      <td>2.000000</td>\n",
              "      <td>225.000000</td>\n",
              "    </tr>\n",
              "    <tr>\n",
              "      <th>max</th>\n",
              "      <td>4.058402e+07</td>\n",
              "      <td>3.143682e+08</td>\n",
              "      <td>40.916860</td>\n",
              "      <td>-73.712990</td>\n",
              "      <td>10000.000000</td>\n",
              "      <td>1250.000000</td>\n",
              "      <td>675.000000</td>\n",
              "      <td>52.630000</td>\n",
              "      <td>310.000000</td>\n",
              "      <td>365.000000</td>\n",
              "    </tr>\n",
              "  </tbody>\n",
              "</table>\n",
              "</div>"
            ],
            "text/plain": [
              "                 id  ...  availability_365\n",
              "count  5.059900e+04  ...      50599.000000\n",
              "mean   2.137380e+07  ...        112.785944\n",
              "std    1.242864e+07  ...        135.891028\n",
              "min    2.595000e+03  ...          0.000000\n",
              "25%    1.009891e+07  ...          0.000000\n",
              "50%    2.154642e+07  ...         42.000000\n",
              "75%    3.271780e+07  ...        225.000000\n",
              "max    4.058402e+07  ...        365.000000\n",
              "\n",
              "[8 rows x 10 columns]"
            ]
          },
          "metadata": {
            "tags": []
          },
          "execution_count": 14
        }
      ]
    },
    {
      "cell_type": "code",
      "metadata": {
        "id": "zQUwjHHowcdC",
        "colab_type": "code",
        "outputId": "d27fea4f-e5ec-4ac1-aae9-dfe8e3c5fb1b",
        "colab": {
          "base_uri": "https://localhost:8080/",
          "height": 354
        }
      },
      "source": [
        "summarizeData(listings_summary_df)"
      ],
      "execution_count": 0,
      "outputs": [
        {
          "output_type": "stream",
          "text": [
            "Number of Variables: 16\n",
            "\n",
            "Number of Observations: 50599\n",
            "\n",
            "Data types:\n",
            "int64      7\n",
            "object     6\n",
            "float64    3\n",
            "dtype: int64\n",
            "\n",
            "Column Names by Type:\n",
            "\n",
            "(dtype('int64'), Index(['id', 'host_id', 'price', 'minimum_nights', 'number_of_reviews',\n",
            "       'calculated_host_listings_count', 'availability_365'],\n",
            "      dtype='object'))\n",
            "(dtype('float64'), Index(['latitude', 'longitude', 'reviews_per_month'], dtype='object'))\n",
            "(dtype('O'), Index(['name', 'host_name', 'neighbourhood_group', 'neighbourhood',\n",
            "       'room_type', 'last_review'],\n",
            "      dtype='object'))\n"
          ],
          "name": "stdout"
        }
      ]
    },
    {
      "cell_type": "markdown",
      "metadata": {
        "id": "tSTPAOLowcdF",
        "colab_type": "text"
      },
      "source": [
        "### Sample Observation"
      ]
    },
    {
      "cell_type": "code",
      "metadata": {
        "id": "-KJirvEwwcdG",
        "colab_type": "code",
        "outputId": "9e9c8cbb-8d45-4fee-e47e-757df5d58755",
        "colab": {
          "base_uri": "https://localhost:8080/",
          "height": 384
        }
      },
      "source": [
        "listings_summary_df.head()"
      ],
      "execution_count": 0,
      "outputs": [
        {
          "output_type": "execute_result",
          "data": {
            "text/html": [
              "<div>\n",
              "<style scoped>\n",
              "    .dataframe tbody tr th:only-of-type {\n",
              "        vertical-align: middle;\n",
              "    }\n",
              "\n",
              "    .dataframe tbody tr th {\n",
              "        vertical-align: top;\n",
              "    }\n",
              "\n",
              "    .dataframe thead th {\n",
              "        text-align: right;\n",
              "    }\n",
              "</style>\n",
              "<table border=\"1\" class=\"dataframe\">\n",
              "  <thead>\n",
              "    <tr style=\"text-align: right;\">\n",
              "      <th></th>\n",
              "      <th>id</th>\n",
              "      <th>name</th>\n",
              "      <th>host_id</th>\n",
              "      <th>host_name</th>\n",
              "      <th>neighbourhood_group</th>\n",
              "      <th>neighbourhood</th>\n",
              "      <th>latitude</th>\n",
              "      <th>longitude</th>\n",
              "      <th>room_type</th>\n",
              "      <th>price</th>\n",
              "      <th>minimum_nights</th>\n",
              "      <th>number_of_reviews</th>\n",
              "      <th>last_review</th>\n",
              "      <th>reviews_per_month</th>\n",
              "      <th>calculated_host_listings_count</th>\n",
              "      <th>availability_365</th>\n",
              "    </tr>\n",
              "  </thead>\n",
              "  <tbody>\n",
              "    <tr>\n",
              "      <th>0</th>\n",
              "      <td>2595</td>\n",
              "      <td>Skylit Midtown Castle</td>\n",
              "      <td>2845</td>\n",
              "      <td>Jennifer</td>\n",
              "      <td>Manhattan</td>\n",
              "      <td>Midtown</td>\n",
              "      <td>40.75362</td>\n",
              "      <td>-73.98377</td>\n",
              "      <td>Entire home/apt</td>\n",
              "      <td>225</td>\n",
              "      <td>10</td>\n",
              "      <td>48</td>\n",
              "      <td>2019-11-04</td>\n",
              "      <td>0.39</td>\n",
              "      <td>1</td>\n",
              "      <td>1</td>\n",
              "    </tr>\n",
              "    <tr>\n",
              "      <th>1</th>\n",
              "      <td>3831</td>\n",
              "      <td>Cozy Entire Floor of Brownstone</td>\n",
              "      <td>4869</td>\n",
              "      <td>LisaRoxanne</td>\n",
              "      <td>Brooklyn</td>\n",
              "      <td>Clinton Hill</td>\n",
              "      <td>40.68514</td>\n",
              "      <td>-73.95976</td>\n",
              "      <td>Entire home/apt</td>\n",
              "      <td>89</td>\n",
              "      <td>1</td>\n",
              "      <td>295</td>\n",
              "      <td>2019-11-22</td>\n",
              "      <td>4.67</td>\n",
              "      <td>1</td>\n",
              "      <td>1</td>\n",
              "    </tr>\n",
              "    <tr>\n",
              "      <th>2</th>\n",
              "      <td>5099</td>\n",
              "      <td>Large Cozy 1 BR Apartment In Midtown East</td>\n",
              "      <td>7322</td>\n",
              "      <td>Chris</td>\n",
              "      <td>Manhattan</td>\n",
              "      <td>Murray Hill</td>\n",
              "      <td>40.74767</td>\n",
              "      <td>-73.97500</td>\n",
              "      <td>Entire home/apt</td>\n",
              "      <td>200</td>\n",
              "      <td>3</td>\n",
              "      <td>78</td>\n",
              "      <td>2019-10-13</td>\n",
              "      <td>0.60</td>\n",
              "      <td>1</td>\n",
              "      <td>19</td>\n",
              "    </tr>\n",
              "    <tr>\n",
              "      <th>3</th>\n",
              "      <td>5121</td>\n",
              "      <td>BlissArtsSpace!</td>\n",
              "      <td>7356</td>\n",
              "      <td>Garon</td>\n",
              "      <td>Brooklyn</td>\n",
              "      <td>Bedford-Stuyvesant</td>\n",
              "      <td>40.68688</td>\n",
              "      <td>-73.95596</td>\n",
              "      <td>Private room</td>\n",
              "      <td>60</td>\n",
              "      <td>29</td>\n",
              "      <td>49</td>\n",
              "      <td>2017-10-05</td>\n",
              "      <td>0.38</td>\n",
              "      <td>1</td>\n",
              "      <td>365</td>\n",
              "    </tr>\n",
              "    <tr>\n",
              "      <th>4</th>\n",
              "      <td>5178</td>\n",
              "      <td>Large Furnished Room Near B'way</td>\n",
              "      <td>8967</td>\n",
              "      <td>Shunichi</td>\n",
              "      <td>Manhattan</td>\n",
              "      <td>Hell's Kitchen</td>\n",
              "      <td>40.76489</td>\n",
              "      <td>-73.98493</td>\n",
              "      <td>Private room</td>\n",
              "      <td>79</td>\n",
              "      <td>2</td>\n",
              "      <td>454</td>\n",
              "      <td>2019-11-21</td>\n",
              "      <td>3.52</td>\n",
              "      <td>1</td>\n",
              "      <td>242</td>\n",
              "    </tr>\n",
              "  </tbody>\n",
              "</table>\n",
              "</div>"
            ],
            "text/plain": [
              "     id  ... availability_365\n",
              "0  2595  ...                1\n",
              "1  3831  ...                1\n",
              "2  5099  ...               19\n",
              "3  5121  ...              365\n",
              "4  5178  ...              242\n",
              "\n",
              "[5 rows x 16 columns]"
            ]
          },
          "metadata": {
            "tags": []
          },
          "execution_count": 16
        }
      ]
    },
    {
      "cell_type": "markdown",
      "metadata": {
        "id": "PPoU3dwFwcdJ",
        "colab_type": "text"
      },
      "source": [
        "## File: reviews.csv.gz (detailed)\n",
        "* Detailed Review Data for listings in New York City\n",
        "* Contains 1255322 observations of 3 numeric and 3 object variables"
      ]
    },
    {
      "cell_type": "code",
      "metadata": {
        "id": "Dh8U_qlpwcdJ",
        "colab_type": "code",
        "outputId": "1ff60450-f2b5-41e3-bafe-e726f439aede",
        "colab": {
          "base_uri": "https://localhost:8080/",
          "height": 287
        }
      },
      "source": [
        "reviews_detail_df.describe()"
      ],
      "execution_count": 0,
      "outputs": [
        {
          "output_type": "execute_result",
          "data": {
            "text/html": [
              "<div>\n",
              "<style scoped>\n",
              "    .dataframe tbody tr th:only-of-type {\n",
              "        vertical-align: middle;\n",
              "    }\n",
              "\n",
              "    .dataframe tbody tr th {\n",
              "        vertical-align: top;\n",
              "    }\n",
              "\n",
              "    .dataframe thead th {\n",
              "        text-align: right;\n",
              "    }\n",
              "</style>\n",
              "<table border=\"1\" class=\"dataframe\">\n",
              "  <thead>\n",
              "    <tr style=\"text-align: right;\">\n",
              "      <th></th>\n",
              "      <th>listing_id</th>\n",
              "      <th>id</th>\n",
              "      <th>reviewer_id</th>\n",
              "    </tr>\n",
              "  </thead>\n",
              "  <tbody>\n",
              "    <tr>\n",
              "      <th>count</th>\n",
              "      <td>1.255322e+06</td>\n",
              "      <td>1.255322e+06</td>\n",
              "      <td>1.255322e+06</td>\n",
              "    </tr>\n",
              "    <tr>\n",
              "      <th>mean</th>\n",
              "      <td>1.396211e+07</td>\n",
              "      <td>2.918422e+08</td>\n",
              "      <td>8.324934e+07</td>\n",
              "    </tr>\n",
              "    <tr>\n",
              "      <th>std</th>\n",
              "      <td>1.076478e+07</td>\n",
              "      <td>1.734486e+08</td>\n",
              "      <td>7.820263e+07</td>\n",
              "    </tr>\n",
              "    <tr>\n",
              "      <th>min</th>\n",
              "      <td>2.595000e+03</td>\n",
              "      <td>9.030000e+02</td>\n",
              "      <td>1.000000e+00</td>\n",
              "    </tr>\n",
              "    <tr>\n",
              "      <th>25%</th>\n",
              "      <td>4.081800e+06</td>\n",
              "      <td>1.415657e+08</td>\n",
              "      <td>1.876831e+07</td>\n",
              "    </tr>\n",
              "    <tr>\n",
              "      <th>50%</th>\n",
              "      <td>1.315684e+07</td>\n",
              "      <td>2.900042e+08</td>\n",
              "      <td>5.592106e+07</td>\n",
              "    </tr>\n",
              "    <tr>\n",
              "      <th>75%</th>\n",
              "      <td>2.173354e+07</td>\n",
              "      <td>4.526637e+08</td>\n",
              "      <td>1.324934e+08</td>\n",
              "    </tr>\n",
              "    <tr>\n",
              "      <th>max</th>\n",
              "      <td>4.056566e+07</td>\n",
              "      <td>5.736112e+08</td>\n",
              "      <td>3.146917e+08</td>\n",
              "    </tr>\n",
              "  </tbody>\n",
              "</table>\n",
              "</div>"
            ],
            "text/plain": [
              "         listing_id            id   reviewer_id\n",
              "count  1.255322e+06  1.255322e+06  1.255322e+06\n",
              "mean   1.396211e+07  2.918422e+08  8.324934e+07\n",
              "std    1.076478e+07  1.734486e+08  7.820263e+07\n",
              "min    2.595000e+03  9.030000e+02  1.000000e+00\n",
              "25%    4.081800e+06  1.415657e+08  1.876831e+07\n",
              "50%    1.315684e+07  2.900042e+08  5.592106e+07\n",
              "75%    2.173354e+07  4.526637e+08  1.324934e+08\n",
              "max    4.056566e+07  5.736112e+08  3.146917e+08"
            ]
          },
          "metadata": {
            "tags": []
          },
          "execution_count": 17
        }
      ]
    },
    {
      "cell_type": "code",
      "metadata": {
        "id": "mB7H5A-2wcdM",
        "colab_type": "code",
        "outputId": "3d9d558c-7070-44f1-c9b5-d917e4ee1938",
        "colab": {
          "base_uri": "https://localhost:8080/",
          "height": 247
        }
      },
      "source": [
        "summarizeData(reviews_detail_df)"
      ],
      "execution_count": 0,
      "outputs": [
        {
          "output_type": "stream",
          "text": [
            "Number of Variables: 6\n",
            "\n",
            "Number of Observations: 1255322\n",
            "\n",
            "Data types:\n",
            "object    3\n",
            "int64     3\n",
            "dtype: int64\n",
            "\n",
            "Column Names by Type:\n",
            "\n",
            "(dtype('int64'), Index(['listing_id', 'id', 'reviewer_id'], dtype='object'))\n",
            "(dtype('O'), Index(['date', 'reviewer_name', 'comments'], dtype='object'))\n"
          ],
          "name": "stdout"
        }
      ]
    },
    {
      "cell_type": "markdown",
      "metadata": {
        "id": "J6WOs2mnwcdQ",
        "colab_type": "text"
      },
      "source": [
        "### Sample Observation"
      ]
    },
    {
      "cell_type": "code",
      "metadata": {
        "id": "07nKsI4owcdR",
        "colab_type": "code",
        "outputId": "1cd11c76-603e-48d6-e0aa-ab1078763843",
        "colab": {
          "base_uri": "https://localhost:8080/",
          "height": 198
        }
      },
      "source": [
        "reviews_detail_df.head()"
      ],
      "execution_count": 8,
      "outputs": [
        {
          "output_type": "execute_result",
          "data": {
            "text/html": [
              "<div>\n",
              "<style scoped>\n",
              "    .dataframe tbody tr th:only-of-type {\n",
              "        vertical-align: middle;\n",
              "    }\n",
              "\n",
              "    .dataframe tbody tr th {\n",
              "        vertical-align: top;\n",
              "    }\n",
              "\n",
              "    .dataframe thead th {\n",
              "        text-align: right;\n",
              "    }\n",
              "</style>\n",
              "<table border=\"1\" class=\"dataframe\">\n",
              "  <thead>\n",
              "    <tr style=\"text-align: right;\">\n",
              "      <th></th>\n",
              "      <th>listing_id</th>\n",
              "      <th>id</th>\n",
              "      <th>date</th>\n",
              "      <th>reviewer_id</th>\n",
              "      <th>reviewer_name</th>\n",
              "      <th>comments</th>\n",
              "    </tr>\n",
              "  </thead>\n",
              "  <tbody>\n",
              "    <tr>\n",
              "      <th>0</th>\n",
              "      <td>2595</td>\n",
              "      <td>17857</td>\n",
              "      <td>2009-11-21</td>\n",
              "      <td>50679</td>\n",
              "      <td>Jean</td>\n",
              "      <td>Notre séjour de trois nuits.\\r\\nNous avons app...</td>\n",
              "    </tr>\n",
              "    <tr>\n",
              "      <th>1</th>\n",
              "      <td>2595</td>\n",
              "      <td>19176</td>\n",
              "      <td>2009-12-05</td>\n",
              "      <td>53267</td>\n",
              "      <td>Cate</td>\n",
              "      <td>Great experience.</td>\n",
              "    </tr>\n",
              "    <tr>\n",
              "      <th>2</th>\n",
              "      <td>2595</td>\n",
              "      <td>19760</td>\n",
              "      <td>2009-12-10</td>\n",
              "      <td>38960</td>\n",
              "      <td>Anita</td>\n",
              "      <td>I've stayed with my friend at the Midtown Cast...</td>\n",
              "    </tr>\n",
              "    <tr>\n",
              "      <th>3</th>\n",
              "      <td>2595</td>\n",
              "      <td>34320</td>\n",
              "      <td>2010-04-09</td>\n",
              "      <td>71130</td>\n",
              "      <td>Kai-Uwe</td>\n",
              "      <td>We've been staying here for about 9 nights, en...</td>\n",
              "    </tr>\n",
              "    <tr>\n",
              "      <th>4</th>\n",
              "      <td>2595</td>\n",
              "      <td>46312</td>\n",
              "      <td>2010-05-25</td>\n",
              "      <td>117113</td>\n",
              "      <td>Alicia</td>\n",
              "      <td>We had a wonderful stay at Jennifer's charming...</td>\n",
              "    </tr>\n",
              "  </tbody>\n",
              "</table>\n",
              "</div>"
            ],
            "text/plain": [
              "   listing_id  ...                                           comments\n",
              "0        2595  ...  Notre séjour de trois nuits.\\r\\nNous avons app...\n",
              "1        2595  ...                                  Great experience.\n",
              "2        2595  ...  I've stayed with my friend at the Midtown Cast...\n",
              "3        2595  ...  We've been staying here for about 9 nights, en...\n",
              "4        2595  ...  We had a wonderful stay at Jennifer's charming...\n",
              "\n",
              "[5 rows x 6 columns]"
            ]
          },
          "metadata": {
            "tags": []
          },
          "execution_count": 8
        }
      ]
    },
    {
      "cell_type": "markdown",
      "metadata": {
        "id": "RXlQyXbYwcdU",
        "colab_type": "text"
      },
      "source": [
        "## File: reviews.csv (summary)\n",
        "* Summary Review data and Listing ID (to facilitate time based analytics and visualizations linked to a listing)\n",
        "* Contains 1255322 observations of 1 numeric and 1 object variables\n",
        "* These are observations of review dates by listing ID."
      ]
    },
    {
      "cell_type": "code",
      "metadata": {
        "id": "UoTfMlt4wcdU",
        "colab_type": "code",
        "outputId": "8a74e986-10d2-43d0-caf7-e4e024fe2ac7",
        "colab": {
          "base_uri": "https://localhost:8080/",
          "height": 287
        }
      },
      "source": [
        "reviews_summary_df.describe()"
      ],
      "execution_count": 0,
      "outputs": [
        {
          "output_type": "execute_result",
          "data": {
            "text/html": [
              "<div>\n",
              "<style scoped>\n",
              "    .dataframe tbody tr th:only-of-type {\n",
              "        vertical-align: middle;\n",
              "    }\n",
              "\n",
              "    .dataframe tbody tr th {\n",
              "        vertical-align: top;\n",
              "    }\n",
              "\n",
              "    .dataframe thead th {\n",
              "        text-align: right;\n",
              "    }\n",
              "</style>\n",
              "<table border=\"1\" class=\"dataframe\">\n",
              "  <thead>\n",
              "    <tr style=\"text-align: right;\">\n",
              "      <th></th>\n",
              "      <th>listing_id</th>\n",
              "    </tr>\n",
              "  </thead>\n",
              "  <tbody>\n",
              "    <tr>\n",
              "      <th>count</th>\n",
              "      <td>1.255322e+06</td>\n",
              "    </tr>\n",
              "    <tr>\n",
              "      <th>mean</th>\n",
              "      <td>1.396211e+07</td>\n",
              "    </tr>\n",
              "    <tr>\n",
              "      <th>std</th>\n",
              "      <td>1.076478e+07</td>\n",
              "    </tr>\n",
              "    <tr>\n",
              "      <th>min</th>\n",
              "      <td>2.595000e+03</td>\n",
              "    </tr>\n",
              "    <tr>\n",
              "      <th>25%</th>\n",
              "      <td>4.081800e+06</td>\n",
              "    </tr>\n",
              "    <tr>\n",
              "      <th>50%</th>\n",
              "      <td>1.315684e+07</td>\n",
              "    </tr>\n",
              "    <tr>\n",
              "      <th>75%</th>\n",
              "      <td>2.173354e+07</td>\n",
              "    </tr>\n",
              "    <tr>\n",
              "      <th>max</th>\n",
              "      <td>4.056566e+07</td>\n",
              "    </tr>\n",
              "  </tbody>\n",
              "</table>\n",
              "</div>"
            ],
            "text/plain": [
              "         listing_id\n",
              "count  1.255322e+06\n",
              "mean   1.396211e+07\n",
              "std    1.076478e+07\n",
              "min    2.595000e+03\n",
              "25%    4.081800e+06\n",
              "50%    1.315684e+07\n",
              "75%    2.173354e+07\n",
              "max    4.056566e+07"
            ]
          },
          "metadata": {
            "tags": []
          },
          "execution_count": 20
        }
      ]
    },
    {
      "cell_type": "code",
      "metadata": {
        "id": "qed6pk_JwcdY",
        "colab_type": "code",
        "outputId": "72fdff58-e938-4656-e1e5-720bf1890edf",
        "colab": {
          "base_uri": "https://localhost:8080/",
          "height": 247
        }
      },
      "source": [
        "summarizeData(reviews_summary_df)"
      ],
      "execution_count": 0,
      "outputs": [
        {
          "output_type": "stream",
          "text": [
            "Number of Variables: 2\n",
            "\n",
            "Number of Observations: 1255322\n",
            "\n",
            "Data types:\n",
            "object    1\n",
            "int64     1\n",
            "dtype: int64\n",
            "\n",
            "Column Names by Type:\n",
            "\n",
            "(dtype('int64'), Index(['listing_id'], dtype='object'))\n",
            "(dtype('O'), Index(['date'], dtype='object'))\n"
          ],
          "name": "stdout"
        }
      ]
    },
    {
      "cell_type": "markdown",
      "metadata": {
        "id": "WF2soEFfwcdc",
        "colab_type": "text"
      },
      "source": [
        "### Sample Observation"
      ]
    },
    {
      "cell_type": "code",
      "metadata": {
        "id": "onfSuAZ_wcdd",
        "colab_type": "code",
        "outputId": "deaffac7-3640-40ff-9e40-6dd782615b66",
        "colab": {
          "base_uri": "https://localhost:8080/",
          "height": 197
        }
      },
      "source": [
        "reviews_summary_df.head()"
      ],
      "execution_count": 0,
      "outputs": [
        {
          "output_type": "execute_result",
          "data": {
            "text/html": [
              "<div>\n",
              "<style scoped>\n",
              "    .dataframe tbody tr th:only-of-type {\n",
              "        vertical-align: middle;\n",
              "    }\n",
              "\n",
              "    .dataframe tbody tr th {\n",
              "        vertical-align: top;\n",
              "    }\n",
              "\n",
              "    .dataframe thead th {\n",
              "        text-align: right;\n",
              "    }\n",
              "</style>\n",
              "<table border=\"1\" class=\"dataframe\">\n",
              "  <thead>\n",
              "    <tr style=\"text-align: right;\">\n",
              "      <th></th>\n",
              "      <th>listing_id</th>\n",
              "      <th>date</th>\n",
              "    </tr>\n",
              "  </thead>\n",
              "  <tbody>\n",
              "    <tr>\n",
              "      <th>0</th>\n",
              "      <td>2595</td>\n",
              "      <td>2009-11-21</td>\n",
              "    </tr>\n",
              "    <tr>\n",
              "      <th>1</th>\n",
              "      <td>2595</td>\n",
              "      <td>2009-12-05</td>\n",
              "    </tr>\n",
              "    <tr>\n",
              "      <th>2</th>\n",
              "      <td>2595</td>\n",
              "      <td>2009-12-10</td>\n",
              "    </tr>\n",
              "    <tr>\n",
              "      <th>3</th>\n",
              "      <td>2595</td>\n",
              "      <td>2010-04-09</td>\n",
              "    </tr>\n",
              "    <tr>\n",
              "      <th>4</th>\n",
              "      <td>2595</td>\n",
              "      <td>2010-05-25</td>\n",
              "    </tr>\n",
              "  </tbody>\n",
              "</table>\n",
              "</div>"
            ],
            "text/plain": [
              "   listing_id        date\n",
              "0        2595  2009-11-21\n",
              "1        2595  2009-12-05\n",
              "2        2595  2009-12-10\n",
              "3        2595  2010-04-09\n",
              "4        2595  2010-05-25"
            ]
          },
          "metadata": {
            "tags": []
          },
          "execution_count": 22
        }
      ]
    },
    {
      "cell_type": "markdown",
      "metadata": {
        "id": "RXOS_x5awcdh",
        "colab_type": "text"
      },
      "source": [
        "## File: calendar.csv.gz (detailed)\n",
        "> Detailed Calendar Data for listings in New York City"
      ]
    },
    {
      "cell_type": "code",
      "metadata": {
        "id": "EluU_DY2wcdi",
        "colab_type": "code",
        "outputId": "e6017d16-b67f-45bd-a05b-0278b955978c",
        "colab": {
          "base_uri": "https://localhost:8080/",
          "height": 287
        }
      },
      "source": [
        "calendar_df.describe()"
      ],
      "execution_count": 0,
      "outputs": [
        {
          "output_type": "execute_result",
          "data": {
            "text/html": [
              "<div>\n",
              "<style scoped>\n",
              "    .dataframe tbody tr th:only-of-type {\n",
              "        vertical-align: middle;\n",
              "    }\n",
              "\n",
              "    .dataframe tbody tr th {\n",
              "        vertical-align: top;\n",
              "    }\n",
              "\n",
              "    .dataframe thead th {\n",
              "        text-align: right;\n",
              "    }\n",
              "</style>\n",
              "<table border=\"1\" class=\"dataframe\">\n",
              "  <thead>\n",
              "    <tr style=\"text-align: right;\">\n",
              "      <th></th>\n",
              "      <th>listing_id</th>\n",
              "      <th>minimum_nights</th>\n",
              "      <th>maximum_nights</th>\n",
              "    </tr>\n",
              "  </thead>\n",
              "  <tbody>\n",
              "    <tr>\n",
              "      <th>count</th>\n",
              "      <td>1.847016e+07</td>\n",
              "      <td>1.846950e+07</td>\n",
              "      <td>1.846950e+07</td>\n",
              "    </tr>\n",
              "    <tr>\n",
              "      <th>mean</th>\n",
              "      <td>2.137365e+07</td>\n",
              "      <td>8.528041e+00</td>\n",
              "      <td>6.886948e+05</td>\n",
              "    </tr>\n",
              "    <tr>\n",
              "      <th>std</th>\n",
              "      <td>1.242861e+07</td>\n",
              "      <td>3.029394e+01</td>\n",
              "      <td>3.841186e+07</td>\n",
              "    </tr>\n",
              "    <tr>\n",
              "      <th>min</th>\n",
              "      <td>2.595000e+03</td>\n",
              "      <td>1.000000e+00</td>\n",
              "      <td>1.000000e+00</td>\n",
              "    </tr>\n",
              "    <tr>\n",
              "      <th>25%</th>\n",
              "      <td>1.009889e+07</td>\n",
              "      <td>1.000000e+00</td>\n",
              "      <td>2.900000e+01</td>\n",
              "    </tr>\n",
              "    <tr>\n",
              "      <th>50%</th>\n",
              "      <td>2.154642e+07</td>\n",
              "      <td>3.000000e+00</td>\n",
              "      <td>1.125000e+03</td>\n",
              "    </tr>\n",
              "    <tr>\n",
              "      <th>75%</th>\n",
              "      <td>3.271789e+07</td>\n",
              "      <td>5.000000e+00</td>\n",
              "      <td>1.125000e+03</td>\n",
              "    </tr>\n",
              "    <tr>\n",
              "      <th>max</th>\n",
              "      <td>4.058402e+07</td>\n",
              "      <td>3.456000e+03</td>\n",
              "      <td>2.147484e+09</td>\n",
              "    </tr>\n",
              "  </tbody>\n",
              "</table>\n",
              "</div>"
            ],
            "text/plain": [
              "         listing_id  minimum_nights  maximum_nights\n",
              "count  1.847016e+07    1.846950e+07    1.846950e+07\n",
              "mean   2.137365e+07    8.528041e+00    6.886948e+05\n",
              "std    1.242861e+07    3.029394e+01    3.841186e+07\n",
              "min    2.595000e+03    1.000000e+00    1.000000e+00\n",
              "25%    1.009889e+07    1.000000e+00    2.900000e+01\n",
              "50%    2.154642e+07    3.000000e+00    1.125000e+03\n",
              "75%    3.271789e+07    5.000000e+00    1.125000e+03\n",
              "max    4.058402e+07    3.456000e+03    2.147484e+09"
            ]
          },
          "metadata": {
            "tags": []
          },
          "execution_count": 23
        }
      ]
    },
    {
      "cell_type": "code",
      "metadata": {
        "id": "MczYlbSqwcdl",
        "colab_type": "code",
        "outputId": "4c137b29-aded-43e7-bfe7-d50a6ad0c7cc",
        "colab": {
          "base_uri": "https://localhost:8080/",
          "height": 283
        }
      },
      "source": [
        "summarizeData(calendar_df)"
      ],
      "execution_count": 0,
      "outputs": [
        {
          "output_type": "stream",
          "text": [
            "Number of Variables: 7\n",
            "\n",
            "Number of Observations: 18470156\n",
            "\n",
            "Data types:\n",
            "object     4\n",
            "float64    2\n",
            "int64      1\n",
            "dtype: int64\n",
            "\n",
            "Column Names by Type:\n",
            "\n",
            "(dtype('int64'), Index(['listing_id'], dtype='object'))\n",
            "(dtype('float64'), Index(['minimum_nights', 'maximum_nights'], dtype='object'))\n",
            "(dtype('O'), Index(['date', 'available', 'price', 'adjusted_price'], dtype='object'))\n"
          ],
          "name": "stdout"
        }
      ]
    },
    {
      "cell_type": "markdown",
      "metadata": {
        "id": "tThbSvsGwcdo",
        "colab_type": "text"
      },
      "source": [
        "### Sample Observation"
      ]
    },
    {
      "cell_type": "code",
      "metadata": {
        "id": "7MXefV3Kwcdp",
        "colab_type": "code",
        "outputId": "08212d0a-be86-46a8-d6a9-1d56b7354560",
        "colab": {
          "base_uri": "https://localhost:8080/",
          "height": 197
        }
      },
      "source": [
        "calendar_df.head()"
      ],
      "execution_count": 0,
      "outputs": [
        {
          "output_type": "execute_result",
          "data": {
            "text/html": [
              "<div>\n",
              "<style scoped>\n",
              "    .dataframe tbody tr th:only-of-type {\n",
              "        vertical-align: middle;\n",
              "    }\n",
              "\n",
              "    .dataframe tbody tr th {\n",
              "        vertical-align: top;\n",
              "    }\n",
              "\n",
              "    .dataframe thead th {\n",
              "        text-align: right;\n",
              "    }\n",
              "</style>\n",
              "<table border=\"1\" class=\"dataframe\">\n",
              "  <thead>\n",
              "    <tr style=\"text-align: right;\">\n",
              "      <th></th>\n",
              "      <th>listing_id</th>\n",
              "      <th>date</th>\n",
              "      <th>available</th>\n",
              "      <th>price</th>\n",
              "      <th>adjusted_price</th>\n",
              "      <th>minimum_nights</th>\n",
              "      <th>maximum_nights</th>\n",
              "    </tr>\n",
              "  </thead>\n",
              "  <tbody>\n",
              "    <tr>\n",
              "      <th>0</th>\n",
              "      <td>19812</td>\n",
              "      <td>2019-12-05</td>\n",
              "      <td>f</td>\n",
              "      <td>$105.00</td>\n",
              "      <td>$105.00</td>\n",
              "      <td>3.0</td>\n",
              "      <td>90.0</td>\n",
              "    </tr>\n",
              "    <tr>\n",
              "      <th>1</th>\n",
              "      <td>2595</td>\n",
              "      <td>2019-12-06</td>\n",
              "      <td>f</td>\n",
              "      <td>$175.00</td>\n",
              "      <td>$175.00</td>\n",
              "      <td>10.0</td>\n",
              "      <td>1125.0</td>\n",
              "    </tr>\n",
              "    <tr>\n",
              "      <th>2</th>\n",
              "      <td>2595</td>\n",
              "      <td>2019-12-07</td>\n",
              "      <td>f</td>\n",
              "      <td>$175.00</td>\n",
              "      <td>$175.00</td>\n",
              "      <td>10.0</td>\n",
              "      <td>1125.0</td>\n",
              "    </tr>\n",
              "    <tr>\n",
              "      <th>3</th>\n",
              "      <td>2595</td>\n",
              "      <td>2019-12-08</td>\n",
              "      <td>f</td>\n",
              "      <td>$175.00</td>\n",
              "      <td>$175.00</td>\n",
              "      <td>10.0</td>\n",
              "      <td>1125.0</td>\n",
              "    </tr>\n",
              "    <tr>\n",
              "      <th>4</th>\n",
              "      <td>2595</td>\n",
              "      <td>2019-12-09</td>\n",
              "      <td>f</td>\n",
              "      <td>$175.00</td>\n",
              "      <td>$175.00</td>\n",
              "      <td>10.0</td>\n",
              "      <td>1125.0</td>\n",
              "    </tr>\n",
              "  </tbody>\n",
              "</table>\n",
              "</div>"
            ],
            "text/plain": [
              "   listing_id        date  ... minimum_nights maximum_nights\n",
              "0       19812  2019-12-05  ...            3.0           90.0\n",
              "1        2595  2019-12-06  ...           10.0         1125.0\n",
              "2        2595  2019-12-07  ...           10.0         1125.0\n",
              "3        2595  2019-12-08  ...           10.0         1125.0\n",
              "4        2595  2019-12-09  ...           10.0         1125.0\n",
              "\n",
              "[5 rows x 7 columns]"
            ]
          },
          "metadata": {
            "tags": []
          },
          "execution_count": 25
        }
      ]
    },
    {
      "cell_type": "markdown",
      "metadata": {
        "id": "NDyVd-xowcdt",
        "colab_type": "text"
      },
      "source": [
        "## File: neighbourhoods.csv\n",
        "> Neighbourhood list for geo filter. Sourced from city or open source GIS files."
      ]
    },
    {
      "cell_type": "code",
      "metadata": {
        "id": "vBumdO7Nwcdt",
        "colab_type": "code",
        "outputId": "0694fc7a-f596-49c1-a7a1-207fbaad845e",
        "colab": {
          "base_uri": "https://localhost:8080/",
          "height": 168
        }
      },
      "source": [
        "neighbourhoods_df.describe()"
      ],
      "execution_count": 9,
      "outputs": [
        {
          "output_type": "execute_result",
          "data": {
            "text/html": [
              "<div>\n",
              "<style scoped>\n",
              "    .dataframe tbody tr th:only-of-type {\n",
              "        vertical-align: middle;\n",
              "    }\n",
              "\n",
              "    .dataframe tbody tr th {\n",
              "        vertical-align: top;\n",
              "    }\n",
              "\n",
              "    .dataframe thead th {\n",
              "        text-align: right;\n",
              "    }\n",
              "</style>\n",
              "<table border=\"1\" class=\"dataframe\">\n",
              "  <thead>\n",
              "    <tr style=\"text-align: right;\">\n",
              "      <th></th>\n",
              "      <th>neighbourhood_group</th>\n",
              "      <th>neighbourhood</th>\n",
              "    </tr>\n",
              "  </thead>\n",
              "  <tbody>\n",
              "    <tr>\n",
              "      <th>count</th>\n",
              "      <td>230</td>\n",
              "      <td>230</td>\n",
              "    </tr>\n",
              "    <tr>\n",
              "      <th>unique</th>\n",
              "      <td>5</td>\n",
              "      <td>230</td>\n",
              "    </tr>\n",
              "    <tr>\n",
              "      <th>top</th>\n",
              "      <td>Queens</td>\n",
              "      <td>Pelham Gardens</td>\n",
              "    </tr>\n",
              "    <tr>\n",
              "      <th>freq</th>\n",
              "      <td>53</td>\n",
              "      <td>1</td>\n",
              "    </tr>\n",
              "  </tbody>\n",
              "</table>\n",
              "</div>"
            ],
            "text/plain": [
              "       neighbourhood_group   neighbourhood\n",
              "count                  230             230\n",
              "unique                   5             230\n",
              "top                 Queens  Pelham Gardens\n",
              "freq                    53               1"
            ]
          },
          "metadata": {
            "tags": []
          },
          "execution_count": 9
        }
      ]
    },
    {
      "cell_type": "code",
      "metadata": {
        "id": "Gplut-fkwcdx",
        "colab_type": "code",
        "outputId": "8ced3802-912b-44ca-c5d4-2f4efe5b1b39",
        "colab": {
          "base_uri": "https://localhost:8080/",
          "height": 212
        }
      },
      "source": [
        "summarizeData(neighbourhoods_df)"
      ],
      "execution_count": 0,
      "outputs": [
        {
          "output_type": "stream",
          "text": [
            "Number of Variables: 2\n",
            "\n",
            "Number of Observations: 230\n",
            "\n",
            "Data types:\n",
            "object    2\n",
            "dtype: int64\n",
            "\n",
            "Column Names by Type:\n",
            "\n",
            "(dtype('O'), Index(['neighbourhood_group', 'neighbourhood'], dtype='object'))\n"
          ],
          "name": "stdout"
        }
      ]
    },
    {
      "cell_type": "markdown",
      "metadata": {
        "id": "O5fIwooEwcdz",
        "colab_type": "text"
      },
      "source": [
        "### Sample Observation"
      ]
    },
    {
      "cell_type": "code",
      "metadata": {
        "id": "pRoEco91wcd0",
        "colab_type": "code",
        "outputId": "d4e1b64e-010e-4478-eeda-6ead5568a6f5",
        "colab": {
          "base_uri": "https://localhost:8080/",
          "height": 197
        }
      },
      "source": [
        "neighbourhoods_df.head()"
      ],
      "execution_count": 0,
      "outputs": [
        {
          "output_type": "execute_result",
          "data": {
            "text/html": [
              "<div>\n",
              "<style scoped>\n",
              "    .dataframe tbody tr th:only-of-type {\n",
              "        vertical-align: middle;\n",
              "    }\n",
              "\n",
              "    .dataframe tbody tr th {\n",
              "        vertical-align: top;\n",
              "    }\n",
              "\n",
              "    .dataframe thead th {\n",
              "        text-align: right;\n",
              "    }\n",
              "</style>\n",
              "<table border=\"1\" class=\"dataframe\">\n",
              "  <thead>\n",
              "    <tr style=\"text-align: right;\">\n",
              "      <th></th>\n",
              "      <th>neighbourhood_group</th>\n",
              "      <th>neighbourhood</th>\n",
              "    </tr>\n",
              "  </thead>\n",
              "  <tbody>\n",
              "    <tr>\n",
              "      <th>0</th>\n",
              "      <td>Bronx</td>\n",
              "      <td>Allerton</td>\n",
              "    </tr>\n",
              "    <tr>\n",
              "      <th>1</th>\n",
              "      <td>Bronx</td>\n",
              "      <td>Baychester</td>\n",
              "    </tr>\n",
              "    <tr>\n",
              "      <th>2</th>\n",
              "      <td>Bronx</td>\n",
              "      <td>Belmont</td>\n",
              "    </tr>\n",
              "    <tr>\n",
              "      <th>3</th>\n",
              "      <td>Bronx</td>\n",
              "      <td>Bronxdale</td>\n",
              "    </tr>\n",
              "    <tr>\n",
              "      <th>4</th>\n",
              "      <td>Bronx</td>\n",
              "      <td>Castle Hill</td>\n",
              "    </tr>\n",
              "  </tbody>\n",
              "</table>\n",
              "</div>"
            ],
            "text/plain": [
              "  neighbourhood_group neighbourhood\n",
              "0               Bronx      Allerton\n",
              "1               Bronx    Baychester\n",
              "2               Bronx       Belmont\n",
              "3               Bronx     Bronxdale\n",
              "4               Bronx   Castle Hill"
            ]
          },
          "metadata": {
            "tags": []
          },
          "execution_count": 29
        }
      ]
    },
    {
      "cell_type": "markdown",
      "metadata": {
        "id": "IK6Hw1v3wcd2",
        "colab_type": "text"
      },
      "source": [
        "## File: neighbourhoods.geojson\n",
        "> GeoJSON file of neighbourhoods of the city"
      ]
    },
    {
      "cell_type": "code",
      "metadata": {
        "id": "YrHcilwowcd5",
        "colab_type": "code",
        "outputId": "00a19511-caaf-4a71-f9ea-dc269e7daa82",
        "colab": {
          "base_uri": "https://localhost:8080/",
          "height": 36
        }
      },
      "source": [
        "geo.keys()"
      ],
      "execution_count": 0,
      "outputs": [
        {
          "output_type": "execute_result",
          "data": {
            "text/plain": [
              "dict_keys(['type', 'features'])"
            ]
          },
          "metadata": {
            "tags": []
          },
          "execution_count": 16
        }
      ]
    },
    {
      "cell_type": "code",
      "metadata": {
        "id": "2ShGoRlnHArN",
        "colab_type": "code",
        "outputId": "38d8269e-b54f-4135-b7c7-7431f2c19258",
        "colab": {
          "base_uri": "https://localhost:8080/",
          "height": 36
        }
      },
      "source": [
        "geo['type']"
      ],
      "execution_count": 0,
      "outputs": [
        {
          "output_type": "execute_result",
          "data": {
            "text/plain": [
              "'FeatureCollection'"
            ]
          },
          "metadata": {
            "tags": []
          },
          "execution_count": 17
        }
      ]
    },
    {
      "cell_type": "code",
      "metadata": {
        "id": "TKwlMUYUHCq0",
        "colab_type": "code",
        "outputId": "075061ea-c065-4c3e-8711-98e97c231c98",
        "colab": {
          "base_uri": "https://localhost:8080/",
          "height": 36
        }
      },
      "source": [
        "print(\"There are {:d} feature sets in the collection\".format(len(geo['features'])))"
      ],
      "execution_count": 0,
      "outputs": [
        {
          "output_type": "stream",
          "text": [
            "There are 233 feature sets in the collection\n"
          ],
          "name": "stdout"
        }
      ]
    },
    {
      "cell_type": "markdown",
      "metadata": {
        "id": "RJ0np-SJwceC",
        "colab_type": "text"
      },
      "source": [
        "### Sample Observation"
      ]
    },
    {
      "cell_type": "code",
      "metadata": {
        "id": "rQcRqtdAAsxo",
        "colab_type": "code",
        "outputId": "845f0c7c-ec40-4b9c-96a5-7b9df0724295",
        "colab": {
          "base_uri": "https://localhost:8080/",
          "height": 225
        }
      },
      "source": [
        "# inspect first feature set\n",
        "geo['features'][0]"
      ],
      "execution_count": 0,
      "outputs": [
        {
          "output_type": "execute_result",
          "data": {
            "text/plain": [
              "{'geometry': {'coordinates': [[[[-73.766708, 40.614911],\n",
              "     [-73.768253, 40.614878],\n",
              "     [-73.773977, 40.616004],\n",
              "     [-73.773631, 40.616327],\n",
              "     [-73.768735, 40.620901],\n",
              "     [-73.767459, 40.620511],\n",
              "     [-73.766978, 40.616919],\n",
              "     [-73.766708, 40.614911]]]],\n",
              "  'type': 'MultiPolygon'},\n",
              " 'properties': {'neighbourhood': 'Bayswater', 'neighbourhood_group': 'Queens'},\n",
              " 'type': 'Feature'}"
            ]
          },
          "metadata": {
            "tags": []
          },
          "execution_count": 19
        }
      ]
    },
    {
      "cell_type": "markdown",
      "metadata": {
        "id": "rf4yy_tdHV0R",
        "colab_type": "text"
      },
      "source": [
        "Each feature set contains latitude and longitude coordinates specific to neighbourhood and neighbourhood group."
      ]
    },
    {
      "cell_type": "code",
      "metadata": {
        "id": "H1axXab7HbIk",
        "colab_type": "code",
        "outputId": "5eb568c2-fbb0-420b-9cd7-6fb6b5f54f28",
        "colab": {
          "base_uri": "https://localhost:8080/",
          "height": 36
        }
      },
      "source": [
        "# all neighbourhood groups\n",
        "neighbourhoodgroups = set([f['properties']['neighbourhood_group'] for f in geo['features']])\n",
        "print(neighbourhoodgroups)"
      ],
      "execution_count": 0,
      "outputs": [
        {
          "output_type": "stream",
          "text": [
            "{'Manhattan', 'Brooklyn', 'Bronx', 'Staten Island', 'Queens'}\n"
          ],
          "name": "stdout"
        }
      ]
    },
    {
      "cell_type": "code",
      "metadata": {
        "id": "TxvmTM0fHsAq",
        "colab_type": "code",
        "outputId": "226d8508-31b3-49ad-9eff-a93e150b2b4b",
        "colab": {
          "base_uri": "https://localhost:8080/",
          "height": 509
        }
      },
      "source": [
        "# all neighbourhoods by neighbourhood group\n",
        "for group in neighbourhoodgroups:\n",
        "    # neighbourhoods respective to neighbourhood group\n",
        "    nnames = [f['properties']['neighbourhood'] for f in geo['features'] if f['properties']['neighbourhood_group'] == group]\n",
        "    print('\\n',\"group:\",group)\n",
        "    print(\" neighbourhoods:{:d}\".format(len(nnames)),'\\n')\n",
        "    print(nnames)"
      ],
      "execution_count": 0,
      "outputs": [
        {
          "output_type": "stream",
          "text": [
            "\n",
            " group: Manhattan\n",
            " neighbourhoods:32 \n",
            "\n",
            "['Battery Park City', 'Chinatown', 'Chelsea', 'Civic Center', 'East Harlem', 'East Village', 'Financial District', 'Flatiron District', 'Gramercy', 'Greenwich Village', 'Harlem', \"Hell's Kitchen\", 'Inwood', 'Kips Bay', 'Little Italy', 'Murray Hill', 'Lower East Side', 'Marble Hill', 'Midtown', 'Morningside Heights', 'NoHo', 'Nolita', 'SoHo', 'Roosevelt Island', 'Stuyvesant Town', 'Theater District', 'Tribeca', 'Two Bridges', 'Upper East Side', 'Upper West Side', 'Washington Heights', 'West Village']\n",
            "\n",
            " group: Brooklyn\n",
            " neighbourhoods:48 \n",
            "\n",
            "['Bay Ridge', 'Gerritsen Beach', 'Bath Beach', 'Bedford-Stuyvesant', 'Bensonhurst', 'Bergen Beach', 'Boerum Hill', 'Borough Park', 'Brighton Beach', 'Prospect-Lefferts Gardens', 'Brooklyn Heights', 'Brownsville', 'Bushwick', 'Cypress Hills', 'Canarsie', 'Carroll Gardens', 'Clinton Hill', 'Cobble Hill', 'Crown Heights', 'Columbia St', 'Coney Island', 'DUMBO', 'Downtown Brooklyn', 'Dyker Heights', 'East Flatbush', 'East New York', 'Flatbush', 'Flatlands', 'Gowanus', 'Fort Greene', 'Fort Hamilton', 'Gravesend', 'Kensington', 'Greenpoint', 'Manhattan Beach', 'Midwood', 'Mill Basin', 'Navy Yard', 'Park Slope', 'Prospect Heights', 'Red Hook', 'Sea Gate', 'Sheepshead Bay', 'South Slope', 'Sunset Park', 'Vinegar Hill', 'Windsor Terrace', 'Williamsburg']\n",
            "\n",
            " group: Bronx\n",
            " neighbourhoods:50 \n",
            "\n",
            "['Allerton', 'City Island', 'Fordham', 'Belmont', 'Soundview', 'Baychester', 'Mott Haven', 'Bronxdale', 'City Island', 'Castle Hill', 'Claremont Village', 'Clason Point', 'Co-op City', 'Concourse', 'Concourse Village', 'Mount Eden', 'Country Club', 'Mount Hope', 'East Morrisania', 'Fieldston', 'Eastchester', 'Edenwald', 'Parkchester', 'Pelham Bay', 'Highbridge', 'Pelham Gardens', 'Hunts Point', 'Morris Park', 'Kingsbridge', 'Morrisania', 'Longwood', 'Norwood', 'Morris Heights', 'Melrose', 'Olinville', 'North Riverdale', 'Port Morris', 'Riverdale', 'Schuylerville', 'Spuyten Duyvil', 'Van Nest', 'Throgs Neck', 'Tremont', 'Unionport', 'University Heights', 'Wakefield', 'West Farms', 'Woodlawn', 'Westchester Square', 'Williamsbridge']\n",
            "\n",
            " group: Staten Island\n",
            " neighbourhoods:48 \n",
            "\n",
            "['Arden Heights', 'Arrochar', 'Port Ivory', 'Bay Terrace, Staten Island', 'Bloomfield', \"Bull's Head\", 'Chelsea, Staten Island', 'Castleton Corners', 'Grant City', 'Charleston', 'Clifton', 'Concord', 'Dongan Hills', 'Eltingville', 'Emerson Hill', 'Shore Acres', 'Fort Wadsworth', 'Graniteville', 'Great Kills', 'Huguenot', 'Grymes Hill', 'Howland Hook', 'Lighthouse Hill', 'Oakwood', 'Pleasant Plains', 'Mariners Harbor', 'Midland Beach', 'New Brighton', 'New Dorp', 'New Dorp Beach', 'New Springville', 'Port Richmond', \"Prince's Bay\", 'Randall Manor', 'Silver Lake', 'Woodrow', 'Richmondtown', 'Rosebank', 'Rossville', 'South Beach', 'Tompkinsville', 'St. George', 'Stapleton', 'Todt Hill', 'Tottenville', 'West Brighton', 'Westerleigh', 'Willowbrook']\n",
            "\n",
            " group: Queens\n",
            " neighbourhoods:55 \n",
            "\n",
            "['Bayswater', 'Ditmars Steinway', 'Ozone Park', 'Whitestone', 'Arverne', 'Astoria', 'Bayside', 'Bay Terrace', 'Bayswater', 'Belle Harbor', 'Bellerose', 'Breezy Point', 'Briarwood', 'Cambria Heights', 'College Point', 'Corona', 'Jamaica Hills', 'Douglaston', 'Glen Oaks', 'East Elmhurst', 'Elmhurst', 'Edgemere', 'Glendale', 'Far Rockaway', 'Jamaica Estates', 'Laurelton', 'Flushing', 'Forest Hills', 'Fresh Meadows', 'Kew Gardens', 'Queens Village', 'Hollis', 'Hollis Hills', 'Holliswood', 'Howard Beach', 'Howard Beach', 'Jackson Heights', 'Jamaica', 'Kew Gardens Hills', 'Little Neck', 'Long Island City', 'Maspeth', 'Middle Village', 'Neponsit', 'Rego Park', 'Richmond Hill', 'Ridgewood', 'Rockaway Beach', 'Rosedale', 'South Ozone Park', 'Springfield Gardens', 'St. Albans', 'Sunnyside', 'Woodside', 'Woodhaven']\n"
          ],
          "name": "stdout"
        }
      ]
    },
    {
      "cell_type": "markdown",
      "metadata": {
        "id": "pgfyOyGClFQv",
        "colab_type": "text"
      },
      "source": [
        "# How neighborhood affects rental price?\n",
        "\n"
      ]
    },
    {
      "cell_type": "code",
      "metadata": {
        "id": "jBJ0s5dnlYJR",
        "colab_type": "code",
        "colab": {
          "base_uri": "https://localhost:8080/",
          "height": 391
        },
        "outputId": "b714dab8-7b32-4313-f91a-ef4ee75759da"
      },
      "source": [
        "listings_summary_df.head()"
      ],
      "execution_count": 13,
      "outputs": [
        {
          "output_type": "execute_result",
          "data": {
            "text/html": [
              "<div>\n",
              "<style scoped>\n",
              "    .dataframe tbody tr th:only-of-type {\n",
              "        vertical-align: middle;\n",
              "    }\n",
              "\n",
              "    .dataframe tbody tr th {\n",
              "        vertical-align: top;\n",
              "    }\n",
              "\n",
              "    .dataframe thead th {\n",
              "        text-align: right;\n",
              "    }\n",
              "</style>\n",
              "<table border=\"1\" class=\"dataframe\">\n",
              "  <thead>\n",
              "    <tr style=\"text-align: right;\">\n",
              "      <th></th>\n",
              "      <th>id</th>\n",
              "      <th>name</th>\n",
              "      <th>host_id</th>\n",
              "      <th>host_name</th>\n",
              "      <th>neighbourhood_group</th>\n",
              "      <th>neighbourhood</th>\n",
              "      <th>latitude</th>\n",
              "      <th>longitude</th>\n",
              "      <th>room_type</th>\n",
              "      <th>price</th>\n",
              "      <th>minimum_nights</th>\n",
              "      <th>number_of_reviews</th>\n",
              "      <th>last_review</th>\n",
              "      <th>reviews_per_month</th>\n",
              "      <th>calculated_host_listings_count</th>\n",
              "      <th>availability_365</th>\n",
              "    </tr>\n",
              "  </thead>\n",
              "  <tbody>\n",
              "    <tr>\n",
              "      <th>0</th>\n",
              "      <td>2595</td>\n",
              "      <td>Skylit Midtown Castle</td>\n",
              "      <td>2845</td>\n",
              "      <td>Jennifer</td>\n",
              "      <td>Manhattan</td>\n",
              "      <td>Midtown</td>\n",
              "      <td>40.75362</td>\n",
              "      <td>-73.98377</td>\n",
              "      <td>Entire home/apt</td>\n",
              "      <td>225</td>\n",
              "      <td>10</td>\n",
              "      <td>48</td>\n",
              "      <td>2019-11-04</td>\n",
              "      <td>0.39</td>\n",
              "      <td>1</td>\n",
              "      <td>1</td>\n",
              "    </tr>\n",
              "    <tr>\n",
              "      <th>1</th>\n",
              "      <td>3831</td>\n",
              "      <td>Cozy Entire Floor of Brownstone</td>\n",
              "      <td>4869</td>\n",
              "      <td>LisaRoxanne</td>\n",
              "      <td>Brooklyn</td>\n",
              "      <td>Clinton Hill</td>\n",
              "      <td>40.68514</td>\n",
              "      <td>-73.95976</td>\n",
              "      <td>Entire home/apt</td>\n",
              "      <td>89</td>\n",
              "      <td>1</td>\n",
              "      <td>295</td>\n",
              "      <td>2019-11-22</td>\n",
              "      <td>4.67</td>\n",
              "      <td>1</td>\n",
              "      <td>1</td>\n",
              "    </tr>\n",
              "    <tr>\n",
              "      <th>2</th>\n",
              "      <td>5099</td>\n",
              "      <td>Large Cozy 1 BR Apartment In Midtown East</td>\n",
              "      <td>7322</td>\n",
              "      <td>Chris</td>\n",
              "      <td>Manhattan</td>\n",
              "      <td>Murray Hill</td>\n",
              "      <td>40.74767</td>\n",
              "      <td>-73.97500</td>\n",
              "      <td>Entire home/apt</td>\n",
              "      <td>200</td>\n",
              "      <td>3</td>\n",
              "      <td>78</td>\n",
              "      <td>2019-10-13</td>\n",
              "      <td>0.60</td>\n",
              "      <td>1</td>\n",
              "      <td>19</td>\n",
              "    </tr>\n",
              "    <tr>\n",
              "      <th>3</th>\n",
              "      <td>5121</td>\n",
              "      <td>BlissArtsSpace!</td>\n",
              "      <td>7356</td>\n",
              "      <td>Garon</td>\n",
              "      <td>Brooklyn</td>\n",
              "      <td>Bedford-Stuyvesant</td>\n",
              "      <td>40.68688</td>\n",
              "      <td>-73.95596</td>\n",
              "      <td>Private room</td>\n",
              "      <td>60</td>\n",
              "      <td>29</td>\n",
              "      <td>49</td>\n",
              "      <td>2017-10-05</td>\n",
              "      <td>0.38</td>\n",
              "      <td>1</td>\n",
              "      <td>365</td>\n",
              "    </tr>\n",
              "    <tr>\n",
              "      <th>4</th>\n",
              "      <td>5178</td>\n",
              "      <td>Large Furnished Room Near B'way</td>\n",
              "      <td>8967</td>\n",
              "      <td>Shunichi</td>\n",
              "      <td>Manhattan</td>\n",
              "      <td>Hell's Kitchen</td>\n",
              "      <td>40.76489</td>\n",
              "      <td>-73.98493</td>\n",
              "      <td>Private room</td>\n",
              "      <td>79</td>\n",
              "      <td>2</td>\n",
              "      <td>454</td>\n",
              "      <td>2019-11-21</td>\n",
              "      <td>3.52</td>\n",
              "      <td>1</td>\n",
              "      <td>242</td>\n",
              "    </tr>\n",
              "  </tbody>\n",
              "</table>\n",
              "</div>"
            ],
            "text/plain": [
              "     id  ... availability_365\n",
              "0  2595  ...                1\n",
              "1  3831  ...                1\n",
              "2  5099  ...               19\n",
              "3  5121  ...              365\n",
              "4  5178  ...              242\n",
              "\n",
              "[5 rows x 16 columns]"
            ]
          },
          "metadata": {
            "tags": []
          },
          "execution_count": 13
        }
      ]
    },
    {
      "cell_type": "code",
      "metadata": {
        "id": "kO0fxHF6oEeL",
        "colab_type": "code",
        "colab": {
          "base_uri": "https://localhost:8080/",
          "height": 198
        },
        "outputId": "8ad08d1b-bcf8-4b46-e175-cd8b28106b3c"
      },
      "source": [
        "listings_neighbourhood_df = listings_summary_df[['price','neighbourhood','neighbourhood_group']]\n",
        "listings_neighbourhood_df.head()"
      ],
      "execution_count": 50,
      "outputs": [
        {
          "output_type": "execute_result",
          "data": {
            "text/html": [
              "<div>\n",
              "<style scoped>\n",
              "    .dataframe tbody tr th:only-of-type {\n",
              "        vertical-align: middle;\n",
              "    }\n",
              "\n",
              "    .dataframe tbody tr th {\n",
              "        vertical-align: top;\n",
              "    }\n",
              "\n",
              "    .dataframe thead th {\n",
              "        text-align: right;\n",
              "    }\n",
              "</style>\n",
              "<table border=\"1\" class=\"dataframe\">\n",
              "  <thead>\n",
              "    <tr style=\"text-align: right;\">\n",
              "      <th></th>\n",
              "      <th>price</th>\n",
              "      <th>neighbourhood</th>\n",
              "      <th>neighbourhood_group</th>\n",
              "    </tr>\n",
              "  </thead>\n",
              "  <tbody>\n",
              "    <tr>\n",
              "      <th>0</th>\n",
              "      <td>225</td>\n",
              "      <td>Midtown</td>\n",
              "      <td>Manhattan</td>\n",
              "    </tr>\n",
              "    <tr>\n",
              "      <th>1</th>\n",
              "      <td>89</td>\n",
              "      <td>Clinton Hill</td>\n",
              "      <td>Brooklyn</td>\n",
              "    </tr>\n",
              "    <tr>\n",
              "      <th>2</th>\n",
              "      <td>200</td>\n",
              "      <td>Murray Hill</td>\n",
              "      <td>Manhattan</td>\n",
              "    </tr>\n",
              "    <tr>\n",
              "      <th>3</th>\n",
              "      <td>60</td>\n",
              "      <td>Bedford-Stuyvesant</td>\n",
              "      <td>Brooklyn</td>\n",
              "    </tr>\n",
              "    <tr>\n",
              "      <th>4</th>\n",
              "      <td>79</td>\n",
              "      <td>Hell's Kitchen</td>\n",
              "      <td>Manhattan</td>\n",
              "    </tr>\n",
              "  </tbody>\n",
              "</table>\n",
              "</div>"
            ],
            "text/plain": [
              "   price       neighbourhood neighbourhood_group\n",
              "0    225             Midtown           Manhattan\n",
              "1     89        Clinton Hill            Brooklyn\n",
              "2    200         Murray Hill           Manhattan\n",
              "3     60  Bedford-Stuyvesant            Brooklyn\n",
              "4     79      Hell's Kitchen           Manhattan"
            ]
          },
          "metadata": {
            "tags": []
          },
          "execution_count": 50
        }
      ]
    },
    {
      "cell_type": "code",
      "metadata": {
        "id": "mTBRI7GSttcG",
        "colab_type": "code",
        "colab": {
          "base_uri": "https://localhost:8080/",
          "height": 121
        },
        "outputId": "ed3e2a03-38e0-423e-be8c-79dcf18afce3"
      },
      "source": [
        "#from pandas import factorize\n",
        "listings_neighbourhood_df['neighbourhood_factor'] = listings_neighbourhood_df['neighbourhood'].factorize()[0]\n",
        "#listings_neighbourhood_df['neighbourhood'].factorize()[0]"
      ],
      "execution_count": 65,
      "outputs": [
        {
          "output_type": "stream",
          "text": [
            "/usr/local/lib/python3.6/dist-packages/ipykernel_launcher.py:1: SettingWithCopyWarning: \n",
            "A value is trying to be set on a copy of a slice from a DataFrame.\n",
            "Try using .loc[row_indexer,col_indexer] = value instead\n",
            "\n",
            "See the caveats in the documentation: http://pandas.pydata.org/pandas-docs/stable/user_guide/indexing.html#returning-a-view-versus-a-copy\n",
            "  \"\"\"Entry point for launching an IPython kernel.\n"
          ],
          "name": "stderr"
        }
      ]
    },
    {
      "cell_type": "code",
      "metadata": {
        "id": "2EAtw4zVvmA8",
        "colab_type": "code",
        "colab": {
          "base_uri": "https://localhost:8080/",
          "height": 121
        },
        "outputId": "f2ed81cd-2176-4332-c411-900755fb7f09"
      },
      "source": [
        "listings_neighbourhood_df['neighbourhood_group_factor'] = listings_neighbourhood_df['neighbourhood_group'].factorize()[0]"
      ],
      "execution_count": 67,
      "outputs": [
        {
          "output_type": "stream",
          "text": [
            "/usr/local/lib/python3.6/dist-packages/ipykernel_launcher.py:1: SettingWithCopyWarning: \n",
            "A value is trying to be set on a copy of a slice from a DataFrame.\n",
            "Try using .loc[row_indexer,col_indexer] = value instead\n",
            "\n",
            "See the caveats in the documentation: http://pandas.pydata.org/pandas-docs/stable/user_guide/indexing.html#returning-a-view-versus-a-copy\n",
            "  \"\"\"Entry point for launching an IPython kernel.\n"
          ],
          "name": "stderr"
        }
      ]
    },
    {
      "cell_type": "code",
      "metadata": {
        "id": "ucPTonvNvE7Q",
        "colab_type": "code",
        "colab": {}
      },
      "source": [
        "from sklearn import linear_model\n",
        "\n",
        "x = listings_neighbourhood_df[['price']]\n",
        "y = listings_neighbourhood_df[['neighbourhood_factor', 'neighbourhood_group_factor']]\n",
        "\n",
        "lm = linear_model.LinearRegression()\n",
        "model = lm.fit(x,y)\n",
        "\n",
        "chi square test\n",
        "anova analysis variance test"
      ],
      "execution_count": 0,
      "outputs": []
    },
    {
      "cell_type": "code",
      "metadata": {
        "id": "0vuaLjCI0QlI",
        "colab_type": "code",
        "colab": {
          "base_uri": "https://localhost:8080/",
          "height": 165
        },
        "outputId": "70ea8a98-8858-48a1-daa5-ab5d779a1e81"
      },
      "source": [
        "model.summary()"
      ],
      "execution_count": 72,
      "outputs": [
        {
          "output_type": "error",
          "ename": "AttributeError",
          "evalue": "ignored",
          "traceback": [
            "\u001b[0;31m---------------------------------------------------------------------------\u001b[0m",
            "\u001b[0;31mAttributeError\u001b[0m                            Traceback (most recent call last)",
            "\u001b[0;32m<ipython-input-72-5f15418b3570>\u001b[0m in \u001b[0;36m<module>\u001b[0;34m()\u001b[0m\n\u001b[0;32m----> 1\u001b[0;31m \u001b[0mmodel\u001b[0m\u001b[0;34m.\u001b[0m\u001b[0msummary\u001b[0m\u001b[0;34m(\u001b[0m\u001b[0;34m)\u001b[0m\u001b[0;34m\u001b[0m\u001b[0;34m\u001b[0m\u001b[0m\n\u001b[0m",
            "\u001b[0;31mAttributeError\u001b[0m: 'LinearRegression' object has no attribute 'summary'"
          ]
        }
      ]
    }
  ]
}